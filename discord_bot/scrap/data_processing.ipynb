{
 "cells": [
  {
   "attachments": {},
   "cell_type": "markdown",
   "metadata": {},
   "source": [
    "Data Processing"
   ]
  },
  {
   "attachments": {},
   "cell_type": "markdown",
   "metadata": {},
   "source": [
    "Filter HTML files"
   ]
  },
  {
   "cell_type": "code",
   "execution_count": 6,
   "metadata": {},
   "outputs": [],
   "source": [
    "import sqlite3\n",
    "import pandas as pd"
   ]
  },
  {
   "cell_type": "code",
   "execution_count": 7,
   "metadata": {},
   "outputs": [
    {
     "data": {
      "text/plain": [
       "filename    object\n",
       "title       object\n",
       "text        object\n",
       "dtype: object"
      ]
     },
     "execution_count": 7,
     "metadata": {},
     "output_type": "execute_result"
    }
   ],
   "source": [
    "database = 'html.sqlite'\n",
    "sql = \"\"\"\n",
    "SELECT filename, title, text\n",
    "FROM html_attrs\n",
    "\"\"\"\n",
    "\n",
    "con = sqlite3.connect(database)\n",
    "html_df = pd.read_sql_query(sql, con)\n",
    "con.close()\n",
    "\n",
    "html_df.dtypes"
   ]
  },
  {
   "attachments": {},
   "cell_type": "markdown",
   "metadata": {},
   "source": [
    "Anfrage:\n",
    "    Schlüsselwörter"
   ]
  },
  {
   "cell_type": "code",
   "execution_count": 9,
   "metadata": {},
   "outputs": [
    {
     "data": {
      "text/plain": [
       "['       Allgemeine Studienberatung  Allgemeine Beratung erhalten Sie von der zentralen  Studienberatung. Die persönlichen Anforderungen, die für ein erfolgreiches Studium wichtig sind, haben wir zusammengestellt.        Studienfachberatung Informatik, Medieninformatik und Wirtschaftsinformatik  Wir wollen, dass Sie erfolgreich studieren! Wir beraten Sie vor Beginn und während des Studiums. Wir informieren Sie in regelmäßigen Veranstaltungen. Wir vermitteln Ansprechpartner wie Professoren, Kommissionen, Externe. Sie erreichen uns zu den ausgehängten Sprechzeiten bzw. über Telefon oder per E-Mail.            Bachelor - Studiengang Informatik - Studiengang Medieninformatik       Bachelor - Studiengang Informatik - Studiengang Medieninformatik         Name  Kontakt            Christian  Schiedermeier     Prof. Dr.-Ing.      telefon  +49 (0)911 5880 - 1179     email  christian.schiedermeier at th-nuernberg Punkt de     fax  +49 (0)911 5880 - 5666               Bachelor - Studiengang Wirtschaftsinformatik       Bachelor - Studiengang Wirtschaftsinformatik         Name  Kontakt            Rainer  Groß     Prof. Dr. rer. pol.      telefon  +49 (0)911 5880 - 1660     email  rainer.gross at th-nuernberg Punkt de     fax  +49 (0)911 5880 - 5666               Master - Studiengang Informatik       Master - Studiengang Informatik         Name  Kontakt            Jörg  Roth     Prof. Dr.      telefon  +49 (0)911 5880 - 1169     email  joerg.roth at th-nuernberg Punkt de     fax  +49 (0)911 5880 - 5666               Master - Studiengang Medieninformatik       Master - Studiengang Medieninformatik         Name  Kontakt            Florian  Gallwitz     Prof. Dr.-Ing.      telefon  +49 (0)911 5880 - 1677     email  florian.gallwitz at th-nuernberg Punkt de     fax  +49 (0)911 5880 - 5666               Master - Studiengang Wirtschaftsinformatik       Master - Studiengang Wirtschaftsinformatik         Name  Kontakt            Patricia  Brockmann     Prof. Dr.      telefon  +49 (0)911 5880 - 1170     email  patricia.brockmann at th-nuernberg Punkt de     fax  +49 (0)911 5880 - 5666               Grundpraktikum / Praktisches Semester       Grundpraktikum / Praktisches Semester         Name  Kontakt            Wolfgang  Bremer     Prof. Dr.      telefon  +49 (0)911 5880 - 1285     email  wolfgang.bremer at th-nuernberg Punkt de     fax  +49 (0)911 5880 - 5666                  ',\n",
       " '       Das Grafiklabor steht zu den Hausöffnungszeiten allen Dozenten und Studierenden für Lehrveranstaltungen, Projektarbeiten und freies Arbeiten offen. An 22 PC-Arbeitsplätzen ist eine komplette Arbeitsumgebung unter Microsoft Windows eingerichtet. Die Tische sind blockweise zu Gruppen zusammengestellt, um eine interaktive Lernatmosphäre zu fördern. Ein Beamer mit einer an der Seite angebrachten Leinwand erlaubt den Dozenten begleitende Erläuterungen. Für die Entwicklung fortgeschrittener Anwendungen in den Bereichen Computergrafik und Medienverarbeitung werden die PCs im Winter 2016/2017 mit aktuellen Grafikkarten nachgerüstet. Geplante oder laufende Lehrveranstaltungen behandeln unter anderem die Programmierung von Grafik-Shadern und Computerspielen, Visualisierung, Spracherkennung und Deep Learning.        Leitung  Prof. Dr. Christian Schiedermeier          ',\n",
       " '       Funktionsträger der Fakultät Informatik     Allgemeinwissenschaftliche Wahlpflichtfächer  Prof. Dr. B. Hauer - Fak. AMP    Dekan  Prof. Dr. T. Voit    Bibliotheksangelegenheiten  Prof. Dr. R. Weber    Fachwissenschaftliche Wahlpflichtfächer  Prof. Dr. M. Teßmann    FB-Informationssystem  Dipl. Inf. (FH) R. Ochsenkühn    Fakultätsreferentin  Dipl.-Betriebswirtin (FH) C. Theelke Lisa Betz    Frauenbeauftragte Stv. Frauenbeauftragte  Prof. Dr. P. Brockmann Prof. Dr. H. Schuhbauer    Haushalt  Prof. Dr. H. Schuhbauer Dipl.-Betriebswirtin (FH) C. Theelke    Hochschulkooperationen und Auslandsbeziehungen  Prof. Dr. H. Löhr Prof. Dr. R. Petrlic    IN-Homepage Support  Dipl.-Ing. (FH) T. Ulrich    Unternehmenskontakte  Prof. Dr. M. Lang    Labororganisation  Prof. Dr. Wienkop / Prof. Dr. Zapf / Prof. Dr. Kröner / Prof. Dr. Gallwitz    Linux Support  Dipl.- Math. Th. Strickroth    Moodle  M. Spiegel    Öffentlichkeitsarbeit  Prof. Dr. R. Weber    Praxissemester  Prof. Dr. W. Bremer    Prodekan  Prof. Dr. J. Albrecht    Prüfungskommission Informatik  Prof. Dr. P. Trommler    Prüfungspläne  Prof. Dr. F. Stappert    Sekretariat  M. Otsa, Margot Knoll    Stipendien  Prof. Dr. P. Trommler    Studienberatung - Bachelor Informatik - Bachelor Wirtschaftsinformatik - Bachelor Medieninformatik - Master Informatik - Master Wirtschaftsinformatik - Master Medieninformatik  Prof. Dr. C. Schiedermeier Prof. Dr. Rainer Groß Prof. Dr. C. Schiedermeier Prof. Dr. J. Roth Prof. Dr. P. Brockmann Prof. Dr. F. Gallwitz    Studienbüro - BA Informatik + MA IN/MIN/WIN - BA Wirtschaftsinformatik + MIN  G. Bauer K. Lang    Studienzuschüsse  Prof. Dr. H. Schuhbauer    Studiendekan  Prof. Dr. K. Riedhammer    Stundenpläne  Prof. Dr. F. Stappert    Webredakteur / Webmaster  Dipl.-Ing. (FH) T. Ulrich    Windows Support  T. Karanatsios Dipl.-Ing. (FH) R. Fischer N. Tschinkel          ',\n",
       " '       Beispiel - Vorlesungsverzeichnis  Lehrveranstaltung SWS  ECTS  Dozent    Algorithmen und Datenstrukturen  6  7  Prof. Dr. Fuhr, Prof. Dr. Trommler     Algorithmische Graphentheorie  4  5  Prof. Dr. Hufnagel     Automotive Software Engineering  4  5  Prof. Dr. Tavakoli Kolagari     Betriebssysteme  6  7 Prof. Dr. Stappert    Betriebssysteme und Rechnerarchitektur  4  5  Prof. Dr. Hein Prof. Dr. Zapf     Business Intelligence  4  5  Prof. Dr. Rausch     Das mobile Internet  4  5  Prof. Dr. Roth     Datenbanken  6  6   Prof. Dr. Albrecht Prof. Dr. Brockmann Prof. Dr. Holl     Datenbanken II in der Wirtschaftsinformatik  4  5  Prof. Dr. Holl     E-Government  4  5  Prof. Dr. Schuhbauer     Einführung in Data Mining  4  5  Prof. Dr. Holl     Embedded Systems  4  5  Prof. Dr. Stappert     Englisch I  2  2  Prof. Dr. Huke Raimond     Entwicklung mobiler Graphik-Apps  4  5  Prof. Dr. Götzelmann     Geschäftsprozessmodellierung  4  5  Prof. Dr. Groß     Gestaltungs- und Medienlehre II  4  5  Prof. Krüll, Pleasance Grundlagen Content-Management-Systeme  4  5  Prof. Dr. Kröner     Grundlagen der Betriebswirtschaftslehre  4  5  Prof. Dr. Bremer Prof. Dr. Brockmann     Grundlagen der Computerspielentwicklung  4  5  Prof. Dr. von Rymon Lipinski     Grundlagen der Informatik  6  7  Prof. Dr. Fuhr Prof. Dr. Kröner     Grundlagen der Volkswirtschaftslehre  2  2  Prof. Dr. Groß     Grundlagen der Wirtschaftsinformatik  6  7  Prof. Dr. Rausch Prof. Dr. Voit     In-Memory Computing am Beispiel von SAP HANA  2  2  Prof. Dr. Weber     Information Management  4  5  Prof. Dr. Groß     Interkulturelle Kommunikation  4  4  Prof. Dr. König     IT-Anwendungen (Bachelor IN/WIN)  6  9  Prof. Dr. Trommler    IT-Anwendungen (Bachelor WIN)  6  9  Prof. Dr. Holl Kryptographische Protokolle  4  5  Prof. Dr. Delfs     Logistische Informationssysteme  4  5  Prof. Dr. Scheja     Mathematik I (Algebra)  6  7  Prof. Dr. Urban     Mathematik II (Analysis)  6  7  Prof. Dr. Hufnagel Prof. Dr. Scherr Prof. Dr. Urban     Mathematik IV (Numerische Methoden)  4  4  Prof. Dr. Wermuth     Mathematik IV (Statistik)  4  5   Prof. Dr. Hufnagel Prof. Dr. Stieber    Medienkonzeption  4  5  Dr. Ackermann Zitzmann     Medienverarbeitung  6  7  Prof. Dr. Gallwitz     Methoden der Entscheidungsunterstützung  4  5  Prof. Dr. Scheja     Praxisseminar  2  2  Prof. Dr. Bremer     Programmieren I  6  7  Prof. Dr. Albrecht Prof. Dr. Stappert Prof. Dr. Wienkop     Programmieren II  6  7  Prof. Dr. Hartmann Prof. Dr. Wienkop Dipl.-Inf. (FH) Richler Dipl. Inf. (FH) Schneider Prof. Dr. Götzelmann Prof. Dr. von Rymon Lipinski     Programmiersprachen  6  7  Prof. Dr. Schiedermeier     Projektmanagement  4  5  Prof. Dr. Rausch, Prof. Dr. Voit, Dr. Geier    Rechnerkommunikation  4  4  Prof. Dr. Trommler     Rechnerkommunikation  4  4  Prof. Dr. Roth     Robuste Software für parallele Computerarchitekturen  4  5  Prof. Dr. Hein     Software Engineering  4  5  Prof. Dr. Petrlic, Prof. Dr. Riedhammer, Prof. Dr. Tavakoli Kolagari, Prof. Dr. von Rymon Lipinski    Software-Zuverlässigkeit: Theorie und Praxis  4  5  Prof. Dr. Stieber     Softwarearchitektur  4  5  Prof. Dr. Riedhammer, Prof. Dr. Tavakoli Kolagari     Spezielle BWL II  6  8  Prof. Dr. Groß     Supply Chain Management  4  5  Prof. Dr. Bremer Prof. Dr. Scheja     Technical Computing  4  5  Dr. Kluge     Theoretische Informatik  6  7  Prof. Dr. Fuhr Prof. Dr. Kröner     Verteilt-kooperative Informationsverarbeitung  4  5  Prof. Dr. Zapf     Web-Programmierung  4 5 Prof. Dr. Teßmann         ',\n",
       " '          Der Bachelorstudiengang Medieninformatik ist ein Studiengang der angewandten Informatik mit einer entsprechend starken Praxisorientierung. Er vermittelt auf wissenschaftlicher Grundlage die Kenntnisse aus der praktischen und angewandten Informatik, die für die Entwicklung, den Einsatz und den Betrieb von informationsverarbeitenden Systemen notwendig sind.  Ein besonderer Schwerpunkt und Anwendungsbezug betrifft die Verarbeitung von Mediendaten in informationstechnischen Systemen und die Gestaltung und Umsetzung der Schnittstelle zwischen Mensch und Maschine. Der Abschluss als Bachelor of Science (B.Sc.) befähigt zur Übernahme qualifizierter Fach- und Führungsaufgaben.                 Überblick  Inhalt & Ablauf  Beruf & Karriere  Anforderungen  Entscheidungshilfen       Aktuelles    Abschluss  Bachelor of Science  Regelstudienzeit  7 Semester  Zulassungsbeschränkung  Numerus Clausus  Grenznoten in den letzten Semestern   Studienfachanteile     Besonderheiten    Bei Medieninformatik handelt es sich um einen vollwertigen Studiengang der angewandten Informatik. Dabei werden die Studieninhalte der angewandten Informatik um eine besondere Spezialisierung in drei Medienbereichen ergänzt .  Spezialisierung in den drei Medienbereichen Mensch-Computer-Interaktion , Mediensynthese und Medienanalyse  Interdisziplinäre Projektarbeit mit anderen Fachrichtungen  Viele mögliche Wahlpflichtfächer aus dem Bereich der Medieninformatik wie z.B. Spieleprogrammierung, Audioverarbeitung, Entwicklung von E-Learning-Anwendungen oder Design von Web-Shop    Studienbeginn  Wintersemester  Beginn Sommersemester nur für Hochschulwechsler bei Einstieg in ein höheres Semester möglich (Bewerbungszeitraum: 15.11. - 15.1.)   Bewerbungszeitraum  Für das Wintersemester:\\n                    02.05.2023 bis 15.07.2023    Für 1. Semester bewerben  Für höheres Semester bewerben    Duale Studienvarianten   Medieninformatik dual   Zuständige Fakultät  Informatik  Aufbauende Studiengänge   Informatik (M.\\u2009Sc.)   Wirtschaftsinformatik (M.\\u2009Sc.)   Medieninformatik (M.\\u2009Sc.)    Akkreditiert           Der Bachelorstudiengang Medieninformatik hat eine Regelstudienzeit von 7  Semestern und lässt sich in verschiedene Phasen einteilen.  Im ersten Studienabschnitt werden die Grundlagen für ein erfolgreiches Studium der Medieninformatik gelegt. Wichtige Fächer sind Mathematik (Schwerpunkt algebraische Strukturen), Grundlagen der Informatik, strukturiertes und objektorientiertes Programmieren, eine Einführung in die Theoretische Informatik, Grundlagen der Gestaltungs- und Medienlehre und die Grundlagen der Medieninformatik. Im 2. Studienabschnitt folgt im 5. Semester ein Praxissemester.        Praxisbezug des Studiengangs  Das Studium der Medieninformatik an der TH Nürnberg ist stark praxisorientiert. Praxisorientierte Lehre sowie angewandte Forschung zeichnen die Fakultät Informatik aus. Mit der Industrie der Metropolregion Nürnberg als Heimat für kreative IT mit ihrer Vielzahl von kleinen, mittelgroßen und großen Unternehmen ist die Fakultät eng vernetzt. Zwei Drittel der Abschlussarbeiten und viele IT-Projekte finden in Kooperation mit externen Partnern statt.  Ein Praxissemester außerhalb der Hochschule ist fester Bestandteil des Studiums. Wenn Sie sich entscheiden, das Studium dual zu absolvieren, können Sie das Studium außerdem mit intensiven Praxisphasen oder sogar einer Berufsausbildung verknüpfen.            Praxissemester         Im praktischen Studiensemester wenden die Studierenden die erworbenen Fähigkeiten in einer fachgerechten Tätigkeit in der Industrie oder im Dienstleistungsbereich an. Außer den qualifizierten Tätigkeiten als Informatiker kommen Tätigkeiten im Bereich neuer Medien, beispielsweise in der Werbe- oder Druckindustrie, in Frage. Die Praxisphase wird von Lehrveranstaltungen begleitet, die die Verzahnung zwischen theoretischen Lehrinhalten und Praxistätigkeit verdeutlichen. Dies sind ein eigenes Praxisseminar und ein Module über Projektmanagement.  Lernziele  Kenntnisse erlangen in der Projektarbeit oder im Servicegeschäft von Informatik- oder Medien-Dienstleistern bzw. in Informatik- oder Medienbereichen. Alternativ sammeln von Erfahrungen in der Projektarbeit in Forschungs- und Entwicklungsbereichen für Informations-, Kommunikations- und Softwaretechnologien.  Inhalt  Verantwortliche Durchführung von Projekten/Teilprojekten der Softwareentwicklung oder verantwortliche Übernahme von Aufgaben/Teilaufgaben bei der Abwicklung von Informatik-Dienstleistungen.           Variante Medieninformatik als duales Studium         Siehe Seite zum dualen Studienangebot               Die folgenden Modulbeschreibungen geben Ihnen einen Eindruck von  den   konkreten Studieninhalten. Die für jedes Semester aktuelle und    vollständige Modulbeschreibung samt Detailinformationen finden Sie im Modulhandbuch. ( Das neue, ab dem Wintersemester 2021/2022 gültige Modulhandbuch wird in Kürze veröffentlicht)        Module im 1. bis 2. Semester      Grundlagen der Informatik         Lernziele  Kenntnis und Verständnis der Repräsentation von Daten wie ganze und  reelle Zahlen und Zeichenketten; Verständnis der mathematischen  Grundlagen von Rechenoperationen auf diesen Repräsentationen und  selbständige Anwendung; Befähigung zur\\xa0 Konvertierung zwischen  Repräsentationen mit besonderem Gewicht auf dem Binär-, Oktal- und  Hexadezimalsystem. Analyse von logischen Schaltungen; Verständnis der  mathematisch-logischen Grundlagen; selbständige Gestaltung von  Logikschaltungen auf Basis eines vorgegebenen Verhaltens; Verständnis  für den grundlegenden Entwurf von Computersystemen; Analyse und  Erstellung von Maschinensprache- und Assemblerprogrammen.  Inhalt Repräsentation positiver ganzer Zahlen in verschiedenen Stellenwertsystemen Negative ganze Zahlen in verschiedenen Stellenwertsystemen Reelle Zahlen im Standardformat (IEEE-754) Rechenoperationen und Konvertierungen Boolesche Algebren Boolesche Ausdrücke und Funktionen Schaltnetze und Schaltwerke Allgemeine Computerarchitektur Maschinensprache am Beispiel der MIPS-Architektur Assemblersprache der MIPS-Architektur           Theoretische Informatik         Lernziele  Verständnis grundlegender Konzepte formaler Sprachen,\\xa0 der  Automatentheorie sowie formaler Grammatiken und ihrer Zusammenhänge.  Einordnung formaler Sprachen in die Chomsky-Hierarchie. Fähigkeit zur  Abgrenzung regulärer und nicht-regulärer Sprachen. Analysieren von  Automaten und Chomsky-Grammatiken. Formulieren von Grammatiken,  regulären Ausdrücken und Automaten für formale Sprachen. Anwenden von  Transformationen zur Überführung dieser Repräsentationen formaler  Sprachen in äquivalente Modelle. Kenntnis des Berechenbarkeitsbegriffs  und ausgewählter Entscheidbarkeitsprobleme.  Inhalt  Endliche Automaten und formale Sprachen, Chomsky-Grammatiken und  -Hierarchie, Kellerautomaten, Turingautomaten, Determinismus vs.  Nichtdeterminismus, Berechenbarkeit und Entscheidbarkeit           Mathematik 1 (Algebra)         Lernziele  Begriffe und Strukturen aus verschiedenen grundlegenden Gebieten der  Mathematik (Zahlen, Aussagenlogik, Mengen, Relationen und Funktionen)  definieren und verstehen. Methoden der Kombinatorik zur Lösung von Zählproblemen einsetzen. Begriffe und Aussagen der elementaren Zahlentheorie aufstellen und  Verständnis für spätere Anwendungen (insbesondere in der Kryptographie)  erlangen. Rechenverfahren im Umgang mit komplexen Zahlen einüben und durchführen. Grundlegende Begriffe der Algebra kennen und in ihrer Bedeutung verstehen.  Inhalt  Zahlen, Aussagenlogik und Mengen, Relationen und Funktionen,  Kombinatorik, Elemente der Zahlentheorie, komplexe Zahlen, Algebra  (Gruppen, Ringe, Körper)           Mathematik 2 (Analysis)         Lernziele  Grundlegende Begriffe und Strukturen der Linearen Algebra und der Analysis definieren und verstehen. Methoden des Rechnens mit Vektoren, Matrizen, Folgen und Reihen einüben und durchführen. Rechenverfahren der Differential- und Integralrechnung benutzen und in ausgewählten Problemstellungen anwenden. Differenzen- und Differentialgleichungen verstehen und Lösungsmethoden durchführen.  Inhalt  Lineare Algebra, Folgen und Reihen, Differential- und Integralrechnung, Differenzengleichungen, Differentialgleichungen           Prozedurale Programmierung         Lernziele  Kenntnis wesentlicher Konzepte von Programmiersprachen und von Programmierparadigmen. Kenntnis der Übersetzung von prozeduralen und objektorientierten Programmiersprachen sowie ihrer Ausführung in modernen Laufzeitsystemen. Fähigkeit, Programme in unbekannten Programmiersprachen zu verstehen und Bezüge zu bisherigen Kenntnissen herzustellen. Fähigkeit, die Eignung unterschiedlicher Programmierparadigmen und Programmiersprachen für verschiedene Anwendungsaufgaben zu untersuchen und zu beurteilen.   Inhalt Syntaxanalyse, semantische Analyse, Codegenerierung Werte, Typen, Namen, Bindungen, Speicherabbildung, Kontrollfluss, Typsysteme, prozedurale, Daten- und generische Abstraktion. Prozedurale, objektorientierte und funktionale Programmierung, Skript-Sprachen. Virtuelle Maschinen, Typsysteme zur Laufzeit, Komponenten, Speicherverwaltung, Code-Sicherheit            Objektorientierte Programmierung         Lernziele  Vertiefung der Fähigkeiten, die in Programmieren I erworben wurden.  Inhalt  Fortsetzung der Lehrinhalte von Programmieren I: dynamische Datenstrukturen, insbesondere verkettete Listen, Operatoren, Nutzung von Klassenbibliotheken, Ausnahmen und ihre Behandlung.           Grundlagen der Medieninformatik         Lernziele  Kenntnis der wichtigsten Technologien, Verfahren und Vorgehensweisen bei  der Erzeugung und Bearbeitung multimedialer Anwendungen, Fähigkeit zur  Einordnung und zum Umgang mit verschiedenen Medienformaten.   Inhalt   Mediale Komponenten und deren Standards, Datenformate und Datenkompression Grundlagen der Audio- , Foto- und Videotechnik, Farbsysteme Erstellung und Bearbeitung von medialen Komponenten und Multimedia-Anwendungen Skriptsprachen für Multimediaanwendungen Multimedia im Netz Auszeichnungssprachen (XML, XHTML, …) Gerätetechnik lnteraktion Virtuelle Realität Beispiele multimedialer Produktionen           Gestaltungs- und Medienlehre I         Lernziele  Teil 1: Kenntnisse über Grundlagen von Interaktionsdesign Basiskenntnisse der Mensch-Technik-Kommunikation aus arbeitspsychologischer, ergonomischer und gestalterischer Perspektive Grundlegende Fähigkeiten, diese in einem gegebenen Kontext anzuwenden (insbes. Evaluation und Konzeptualisierung) Steigerung des visuellen Wahrnehmungsvermögens und  Sensibilisierung für die Grundproblematik insbesondere im  Darstellungsmedium Layout / Typografie. Fähigkeit zur Beurteilung  ausgewählter Gestaltungsprozesse hinsichtlich ihrer inhaltlichen  Klarheit, der eindeutigen Verständlichkeit und der passenden Gestaltung.  Dabei richtet sich der Blick auf die wahrnehmungsbezogene,  kommunikative und ästhetische Wirkungsebene von Gestaltung. Teil2: Einordnen der Fotografie in den Kontext der technischen  Kompetenzen und künstlerischen Entwicklungen des 19. und 20.  Jahrhunderts. Erkennen des Unterschieds zwischen Beschreiben und Bewerten bei  fotografischen Bilderzeugnissen. Erstellen von Begründungen zu  Werturteilen über fotografische Bilder. Inhalt  Teil 1: Vorlesung: Basiskenntnisse der Mensch-Technik-Kommunikation aus  arbeitspsychologischer, ergonomischer und gestalterischer Perspektive Seminar: Übungen zu den Prozessebenen Analyse, Recherche, Ideenfindung, Konzeptualisierung, Darstellung, Evaluation. Teil 2: Vorlesung mit Seminar, Referate zur Geschichte der Fotografie Historischer Abriss über die gestalterische und technische  Entwicklung der Fotografie, die gleichzeitig als Übung zur Entwicklung  von Beurteilungskriterien und Bildanalyse fotografischer Bilder dient.  Mit einer Einführung zu Grundlagen der visuellen  Kommunikation/Bildwissenschaft. Praktische Übungen           Gestaltungs- und Medienlehre II         Lernziele   Bedeutung und Stellenwert im zeitgemäßen Kommunikations Design  mit der Wechselwirkung und Refektion von Form und Inhalt einer  gestalterischen und kommunikativen Botschaft. (Teil 1). Verstehen von filmtechnischen und filmhistorischen Gestaltungsmitteln. Anwenden der Werkzeuge der Filmanalyse.\\xa0 Die Fähigkeit, einzelne Eigenschaften des Filmemachens zu erkennen und zu deuten. Das Analysieren von Filmsequenzen, um die gestalterischen Mitteln von bewegten Bildern aufzuschlüsseln. (Teil 2).  Inhalt   Vorlesung und Übung. Definition und Grundlagen mit Sichtung und  Beurteilung beispielhafter Arbeiten aus Bereichen des Kommunikations  Designs.Entwurf einer Semester-Teamarbeit mit gemeinsamen Besprechungen  und Korrekturen bzgl. gestalterischer und inhaltlicher Qualität. (Teil  1). Filmgestalterische Grundlagen auf der Basis filmhistorischer und  filmanalytischer Kenntnisse.\\xa0 Die praktische Anwendung des Erlernten.  (Teil 2).           Conversational         Lernziele  Fähigkeit, gesprochenes und geschriebenes Englisch mit allgemeinsprachlichen und fachlichen Inhalten zu verstehen, sowie sich in der Fremdsprache mündlich und schriftlich korrekt auszudrücken   Inhalt Fachbezogene Texte; allgemeine sowie fachbezogene Korrespondenz und Konversation; Erweiterung und Festigung der Vokabelkenntnisse; Umgang mit Hilfsmitteln           Allgemeinwissenschaftliches Wahlpflichtfach         Lehrziele  Die Erkenntnis, dass das eigene Fachgebiet nicht isoliert existieren kann, sondern dem Lebensumfeld zugehört  Inhalt Als allgemeinwissenschaftliche Wahlpflichtfächer können alle an der Hochschule angebotenen Lehrveranstaltungen gewählt werden, soweit sie nicht Pflichtfächer oder fachwissenschaftliche Wahlpflichtfächer des Studiengangs Informatik sind beziehungsweise in der Ausschlussliste des Studiengangs geführt werden.                Module im 3. bis 7. Semester      Mathematik 3 (Statistik)         Lernziele  Grundlegende Methoden der Wahrscheinlichkeitsrechnung und der  beschreibenden und schließenden Statistik verstehen und eigenständig  anwenden, die Voraussetzungen ihrer Anwendung prüfen, statistische  Modelle vergleichen und zur Anwendungssituation passende auswählen,  Ergebnisse sinnvoll interpretieren                  können.  Inhalt  Deskriptive Statistik: Lage- und Streuungsmaße, Korrelation und Regression; Elemente der Wahrscheinlichkeitsrechnung: Zufallsvariable, Bedingte Wahrscheinlichkeiten,\\xa0 Wahrscheinlichkeitsverteilungen,\\xa0Poisson-Prozesse; Induktive Statistik: Punktschätzung, Intervallschätzung, Konfidenzintervalle, Testen von Hypothesen           Algorithmen und Datenstrukturen         Lernziele  Grundlegende Datenstrukturen unter Einbeziehung externer Speichermedien  kennen; zugehörige Algorithmen und ihre Zusammenhänge verstehen sowie  diese korrekt für konkrete Beispiele ausführen können; die Aspekte,  Korrektheit, Komplexität und Effizienz von Algorithmen sowie übliche  Entwurfsprinzipien kennen; einfache Algorithmen analysieren und ihren  Aufwand mathematisch beschreiben und kategorisieren bzw. deren  Korrektheit beweisen können; Algorithmen hinsichtlich ihres Aufwands einordnen und vergleichend bewerten können.  Inhalt  Die Aspekte Korrektheit,      Komplexität und Effizienz von Algorithmen sowie die Entwurfsprinzipien für      Algorithmen. Inhalt sind unter anderem      die Themen Sortieren und Suchen,  Suchbäume, Hashverfahren, Organisation      von Wörterbüchern und  Graphalgorithmen. Umsetzung ausgewählter Algorithmen auf Basis einer Programmiersprache.             Software Engineering         Lernziele  Bei Abschluss des Lernprozesses wird der erfolgreiche Studierende in der Lage sein, Ziele, Methoden, Techniken und Verfahren des Software Engineering zu kennen und diese für konkrete Beispiele anwenden zu können. Die Studierenden werden Prozesse des Software Engineering verstehen und ausgewählte Techniken und Methoden für verschiedene Entwicklungsphasen auswählen können. Im Rahmen des begleitenden Praktikums werden sie teambasiert eine Beispielanwendung bzw. betriebliches Informationssystem im Rahmen eines vorgegeben Projektgerüsts prototypisch entwickeln können.  Inhalt Probleme der industriellen Softwareerstellung; Phasenmodelle; Methoden zur Anforderungsspezifikation; Entwurfsmethoden; Methoden zur Systemkonstruktion; Systemintegration und Test; Software-Ergonomie; Qualitätssicherung; Softwaremetriken; Projektmanagement; DV-gestützte Entwicklungsumgebungen; Aufwandsschätzungen; Wirtschaftlichkeitsbetrachtungen.           Softwarearchitektur         Lernziele  Bei Abschluss des Lernprozesses wird der erfolgreiche Studierende in der Lage sein, Konzepte guter Softwarearchitektur, insbesondere Clean Code, Programmieridiome, Entwurfsmuster, Architekturmuster und Komponenten zu kennen und diese für konkrete Szenarien anwenden, die unterschiedlichen Prinzipien der Softwarearchitektur für den Entwurf eines Systems auswählen und kleine Beispielanwendung unter Vermeidung bekannter Architekturprobleme entwickeln zu können.  Inhalt  Dieser Kurs vermittelt grundlegende Techniken zum Entwurf, zur  Beschreibung und zur Implementierung von großen, modularen  Softwaresystemen. Zentraler Begriff der Vorlesung sind Patterns, welche  als Grundprinzipien und Bausteine einer Softwarearchitektur verstanden  werden können. Der Kurs führt Patterns auf verschiedenen Ebenen eines  Softwaresystems ein: Auf Implementierungsebene (Programming Idioms), auf  Ebene verschiedener Softwaremodule, Klassen und deren Zusammenspiel  (Design Patterns), und schließlich als prototypische Struktur für ganze  Anwendungen (Architectural Patterns). Muster werden anhand von  Programmbeispielen  veranschaulicht. Es werden mehrere  Programmierübungen im Labor bearbeitet.           Webanwendungen         Lernziele  Durch das Modul Web-Programmierung lernen die Studierenden die wichtigsten Schlüsseltechniken des World Wide Web kennen. Dies umfasst sowohl client- als auch serverseitige Technologien, wie unter anderem HTML5, CSS3, JavaScript, HTTP, Webserver (Apache2, Nginx), PHP, REST-Schnittstellen und asynchrone Anfragen. Dadurch erlangen Sie ein Verständnis für die Zusammenhänge dieser und werden dazu befähigt, deren Vor- und Nachteile gegeneinander abzuwägen. Die vermittelten theoretischen Kenntnisse werden im Rahmen des Pflichtpraktikums durch die selbstständige Konzeption und Umsetzung einer vollständigen Client-Server-Web- Anwendung (z.B. Online-Shop, soziales Netzwerk, ...) modulbegleitend praktisch gefestigt. Dabei kommt die Lernform des problembasierten Lernens (PBL) zum Einsatz. Das Modul schließt mit der Vermittlung grundlegender Kenntnisse über die wichtigsten Sicherheitsrisiken von Web-Anwendungen.  Inhalt Grundlagen HTML5, CSS3, JavaScript Client-Server Modell / Kommunikationsprotokolle und Datenformate HTTP/HTTPS/HTTP2 JSON Front-End, Back-End und \"Full-Stack\"-Anwendungsentwicklung PHP, Application-Server, node.js Cookies und Sessions Asynchrone Kommunikation Browser- und Server-Architekturen Single-Page-Anwendungen Der Browser als universelle Anwendungsplattform Web-Anwendungssicherheit (OWASP Top 10)           Computergraphik         Lernziele  Kenntnis und Verstehen der polygonbasierten Computergraphik,  insbesondere das hardware-unterstützte Rendering mit lokalen  Beleuchtungsmodellen, und die Fähigkeit, graphische Anwendungen zu  programmieren.  Inhalt  Softwarearchitektur graphischer Anwendungen, Modellierung geometrischer Objekte mit Primitiven, 3-dimensionale Modell-Transformation, View-Transformation und Projektion, lokale Beleuchtung und Schattierung, Standard-Vertexshader und -Pixelshader, Texturen für reichhaltige Oberflächen, Graphik-Pipeline. Animation           Medienkonzeption         Lernziele   Schriftliche Definition von Bildbestandteilen (ikonischen, ästhetischen, farblichen, kompositorischen Mustern) in Gruppenarbeit Übernahme dieser Definitionen in die eigenständige Analyse unbekannter Bilder aus den Gebieten Kunst, Werbung und Design Eigenständiger schriftlicher Aufbau von Zielkriterien für Bilder, die in der eigenen Mediengestaltung benötigt werden  Inhalt   Vermittlung von Grundkenntnissen zur Phänomenologie und Ontologie des Bildes Einführung und Anwendung bildanalytischer Rezeptionstechniken           Medienverarbeitung         Lernziele  Kenntnis der Grundlagen und Methoden der Bild-, Video- und  Audioverarbeitung,\\xa0Fähigkeit zur Entwicklung von Anwendungen zur  Aufnahme, Verarbeitung und Analyse von Mediendaten  Inhalt  Bild-, Video-, Audioverarbeitung (Erfassung und Verbesserung von Medien). Mustererkennung (automatische Klassifikation mit extrahierten Merkmalen). Bild- und Sprachverstehen (Computer Vision, rechnergestütztes Erkennen von Bildinhalten).           Betriebssysteme und Rechnerarchitektur         Lernziele  Kenntnis von Aufbau und Komponenten zentraler und dezentraler  Rechnerarchitekturen; Fähigkeit, die Auswirkungen von  Systementscheidungen und Komponentenauswahl auf die Programmierung und  die Leistungsfähigkeit von Anwendungen zu bewerten. Analyse von  Entwurfsdetails gegebener Systemarchitekturen bis hin zur selbständigen  Gestaltung von einfachen Computersystemen mit vorgegebenen  Anforderungen. Verständnis der Konzepte von Betriebssystemen; exemplarisch verdeutlicht  anhand konkreter Fallstudien. Bewertung der Eigenschaften von  Betriebssystemen in Bezug auf Einsatzbereiche und  Verhalten unter Last  für bestimmte Nutzungsprofile.   Inhalt   Aufbau von Rechensystemen Darstellung wichtiger Rechnerstrukturen, einschließlich Prozessoren, Hauptspeicher, sekundäre Speichertypen Bewertung der Leistungsfähigkeit von Rechnersystemen Aufgaben und Aufbau von Betriebssystemen Verwaltungsfunktionen (insbesondere Prozesse, Speicher, Dateien) Kommunikations- und Hilfsfunktionen           Mensch-Computer-Interaktion         Lernziele  Kenntnis von Historie und Merkmalen interaktiver Systeme. Fähigkeit zur Klassifizierung solcher Systeme. Fähigkeit zur Beurteilung der Gebrauchstauglichkeit von Benutzerschnittstellen. Kenntnis von Entwicklungsprozess und Architekturmustern interaktiver Systeme. Fähigkeit zur Anwendung vorher genannter Kenntnisse zur Implementierung interaktiver Systeme.  Inhalt Historische Entwicklung und Arten von Benutzerschnittstellen Interaktionstechnologien und deren Interaktionstechniken Graphische Dialogsysteme Modelle und Architekturmuster für interaktive Systeme Entwicklungsframeworks           Interdisziplinäre Projektarbeit         Lehrziel  Einblick in die Vielgestaltigkeit von Anwendungen der Medieninformatik. Fähigkeit zur Umsetzung einer Problemstellung in eine anwendergerechte Lösung. Fähigkeit in einem interdisziplinären Team zu arbeiten.  Inhalt  Die Studierenden bearbeiten in bevorzugt interdisziplinären Teams von  ca. 4 Mitgliedern jeweils ein Thema aus der Medieninformatik. Sie werden  dabei von einem Dozenten betreut. Typischerweise ist für eine  ausgewählte Problemstellung eine medienorientierte IT-Lösung in Form  einer Software-Anwendung zu planen, zu entwerfen und zu implementieren,  oder es sind implementierte Lösungen zu beurteilen und anzupassen. Die Projektarbeit erstreckt sich über 2 Semester. Im ersten der beiden  Semester analysiert das Team die gestellte Aufgabe, entwickelt einen  Projektplan und beginnt mit der Umsetzung des Projekts, beispielsweise  dem Entwurf oder einem Prototypen zu einer Softwarelösung. Im zweiten  Semester wird das Projekt fertiggestellt, mit einem Bericht dokumentiert  und dem Betreuer und Mitstudierenden in einem begleitenden Seminar  vorgestellt.               Praktikum im 5. Semester  Im praktischen Studiensemester wenden die Studierenden die erworbenen Fähigkeiten in einer fachgerechten Tätigkeit in der Industrie oder im Dienstleistungsbereich an. Außer den qualifizierten Tätigkeiten als Informatiker kommen Tätigkeiten im Bereich neuer Medien, beispielsweise in der Werbe- oder Druckindustrie, in Frage. Die Praxisphase wird von Lehrveranstaltungen begleitet, die die Verzahnung zwischen theoretischen Lehrinhalten und Praxistätigkeit verdeutlichen. Dies sind ein eigenes Praxisseminar und ein Module über Projektmanagement.        Wahlmöglichkeiten und Vertiefung  Mit Beginn des 2. Studienabschnitts, also dem 3. Semester, können Studierende vertiefende Wahlpflichtfächer wählen.  In den letzten beiden Semestern können die Studierenden den überwiegenden Teil ihres Studienprogramms aus einem großen Angebot an fachwissenschaftlichen Wahlpflichtfächern selbst zusammenstellen. Durch diese Wahlmöglichkeiten kann das Studium mit Blick auf ein bestimmtes Anwendungs- oder Berufsfeld vertieft werden. Es gibt Vorschläge für gut zusammenpassende Pakete von Wahlfächern. Wenn diese gewählt werden, so wird eine entsprechende Vertiefungsrichtung im Zeugnis vermerkt. Zusätzliche Informationen dazu finden sich im Studienplan.  eispiele für Vertiefungsrichtungen und Ihren zentralen vertiefenden Wahlpflichtfächer sind: Künstliche Intelligenz (Grundlagen des maschinellen Lernens) Security (Kryptographie und Informationssicherheit) Digital Media (Datenbanken) Hier finden Sie weitere Beispiele für die Auswahl an wechselnden fachwissenschaftlichen Wahlpflichtfächern.        Bachelorarbeit im 7. Semester  Zum Abschluss seines Studiums bearbeitet der/die Studierende in seiner/ihrer Bachelorarbeit methodisch und auf wissenschaftlicher Grundlage ein anspruchsvolles praxisbezogenes Problem aus der Medieninformatik. Die Bearbeitungsdauer ist 5 Monate. Ein großer Teil dieser Bachelorarbeiten wird in Zusammenarbeit mit der Industrie durchgeführt.        Auslandsstudium  Ein Auslandsstudium wird ab dem 5. Semester empfohlen. Es kann ein Studiensemester (ggf. mit Einschluss der Bachelorarbeit) und/oder ein Praxissemester sein. Im Falle eines Studiensemesters ist das Wintersemester dem Sommersemester vorzuziehen, um Überschneidungen zwischen dem Prüfungszeitraum an der Hochschule und dem Beginn des Studiensemesters im Ausland zu vermeiden. Ein Studiensemester im Ausland braucht einen Vorlauf von 9 Monaten. Die geplanten Lehrveranstaltungen sind vorab mit dem Beauftragten für Hochschulkooperationen und Auslandsbeziehungen der Fakultä t abzusprechen, dann werden im Ausland erbrachte Leistungen großzügig anerkannt. Organisatorische Details sind mit dem International Office zu klären.        Wichtige Dokumente      Studien- und Prüfungsordnung  (326 KB)  Die Studien- und Prüfungsordnung ist die rechtliche Grundlage für die Ausgestaltung des Studienganges (inkl. Inhalten und zu absolvierenden Prüfungsleistungen).       Studienplan  (218 KB)  Der Studienplan veranschaulicht die Verteilung der einzelnen Fächer, Praktika, Praxissemester und Abschlussarbeiten auf die einzelnen Studienabschnitte / Semester       Modulhandbuch  (706 KB)  Das Modulhandbuch listet die zu absolvierenden Fächer auf und beschreibt diese detailliert bezüglich Inhalten, Lernzielen, zeitlichem Arbeitsaufwand und Prüfungsleistungen.                 Tätigkeitsfelder und Berufsbilder  Absolventen der Medieninformatik haben eine fundierte Ausbildung in der allgemeinen Informatik, und können zu einem großen Teil die Tätigkeitsfelder eines Informatikers mit abdecken. Darüber hinaus befähigt die starke Anwendungsorientierung im Bereich moderner Medien einen Medieninformatiker in besonderem Maße zu diesen Tätigkeitsschwerpunkten:  Mediensynthese (Graphische Datenverarbeitung): Dieses Tätigkeitsfeld umfasst die Konzeption, die Entwicklung und den Einsatz von Software, die Ausgaben mit den Mitteln der Computergraphik erzeugt. Typische Gebiete sind die Entwicklung von Computerspielen, und die Entwicklung von Computer Assisted Design (CAD) Systemen im Maschinenbau, der Architektur, dem Produktdesign, und anderen Gebieten. Es ist zu erwarten, dass weitere Anwendungsbereiche die intuitive Darstellung mittels 3-dimensionaler Geometrie nutzen werden. Auch a priori nicht mit den Sinnen wahrnehmbare Daten werden mit Methoden der wissenschaftlich-technischen Visualisierung sichtbar und verständlich gemacht, beispielsweise in der medizinischen Diagnostik. Systeme der erweiterten Realität verschmelzen reale Bilddaten mit computergenerierten Inhalten und werden zunehmend für Planungs-, Handhabungs- und Navigationssysteme genutzt. Medienverarbeitung (Bild-, Video- und Audioverarbeitung): Praktisch alle Systeme sowohl der Unterhaltungselektronik als auch der industriellen Bild- und Audioverarbeitung sind computergestützt. Damit bietet sich ein breites Einsatzfeld für Medieninformatiker mit tiefgehenden Kenntnissen in der Realisierung und Integration von Verfahren zur Aufnahme von Mediendaten, und zur Verarbeitung, Analyse und Synthese solcher Daten. Das sind beispielsweise die Bereiche Automobiltechnik, die Medizintechnik, und einbettete Systeme in der industriellen Bildverarbeitung und im Entertainmentbereich. Auch klassische Büroanwendungen, Webanwendungen und Unternehmensanwendungen werden zunehmend mit Medien angereichert. Damit ergeben sich vielfältige Einsatzgebiete für Medieninformatiker in der Verwaltung von Bild-, Video- und Audiodaten in Datenbanken und in Dokumentenverwaltungs-Systemen, und in der Verarbeitung und Darstellung dieser Daten in Anwendungssystemen. Solche Systeme werden in der Industrie eingesetzt, aber besonders auch in Verlagen, Medienanstalten, Werbeagenturen und Bildungseinrichtungen. Mensch-Computer-Interaktion (Benutzerschnittstellen): Die grundlegenden Prinzipien der Software-Ergonomie von Benutzeroberflächen erhalten schon in traditionellen Soft-waresystemen zunehmend Bedeutung. Das betrifft Consumer-Systeme wie Bedienterminals, Firmenauftritte und Shop-Systeme im Internet genauso wie professionelle Systeme der Automatisierung und Steuerung von industriellen Anlagen. Der Übergang von kommandozeilenorientierten Benutzerschnittstellen über graphische Benutzeroberflächen wird sich indes fortsetzen. \"Visual Computing\" oder gar \"Cinematic Computing\" sind Schlagwörter, die für eine Kommunikation zwischen Mensch und Maschine stehen, in der der Computer visuelle oder fotorealistische Darstellungen erzeugt, und sich damit an den Sinnen und Fähigkeiten des Menschen orientiert. Mit der einfacheren Bedienung geht eine starke Erhöhung der inneren Komplexität der Präsentationsschicht dieser Anwendungen einher. Damit eröffnet sich ein breites und wachsendes Tätigkeitsfeld für Medieninformatiker, die die Methoden, Verfahren und Werkzeuge kennen, um ergonomische Benutzeroberflächen zu gestalten, umzusetzen und die damit einhergehende Komplexität zu beherrschen. Die enge Verzahnung dieser Tätigkeiten mit Fähigkeiten, die in Informatik-Disziplinen wie Software-Engineering und Softwarearchitektur vermittelt werden, qualifiziert Medieninformatiker besonders als Bindeglieder in arbeitsteiligen Softwarefirmen. Das Verständnis für Benutzerschnittstellen qualifiziert Medieninformatiker darüber hinaus für eine Tätigkeit in den Phasen der Anforderungsdefinition und der Funktionsdefinition von Softwaresystemen, und der Optimierung von computergestützten Prozessen. Diese kundennahen Phasen der Softwareentwicklung wachsen in Deutschland auch in global tätigen und entwickelnden Softwareunternehmen besonders stark.        Weitere Qualifikationsmöglichkeiten nach dem Bachelorabschluss  Im Anschluss an ein Bachelorstudium der Medieninformatik können Sie an der TH Nürnberg ein Masterstudium absolvieren. Es bieten sich die Masterstudiengänge Medieninformatik, Informatik und Wirtschaftsinformatik an.              Sowohl das Studium der Medieninformatik als auch die beruflichen Tätigkeiten stellen hohe Anforderungen an die Fähigkeit, aus komplexen Aufgabenstellungen mit vielen Schnittstellen und Randbedingungen die wesentlichen Anforderungen zu erkennen und in einem Analysemodell zu beschreiben, aus diesen Anforderungen ein Lösungskonzept zu entwickeln und dieses mit den Mitteln der Informationstechnologie zu realisieren.  Grundsätzlich gibt es für dieses Bachelorstudium formale Anforderungen, die Sie zwingend erfüllen müssen, um das Studium antreten zu können. Außerdem gibt es eine Reihe persönlicher Anforderungen, die Sie erfüllen sollten.  Formale Anforderungen    Allgemeine Zulassungsvoraussetzungen (z.B. Abitur, berufliche Qualifikation oder ausländischer Bildungsnachweis)   Numerus Clausus   Überblick über alle anerkannten Sprachnachweise (pdf)  Erforderliche Sprachnachweise: Die Unterrichtssprache in diesem Studiengang ist Deutsch. Bewerberinnen und Bewerber mit einer anderen Muttersprache, die keinen deutschen Bachelorabschluss haben und auch keine deutschsprachige Ausbildung an einer höheren Schule abgeschlossen haben, müssen eines der folgenden Zertifikate nachweisen:    Deutsche Sprachprüfung für den Hochschulzugang ausländischer Bewerber und Bewerberinnen (DSH-Stufe 2)   Test Deutsch als Fremdsprache mit überdurchschnittlichem Ergebnis (TestDaF; mindestens Niveaustufe 4 in allen 4 Prüfungsteilen)   Telc Deutsch C1 Hochschule      Persönliche Anforderungen    Interesse und Fähigkeiten zur (mathematischen) Abstraktion  Interesse und Fähigkeiten zur Gestaltung technischer Systeme  fundierte Kenntnisse in Mathematik, Deutsch und Englisch  Integrations- und Kommunikationsfähigkeit  kontinuierliche Lernbereitschaft und Fleiß  Fähigkeit zu selbständigem Denken und Arbeiten  Wille, Neues selbständig zu erarbeiten und nicht in eine Konsumhaltung zu verfallen, die die Wissensvermittlung und –aneignung allein in die Verantwortung der Lehrenden legt.  Konzentrationsfähigkeit, auch über längere Perioden  Zielstrebigkeit  Durchhaltevermögen  Selbstdisziplin  Teamfähigkeit  Flexibilität und Belastbarkeit   Häufige Stolpersteine   Mathematisches Wissen ist die Grundlage der Medieninformatik. Erwartet wird von Ihnen zunächst das eigentlich Selbstverständliche: Die Beherrschung des in der Schule bis zur mittleren Reife gelehrten Stoffs (Elementarmathematik).  Erfülle ich diese Anforderungen und wie kann ich mich vorbereiten?   Online-Studiengangstest  Brückenkurs Mathematik               Sie sind sich nicht sicher, ob Medieninformatik der richtige Studiengang für Sie ist? Die TH Nürnberg bietet Ihnen zahlreiche Angebote, die Ihnen dabei helfen,\\xa0genau das\\xa0herauszufinden.  Studiengangstest  Überprüfen Sie mit dem Studiengangstest, ob Ihre Interessen und Fähigkeiten zu den Anforderungen eines Informatik-Studiums passen. Für den Studiengang Medieninformatik liegt zwar kein gesonderter Studiengangstest vor, jedoch ist der allgemeine Informatik-Studiengangstest auch für Medieninformatik geeignet.   Online-Studiengangstest   Schnuppervorlesung  Besuchen Sie unsere Schnuppervorlesungen im Studiengang Medieninformatik . So können Sie einen ersten Eindruck von einer Vorlesung in diesem Studiengang bekommen und dabei die Atmosphäre an unserer Hochschule gleich live miterleben.   Schnuppervorlesungen   Studienberatung   Sie suchen individuelle Beratung und Unterstützung bei Studienorientierung und Studienwahl. Dann können Sie sich gerne an unser Team der zentralen Studienberatung wenden.  Zentrale Studienberatung  Studienfachberatung   Sie möchten sich detaillierter über Inhalte der einzelnen Fächer informieren. Dann ist die Studienfachberatung die richtige Anlaufstelle für Sie.           Christian  Schiedermeier      Prof. Dr.-Ing.      telefon  +49 (0)911 5880 - 1179     email  christian.schiedermeier at th-nuernberg Punkt de     fax  +49 (0)911 5880 - 5666     Raum HQ.317       Ähnliche Studiengänge  Informatik (B.\\u2009Sc.)   Wirtschaftsinformatik (B.\\u2009Sc.)   Media Engineering (B.\\u2009Eng.)   FAQ   FAQ-Liste der Fakultät Informatik             Fragen Sie uns    studierendenservice at th-nuernberg Punkt de Telefon: +49 911 5880 4004 (Mo, Di, Do: 9:00\\u2009–\\u200916:00 Uhr, Mi: 9:00\\u2009–\\u200914:00 Uhr, Fr: 9:00\\u2009–\\u200913:00 Uhr)    Studieren im Ausland    Mehr als 160 Partnerhochschulen weltweit stehen Studierenden der TH Nürnberg für einen Auslandsaufenthalt offen. Das International Office informiert Sie über mögliche Wege ins Ausland.    Machen Sie den Test   Sie können direkt online überprüfen ob dieser Studiengang zu Ihren Fähigkeiten und Interessen passt. Bitte \"Informatik\" wählen.  Online-Studiengangstest    Dokumente      Studien- und Prüfungsordnung     Modulhandbuch     Studienplan       zurück         ']"
      ]
     },
     "execution_count": 9,
     "metadata": {},
     "output_type": "execute_result"
    }
   ],
   "source": [
    "word = \"Schiedermeier\"\n",
    "\n",
    "[text for text in html_df[\"text\"] if word in text][:5]"
   ]
  },
  {
   "attachments": {},
   "cell_type": "markdown",
   "metadata": {},
   "source": [
    "Word embeddings für jedes Dokument erstellen.\n",
    "BERT Embeddings\n",
    "BERT (Google) trainiert auf 10.000+ Büchern\n",
    "es gibt Modelle \"base\" und \"large\"\n",
    "uncased heißt ohne klein - Großschreibung\n",
    "\n",
    "Wir brauchen zur vorbereitung die zusätzlichen Token\n",
    "[SEP] um das Ende eines Satzes zu markieren\n",
    "[CLS] am Anfang des Texten\n",
    "[PAD] zum auffüllen der Token \n",
    "Außerdem\n",
    "TokenIDs\n",
    "MaskIDs - zum filtern der [PAD]\n",
    "Segment IDs um verschiedene Sätze zu unterscheiden\n",
    "Posititional Embeddings\n"
   ]
  },
  {
   "cell_type": "code",
   "execution_count": 10,
   "metadata": {},
   "outputs": [
    {
     "name": "stderr",
     "output_type": "stream",
     "text": [
      "/Users/br/Projects/IT-Ptojekt-Chatbot/daibl/lib/python3.11/site-packages/tqdm/auto.py:21: TqdmWarning: IProgress not found. Please update jupyter and ipywidgets. See https://ipywidgets.readthedocs.io/en/stable/user_install.html\n",
      "  from .autonotebook import tqdm as notebook_tqdm\n"
     ]
    }
   ],
   "source": [
    "from transformers import BertModel, BertTokenizer\n",
    "import torch"
   ]
  },
  {
   "cell_type": "code",
   "execution_count": 11,
   "metadata": {},
   "outputs": [],
   "source": [
    "model = BertModel.from_pretrained('bert-base-uncased')\n",
    "\n",
    "testSentence = \"In der Bibliothek gibt es 40 Bücher zu Thema Animes\"\n",
    "\n",
    "tokenizer = BertTokenizer.from_pretrained('bert-base-uncased')\n",
    "tokens = tokenizer.tokenize(testSentence)"
   ]
  },
  {
   "cell_type": "code",
   "execution_count": 12,
   "metadata": {},
   "outputs": [],
   "source": [
    "html_df[\"tokens\"] = [tokenizer.tokenize(text) for text in html_df[\"text\"]]"
   ]
  },
  {
   "cell_type": "code",
   "execution_count": 15,
   "metadata": {},
   "outputs": [
    {
     "name": "stdout",
     "output_type": "stream",
     "text": [
      "       Eine Pilotstudie. Oder: Wer kümmert sich um das Ehrenamt?  In der Praxis engagementfördernder Strukturen leisten „Verantwortliche für Engagement“ in Kommunen, Vereinen und Verbänden einen wichtigen Beitrag zum Gelingen des Engagements. Seit längerem ist dies u.a. ein Feld der Professionalisierung für Absolvent:innen des Studiengangs Soziale Arbeit. In der bisherigen Forschung wurde deren berufliches Setting jedoch kaum beleuchtet. Das Pilotprojekt wird hier erste valide Erkenntnisse bringen.    Laufzeit: 1. April 2022 bis 31. März 2023            Beteiligte         Projektleitung: Prof. Dr. Doris Rosenkranz (Fakultät SW) Projektmitarbeiter/in: Enya Buchner, M.A.           Zielsetzung         Verantwortliche für Engagement gibt es bundesweit in jedem Feld des Engagements. Doch bereits im „Wording“ für diese Funktionen zeigt sich eine große Heterogenität. Die These: Nach Organisation, Rahmenbedingungen oder Engagementfeld unterscheiden sich Bezeichnungen, berufliche Settings, Zugangswege, Aufgabenbereiche und Qualifikationen dieser Verantwortlichen für „Freiwilligenmanagement“. Die Pilotstudie generiert hierzu Erkenntnisse.  In einer umfassenden Situationsanalyse werden in der multimethodischen Pilotstudie bundesweit Verantwortliche für Freiwilligenmanagement quantitativ befragt. Mittels multivariater Analysen wird eine erste Typologie zentraler Indikatoren generiert. Konkrete, validierte Handlungsempfehlungen leiten sich ab, die als anwendungsorientierter Input für die Diskussion mit der Zielgruppe sowie Stakeholdern in u.a. Kommunen zur Verfügung stehen.           Finanzierung                   Das Projekt wurde in einem zweistufigen Antrags-Verfahren ausgewählt und wird durch die Deutsche Stiftung für Engagement und Ehrenamt gefördert.           Kontakt               Doris  Rosenkranz      Prof. Dr.      telefon  +49 (0)911 5880 - 2566     email  doris.rosenkranz at th-nuernberg Punkt de     fax  +49 (0)911 5880 - 6555     Raum BB.214              Enya  Buchner      M.A.      telefon  +49 (0)911 5880 - 2576     email  enya.buchner at th-nuernberg Punkt de     fax  +49 (0)911 5880 - 6555     Raum BB.215                \n",
      "['eine', 'pilots', '##tu', '##die', '.', 'oder', ':', 'we', '##r', 'ku', '##mmer', '##t', 'sic', '##h', 'um', 'das', 'eh', '##ren', '##am', '##t', '?', 'in', 'der', 'pr', '##ax', '##is', 'engagement', '##ford', '##ern', '##der', 'st', '##ru', '##kt', '##ure', '##n', 'lei', '##sten', '„', 'vera', '##nt', '##wo', '##rt', '##liche', 'fur', 'engagement', '“', 'in', 'ko', '##mm', '##une', '##n', ',', 've', '##re', '##inen', 'und', 'verb', '##and', '##en', 'eine', '##n', 'wi', '##cht', '##igen', 'beit', '##rag', 'zu', '##m', 'gel', '##ingen', 'des', 'engagements', '.', 'se', '##it', 'lange', '##rem', 'ist', 'dies', 'u', '.', 'a', '.', 'ein', 'fe', '##ld', 'der', 'professional', '##isi', '##er', '##ung', 'fur', 'abs', '##ol', '##vent', ':', 'inn', '##en', 'des', 'stud', '##ien', '##gang', '##s', 'so', '##zia', '##le', 'ar', '##bei', '##t', '.', 'in', 'der', 'bis', '##her', '##igen', 'for', '##sch', '##ung', 'wu', '##rde', 'der', '##en', 'be', '##ru', '##fl', '##iche', '##s', 'setting', 'jed', '##och', 'ka', '##um', 'bel', '##eu', '##cht', '##et', '.', 'das', 'pilot', '##pro', '##je', '##kt', 'wi', '##rd', 'hi', '##er', 'er', '##ste', 'valid', '##e', 'er', '##ken', '##nt', '##nis', '##se', 'bring', '##en', '.', 'lau', '##f', '##ze', '##it', ':', '1', '.', 'april', '202', '##2', 'bis', '31', '.', 'mar', '##z', '202', '##3', 'bet', '##eil', '##ig', '##te', 'pro', '##je', '##kt', '##lei', '##tung', ':', 'prof', '.', 'dr', '.', 'doris', 'rosen', '##kra', '##nz', '(', 'fa', '##ku', '##lta', '##t', 'sw', ')', 'pro', '##je', '##kt', '##mit', '##ar', '##bei', '##ter', '/', 'in', ':', 'en', '##ya', 'bu', '##chner', ',', 'm', '.', 'a', '.', 'z', '##iel', '##set', '##zu', '##ng', 'vera', '##nt', '##wo', '##rt', '##liche', 'fur', 'engagement', 'gi', '##bt', 'es', 'bun', '##des', '##wei', '##t', 'in', 'jed', '##em', 'fe', '##ld', 'des', 'engagements', '.', 'doc', '##h', 'be', '##re', '##its', 'im', '„', 'word', '##ing', '“', 'fur', 'dies', '##e', 'funk', '##tion', '##en', 'ze', '##ig', '##t', 'sic', '##h', 'eine', 'gr', '##o', '##ße', 'het', '##ero', '##gen', '##ita', '##t', '.', 'die', 'these', ':', 'na', '##ch', 'organisation', ',', 'ra', '##hm', '##en', '##bed', '##ing', '##ungen', 'oder', 'engagement', '##feld', 'un', '##ters', '##che', '##ide', '##n', 'sic', '##h', 'be', '##ze', '##ich', '##nu', '##ngen', ',', 'be', '##ru', '##fl', '##iche', 'settings', ',', 'zu', '##gang', '##sw', '##ege', ',', 'auf', '##ga', '##ben', '##ber', '##ei', '##che', 'und', 'qu', '##ali', '##fi', '##kat', '##ion', '##en', 'dies', '##er', 'vera', '##nt', '##wo', '##rt', '##liche', '##n', 'fur', '„', 'fr', '##ei', '##wil', '##li', '##gen', '##mana', '##gement', '“', '.', 'die', 'pilots', '##tu', '##die', 'gene', '##rier', '##t', 'hi', '##er', '##zu', 'er', '##ken', '##nt', '##nis', '##se', '.', 'in', 'eine', '##r', 'um', '##fa', '##ssen', '##den', 'situations', '##anal', '##yse', 'we', '##rden', 'in', 'der', 'multi', '##met', '##ho', '##dis', '##chen', 'pilots', '##tu', '##die', 'bun', '##des', '##wei', '##t', 'vera', '##nt', '##wo', '##rt', '##liche', 'fur', 'fr', '##ei', '##wil', '##li', '##gen', '##mana', '##gement', 'quan', '##ti', '##tat', '##iv', 'be', '##fra', '##gt', '.', 'mit', '##tel', '##s', 'multi', '##var', '##iate', '##r', 'anal', '##yse', '##n', 'wi', '##rd', 'eine', 'er', '##ste', 'ty', '##pol', '##og', '##ie', 'zen', '##tral', '##er', 'ind', '##ika', '##tore', '##n', 'gene', '##rier', '##t', '.', 'ko', '##nk', '##ret', '##e', ',', 'valid', '##ier', '##te', 'hand', '##lun', '##gs', '##em', '##pf', '##eh', '##lun', '##gen', 'lei', '##ten', 'sic', '##h', 'ab', ',', 'die', 'als', 'an', '##wen', '##dun', '##gs', '##ori', '##ent', '##ier', '##ter', 'input', 'fur', 'die', 'disk', '##uss', '##ion', 'mit', 'der', 'z', '##iel', '##gr', '##uppe', 'so', '##wi', '##e', 'stake', '##holder', '##n', 'in', 'u', '.', 'a', '.', 'ko', '##mm', '##une', '##n', 'zur', 've', '##rf', '##ug', '##ung', 'ste', '##hen', '.', 'fin', '##an', '##zier', '##ung', 'das', 'pro', '##je', '##kt', 'wu', '##rde', 'in', 'eine', '##m', 'z', '##wei', '##st', '##uf', '##igen', 'ant', '##rag', '##s', '-', 've', '##rf', '##ah', '##ren', 'aus', '##ge', '##wa', '##hl', '##t', 'und', 'wi', '##rd', 'du', '##rch', 'die', 'deutsche', 'st', '##if', '##tung', 'fur', 'engagement', 'und', 'eh', '##ren', '##am', '##t', 'ge', '##ford', '##ert', '.', 'ko', '##nta', '##kt', 'doris', 'rosen', '##kra', '##nz', 'prof', '.', 'dr', '.', 'tel', '##ef', '##on', '+', '49', '(', '0', ')', '911', '58', '##80', '-', '256', '##6', 'email', 'doris', '.', 'rosen', '##kra', '##nz', 'at', 'th', '-', 'nu', '##ern', '##berg', 'punk', '##t', 'de', 'fa', '##x', '+', '49', '(', '0', ')', '911', '58', '##80', '-', '65', '##55', 'ra', '##um', 'bb', '.', '214', 'en', '##ya', 'bu', '##chner', 'm', '.', 'a', '.', 'tel', '##ef', '##on', '+', '49', '(', '0', ')', '911', '58', '##80', '-', '257', '##6', 'email', 'en', '##ya', '.', 'bu', '##chner', 'at', 'th', '-', 'nu', '##ern', '##berg', 'punk', '##t', 'de', 'fa', '##x', '+', '49', '(', '0', ')', '911', '58', '##80', '-', '65', '##55', 'ra', '##um', 'bb', '.', '215']\n"
     ]
    }
   ],
   "source": [
    "print(html_df[\"text\"][2])\n",
    "print(html_df[\"tokens\"][2])"
   ]
  },
  {
   "cell_type": "code",
   "execution_count": null,
   "metadata": {},
   "outputs": [
    {
     "name": "stdout",
     "output_type": "stream",
     "text": [
      "['[CLS]', 'in', 'der', 'bi', '##bl', '##iot', '##he', '##k', 'gi', '##bt', 'es', '40', 'bu', '##cher', 'zu', 'them', '##a', 'anime', '##s', '[SEP]']\n"
     ]
    }
   ],
   "source": [
    "\n",
    "print(tokens)"
   ]
  },
  {
   "cell_type": "code",
   "execution_count": null,
   "metadata": {},
   "outputs": [],
   "source": [
    "#tokens = ['[CLS]'] + tokens + ['[SEP]']"
   ]
  },
  {
   "cell_type": "code",
   "execution_count": null,
   "metadata": {},
   "outputs": [],
   "source": [
    "attention_mask = [1 if token != \"[PAD]\" else 0  for token in tokens]"
   ]
  },
  {
   "cell_type": "code",
   "execution_count": null,
   "metadata": {},
   "outputs": [
    {
     "name": "stdout",
     "output_type": "stream",
     "text": [
      "[101, 1999, 4315, 12170, 16558, 25185, 5369, 2243, 21025, 19279, 9686, 2871, 20934, 7474, 16950, 2068, 2050, 8750, 2015, 102]\n"
     ]
    }
   ],
   "source": [
    "token_ids = tokenizer.convert_tokens_to_ids(tokens)\n",
    "print(token_ids)"
   ]
  },
  {
   "cell_type": "code",
   "execution_count": null,
   "metadata": {},
   "outputs": [],
   "source": [
    "token_ids = torch.tensor(token_ids).unsqueeze(0)\n",
    "\n",
    "attention_mask = torch.tensor(attention_mask).unsqueeze(0)"
   ]
  },
  {
   "cell_type": "code",
   "execution_count": null,
   "metadata": {},
   "outputs": [],
   "source": [
    "output = model(token_ids, attention_mask=attention_mask)"
   ]
  },
  {
   "cell_type": "code",
   "execution_count": null,
   "metadata": {},
   "outputs": [
    {
     "name": "stdout",
     "output_type": "stream",
     "text": [
      "BaseModelOutputWithPoolingAndCrossAttentions(last_hidden_state=tensor([[[-0.4551,  0.4743, -0.1221,  ..., -0.3652,  0.5639,  0.4320],\n",
      "         [-0.6011,  0.2618, -0.4274,  ..., -0.2823,  0.0178,  0.0410],\n",
      "         [-0.6369,  0.0607, -0.3814,  ..., -0.3802,  0.0530,  0.0642],\n",
      "         ...,\n",
      "         [ 0.1221,  0.3641, -0.0675,  ..., -0.0359,  0.7755,  0.1731],\n",
      "         [-0.5679, -0.1522, -0.1363,  ..., -0.3275,  0.3004, -0.2525],\n",
      "         [ 0.7437,  0.2021, -0.2943,  ...,  0.0588, -0.6261,  0.0194]]],\n",
      "       grad_fn=<NativeLayerNormBackward0>), pooler_output=tensor([[-8.1740e-01, -2.8785e-01, -2.5498e-01,  7.0340e-01, -4.3939e-03,\n",
      "         -1.1000e-01,  6.2925e-01,  2.8865e-01,  4.1364e-02, -9.9987e-01,\n",
      "          6.1949e-02,  5.4157e-01,  9.8279e-01,  1.2675e-02,  7.8739e-01,\n",
      "         -5.1049e-01,  1.7213e-01, -4.6361e-01,  3.4037e-01,  8.5037e-02,\n",
      "          4.9879e-01,  9.9920e-01,  4.6352e-01,  2.3775e-01,  3.4453e-01,\n",
      "          6.2686e-01, -6.3081e-01,  9.2418e-01,  9.4652e-01,  6.2577e-01,\n",
      "         -4.5827e-01,  1.8098e-01, -9.8950e-01, -2.3148e-01, -6.2566e-01,\n",
      "         -9.8926e-01,  2.6823e-01, -6.3592e-01, -2.0409e-02, -5.4054e-03,\n",
      "         -8.1688e-01,  2.1133e-01,  9.9955e-01,  2.7762e-01,  2.4310e-01,\n",
      "         -2.4037e-01, -9.9994e-01,  1.9086e-01, -7.9514e-01, -9.1158e-02,\n",
      "          1.7114e-01, -1.0531e-01,  1.0954e-01,  3.7367e-01,  3.5071e-01,\n",
      "         -1.2707e-01, -1.9309e-01,  1.0483e-01, -1.2158e-01, -5.4926e-01,\n",
      "         -5.1159e-01,  4.3415e-01, -3.6681e-01, -8.4379e-01,  1.7591e-01,\n",
      "         -1.1321e-01, -1.7234e-01, -2.6901e-01,  2.8825e-03, -1.6735e-01,\n",
      "          5.4822e-01,  6.2904e-02,  1.2531e-01, -8.1804e-01, -1.7086e-01,\n",
      "          2.9685e-01, -6.2649e-01,  1.0000e+00, -2.5731e-01, -9.7712e-01,\n",
      "          2.5166e-01,  1.4689e-02,  5.1665e-01,  4.3516e-01, -1.3352e-01,\n",
      "         -1.0000e+00,  2.5620e-01, -1.8226e-01, -9.8995e-01,  1.0767e-01,\n",
      "          3.1233e-01,  7.7470e-02,  1.5716e-01,  5.6863e-01, -1.3928e-01,\n",
      "         -3.5411e-01, -1.4477e-01, -1.9690e-01, -1.9165e-01, -2.7456e-01,\n",
      "          5.3463e-02, -1.8640e-01, -1.6024e-01, -3.4251e-01,  1.7226e-01,\n",
      "         -2.8497e-01, -6.5585e-02,  5.9064e-02, -2.0438e-01,  4.9737e-01,\n",
      "          4.2919e-01, -2.8303e-01,  1.8844e-01, -9.5205e-01,  5.7642e-01,\n",
      "         -2.9325e-01, -9.7794e-01, -5.9150e-01, -9.8918e-01,  4.8738e-01,\n",
      "          9.9241e-02, -1.1172e-01,  9.1151e-01,  3.5681e-01,  2.0307e-01,\n",
      "         -4.2933e-02, -3.8769e-02, -1.0000e+00, -4.5778e-01, -6.2263e-01,\n",
      "          1.9372e-01, -1.0786e-01, -9.7498e-01, -9.5945e-01,  4.7979e-01,\n",
      "          9.1789e-01,  7.1847e-02,  9.9859e-01, -2.3221e-01,  9.3661e-01,\n",
      "          3.6829e-01, -3.1433e-01, -2.5309e-01, -3.1379e-01,  7.0593e-01,\n",
      "         -1.2258e-01, -5.5885e-01,  1.9922e-01,  7.2895e-02, -1.8893e-03,\n",
      "         -3.6330e-01, -3.3723e-01, -1.2470e-01, -8.9725e-01, -3.1792e-01,\n",
      "          9.2422e-01, -1.2521e-01, -1.2112e-01,  6.4339e-01, -2.0895e-01,\n",
      "         -1.8950e-01,  6.9852e-01,  4.9815e-01,  3.6865e-01, -2.6431e-02,\n",
      "          2.1185e-01, -2.9841e-01,  3.6832e-01, -7.5618e-01,  2.6645e-01,\n",
      "          2.8436e-01, -2.6796e-01, -4.4703e-01, -9.7234e-01, -2.8290e-01,\n",
      "          5.3675e-01,  9.8271e-01,  6.0601e-01,  1.4480e-01,  5.9089e-02,\n",
      "         -2.2443e-01,  2.6893e-01, -9.6510e-01,  9.7874e-01, -1.3633e-01,\n",
      "          2.2530e-01,  5.8127e-02, -9.7622e-02, -7.3407e-01, -2.3586e-01,\n",
      "          6.0907e-01,  3.3081e-02, -8.2857e-01,  7.4737e-03, -4.7554e-01,\n",
      "         -2.6494e-01, -3.4901e-01,  3.8977e-01, -1.1026e-01, -3.7984e-01,\n",
      "         -2.6833e-02,  8.5885e-01,  8.7279e-01,  5.0752e-01, -1.9419e-01,\n",
      "          4.9644e-01, -8.3215e-01, -3.9464e-01,  9.3964e-02,  2.6209e-01,\n",
      "         -7.0901e-03,  9.8971e-01, -3.4618e-01, -6.3974e-02, -8.6670e-01,\n",
      "         -9.8247e-01, -1.4387e-02, -7.9336e-01, -6.4002e-02, -5.4172e-01,\n",
      "          4.2494e-01,  4.8862e-01, -2.9303e-01,  2.4658e-01, -8.1083e-01,\n",
      "         -7.3757e-01,  1.7053e-01, -3.2658e-01,  4.0158e-01, -1.2364e-01,\n",
      "          6.5380e-01,  6.4150e-01, -4.3707e-01, -2.5482e-03,  9.0498e-01,\n",
      "         -3.0116e-01, -7.1244e-01,  4.3066e-01, -2.2978e-01,  7.6471e-01,\n",
      "         -5.8129e-01,  9.7224e-01,  5.7365e-01,  3.7964e-01, -9.1282e-01,\n",
      "         -2.7331e-01, -6.4454e-01,  4.3676e-03, -5.4035e-02, -4.7389e-01,\n",
      "          1.3399e-01,  5.5778e-01,  2.5277e-01,  6.3353e-01, -4.5522e-01,\n",
      "          9.0830e-01, -6.5440e-01, -9.6045e-01, -5.3527e-01,  3.0361e-02,\n",
      "         -9.8698e-01,  5.0006e-01,  1.4294e-01, -5.8852e-02, -3.7136e-01,\n",
      "         -2.3805e-01, -9.3871e-01,  6.4115e-01,  1.0711e-01,  9.3726e-01,\n",
      "         -4.4554e-02, -7.4998e-01, -3.0187e-01, -9.2065e-01, -8.9103e-02,\n",
      "         -3.6881e-02,  4.6919e-01, -1.8287e-01, -9.1261e-01,  4.7430e-01,\n",
      "          5.0260e-01,  2.5965e-01, -1.4041e-01,  9.6839e-01,  9.9998e-01,\n",
      "          9.7094e-01,  8.4249e-01,  6.5542e-01, -9.9475e-01, -1.6955e-01,\n",
      "          9.9995e-01, -7.6573e-01, -1.0000e+00, -8.5599e-01, -5.2354e-01,\n",
      "          2.7809e-01, -1.0000e+00, -8.2484e-02,  1.9404e-02, -9.0433e-01,\n",
      "         -6.6024e-02,  9.6325e-01,  8.7699e-01, -1.0000e+00,  6.8302e-01,\n",
      "          8.8810e-01, -6.2473e-01,  3.9054e-01, -1.7025e-01,  9.6362e-01,\n",
      "          1.8527e-01,  3.6587e-01, -1.2992e-01,  4.2769e-01, -5.9903e-01,\n",
      "         -7.6452e-01,  1.1173e-01,  8.8543e-02,  9.3572e-01,  3.7968e-02,\n",
      "         -6.8624e-01, -8.6364e-01,  1.7802e-01, -1.3078e-01, -2.1291e-01,\n",
      "         -9.4727e-01, -1.1032e-01, -1.8817e-01,  5.6534e-01, -9.0466e-02,\n",
      "          3.1057e-01, -7.1477e-01,  1.6090e-01, -4.4847e-01,  6.3460e-02,\n",
      "          6.6817e-01, -9.2431e-01, -4.8447e-01, -4.8037e-01, -4.7447e-01,\n",
      "         -6.0918e-02, -9.5750e-01,  9.4109e-01, -2.1167e-01,  4.2002e-01,\n",
      "          1.0000e+00,  2.0019e-01, -7.6821e-01,  5.3888e-01,  1.5727e-01,\n",
      "         -7.5646e-01,  1.0000e+00,  7.4754e-01, -9.8049e-01, -5.7852e-01,\n",
      "          4.0130e-01, -3.3007e-01, -4.8973e-01,  9.9786e-01, -9.9926e-02,\n",
      "          5.8761e-02,  2.1155e-01,  9.8503e-01, -9.9058e-01,  9.4468e-01,\n",
      "         -8.5360e-01, -9.4665e-01,  9.3145e-01,  9.3529e-01, -2.3167e-01,\n",
      "         -5.5188e-01,  1.0003e-01, -2.5908e-01,  2.5304e-01, -7.7758e-01,\n",
      "          4.3245e-01,  4.1297e-01,  5.1351e-02,  8.5098e-01, -5.4502e-01,\n",
      "         -5.7550e-01,  2.0741e-01, -1.7811e-01,  3.2160e-01,  6.6171e-01,\n",
      "          3.1591e-01, -2.3357e-01, -7.1328e-02, -2.1287e-01, -2.7105e-01,\n",
      "         -9.6053e-01,  4.6719e-01,  1.0000e+00,  1.3032e-01,  1.6155e-01,\n",
      "         -9.0473e-03, -2.5625e-02, -2.2994e-01,  4.0944e-01,  4.1867e-01,\n",
      "         -2.2190e-01, -7.1700e-01,  2.4193e-01, -6.0267e-01, -9.8984e-01,\n",
      "          5.1536e-01,  2.1188e-01, -2.2867e-01,  9.9922e-01,  1.1609e-01,\n",
      "          1.1857e-01, -2.1480e-01,  4.7293e-01,  2.4442e-02,  2.8244e-01,\n",
      "         -7.8929e-02,  9.7370e-01, -2.6295e-01,  5.6880e-01,  4.3781e-01,\n",
      "         -2.1653e-01, -3.5286e-01, -5.4420e-01, -5.0296e-02, -9.1682e-01,\n",
      "         -4.1343e-03, -9.2633e-01,  9.6616e-01,  2.0704e-01,  2.5213e-01,\n",
      "          1.3580e-01,  1.6544e-01,  1.0000e+00, -6.1013e-01,  4.2477e-01,\n",
      "          4.5957e-01,  5.0950e-01, -9.8270e-01, -5.1483e-01, -2.9813e-01,\n",
      "          2.2363e-02, -1.9757e-01, -1.8415e-01,  1.8904e-01, -9.4562e-01,\n",
      "         -4.8571e-02, -1.9909e-02, -8.2461e-01, -9.8367e-01,  4.1415e-01,\n",
      "          3.1791e-01,  3.6216e-02, -8.2520e-01, -4.1152e-01, -5.6618e-01,\n",
      "          1.6914e-01, -3.3341e-01, -8.7046e-01,  4.8637e-01, -1.2109e-01,\n",
      "          4.3315e-01, -1.2439e-01,  6.2364e-01,  5.1993e-02,  8.3923e-01,\n",
      "          7.7325e-02,  8.5775e-02, -1.2476e-01, -6.7104e-01,  6.2839e-01,\n",
      "         -6.2115e-01, -3.7670e-01, -2.0910e-01,  1.0000e+00, -3.7824e-01,\n",
      "          2.7778e-01,  6.5465e-01,  4.2552e-01, -3.2174e-01,  3.7403e-01,\n",
      "          6.2050e-01,  2.0669e-01,  9.5947e-02, -3.1351e-02,  2.8548e-01,\n",
      "         -2.8919e-01,  3.6498e-01, -9.6379e-02,  1.1205e-01,  6.7871e-01,\n",
      "          2.5306e-01, -7.7794e-02,  1.8990e-01, -4.5515e-02,  9.5728e-01,\n",
      "         -5.7902e-02, -2.1399e-03, -3.7625e-01, -1.2937e-01, -1.9679e-01,\n",
      "          4.4466e-02,  1.0000e+00,  3.3614e-01,  2.3212e-01, -9.9205e-01,\n",
      "         -3.1424e-01, -8.1217e-01,  9.9993e-01,  8.5476e-01, -5.5617e-01,\n",
      "          5.6140e-01,  2.9611e-01, -1.2230e-01,  2.7143e-01, -7.6469e-02,\n",
      "         -1.2157e-01,  1.4539e-01,  6.4840e-02,  9.4957e-01, -3.0897e-01,\n",
      "         -9.6795e-01, -4.8615e-01,  2.3207e-01, -9.2317e-01,  9.9608e-01,\n",
      "         -4.2382e-01, -1.5142e-01, -1.3621e-01,  1.7340e-01, -3.2211e-01,\n",
      "         -2.1481e-01, -9.6178e-01, -7.8270e-02, -4.4753e-03,  9.4831e-01,\n",
      "          1.7954e-01, -5.6883e-01, -8.4909e-01, -2.2844e-04,  3.4046e-01,\n",
      "         -1.9737e-01, -9.3328e-01,  9.6632e-01, -9.7890e-01,  3.8822e-01,\n",
      "          9.9999e-01,  1.4227e-01, -5.0063e-01,  7.5923e-02, -2.3203e-01,\n",
      "          8.3879e-02, -7.6339e-03,  2.9447e-01, -9.1992e-01, -1.5000e-01,\n",
      "         -3.2768e-02,  1.3877e-01, -6.3368e-02, -1.3840e-02,  6.4000e-01,\n",
      "          1.6171e-01, -5.6313e-01, -4.9643e-01, -2.9504e-02,  3.5091e-01,\n",
      "          7.4169e-01, -1.5415e-01, -5.2501e-02,  2.2682e-02, -1.9532e-02,\n",
      "         -8.7034e-01, -3.1095e-01, -3.1585e-01, -9.9927e-01,  4.7073e-01,\n",
      "         -1.0000e+00, -8.3794e-03, -4.2847e-01, -1.0642e-01,  7.4101e-01,\n",
      "         -2.5661e-03,  1.3761e-01, -6.1064e-01,  4.7428e-02,  7.6482e-01,\n",
      "          6.9414e-01, -1.7054e-01,  2.2489e-01, -6.9695e-01,  1.9285e-01,\n",
      "         -8.7574e-02,  7.3452e-02, -1.1668e-01,  7.4923e-01,  3.7335e-03,\n",
      "          1.0000e+00,  1.7655e-02, -3.4208e-01, -6.4951e-01,  2.3783e-01,\n",
      "         -1.0398e-01,  9.9999e-01, -5.5949e-01, -9.4586e-01,  2.8215e-01,\n",
      "         -4.9825e-01, -7.6350e-01,  2.2769e-01, -6.2084e-02, -6.2466e-01,\n",
      "         -5.6133e-01,  8.4666e-01,  5.4854e-01, -5.8115e-01,  4.4616e-01,\n",
      "         -3.0579e-01, -2.0479e-01,  1.6038e-01,  4.2307e-02,  9.8679e-01,\n",
      "          3.4832e-01,  6.2230e-01,  4.7682e-01, -6.6891e-02,  9.3638e-01,\n",
      "          2.2343e-01,  3.2308e-01,  2.1442e-01,  1.0000e+00,  2.9843e-01,\n",
      "         -8.9702e-01,  5.0991e-02, -9.3204e-01, -1.8923e-01, -8.8287e-01,\n",
      "          2.2665e-01,  7.9896e-02,  8.4987e-01, -2.7645e-01,  9.5483e-01,\n",
      "          1.5661e-01,  2.4873e-02, -1.3286e-01,  1.3606e-01,  2.1769e-01,\n",
      "         -8.4114e-01, -9.8505e-01, -9.8643e-01,  3.7228e-01, -2.7356e-01,\n",
      "         -1.8075e-02,  2.0573e-01,  1.2371e-01,  3.2316e-01,  4.0212e-01,\n",
      "         -1.0000e+00,  9.1172e-01,  3.3245e-01,  2.1946e-01,  9.5913e-01,\n",
      "          2.9637e-01,  3.9163e-01,  1.9736e-01, -9.7998e-01, -6.1294e-01,\n",
      "         -2.3314e-01, -1.8317e-01,  6.6981e-01,  5.7627e-01,  7.6500e-01,\n",
      "          2.8201e-01, -4.8412e-01, -6.5636e-02,  1.3584e-03, -2.3331e-01,\n",
      "         -9.9163e-01,  4.1976e-01,  2.9143e-01, -6.9018e-01,  9.6063e-01,\n",
      "         -5.1117e-01,  4.0171e-02,  4.8771e-01,  6.3771e-02,  6.4637e-01,\n",
      "          5.8614e-01,  2.3473e-01,  2.1016e-02,  5.4405e-01,  8.4765e-01,\n",
      "          8.1501e-01,  9.8727e-01, -2.8411e-01,  6.3324e-01, -2.2392e-02,\n",
      "          3.9567e-01,  8.2612e-01, -9.1730e-01,  1.0463e-01,  1.0473e-01,\n",
      "         -1.8834e-01,  2.8470e-01, -1.3793e-01, -7.0545e-01,  7.4549e-01,\n",
      "         -2.6795e-01,  5.6693e-01, -3.1877e-01,  1.9966e-01, -3.8006e-01,\n",
      "         -1.3232e-01, -4.8775e-01, -4.2948e-01,  6.8606e-01,  7.4173e-02,\n",
      "          8.5045e-01,  3.5558e-01, -2.7773e-02, -4.6233e-01, -1.1354e-01,\n",
      "          1.4056e-01, -9.1301e-01,  6.0402e-01, -4.4016e-02,  3.4249e-01,\n",
      "          1.7773e-01, -6.2292e-02,  8.1970e-01, -1.8558e-01, -2.6546e-01,\n",
      "         -1.8703e-01, -6.9072e-01,  6.2369e-01, -2.8754e-01, -5.1504e-01,\n",
      "         -4.9786e-01,  6.0025e-01,  2.2507e-01,  9.9909e-01, -4.7611e-02,\n",
      "         -7.7755e-03, -1.4106e-01, -1.0554e-01,  4.1342e-01, -3.0872e-01,\n",
      "         -1.0000e+00,  2.6742e-01,  1.7058e-01,  1.4318e-01, -1.3578e-01,\n",
      "          1.6391e-01, -4.1590e-02, -9.1650e-01, -3.0977e-01,  2.4729e-01,\n",
      "          7.9234e-02, -3.4558e-01, -1.5804e-01,  5.2978e-01,  3.2489e-01,\n",
      "          6.1406e-01,  7.7380e-01, -6.2423e-01,  5.1318e-01,  6.4565e-01,\n",
      "         -1.6380e-01, -5.6441e-01,  7.1684e-01]], grad_fn=<TanhBackward0>), hidden_states=None, past_key_values=None, attentions=None, cross_attentions=None)\n"
     ]
    }
   ],
   "source": [
    "print(output)"
   ]
  },
  {
   "cell_type": "code",
   "execution_count": null,
   "metadata": {},
   "outputs": [
    {
     "data": {
      "text/plain": [
       "torch.Size([1, 20, 768])"
      ]
     },
     "execution_count": 18,
     "metadata": {},
     "output_type": "execute_result"
    }
   ],
   "source": [
    "output[0].shape"
   ]
  }
 ],
 "metadata": {
  "kernelspec": {
   "display_name": "base",
   "language": "python",
   "name": "python3"
  },
  "language_info": {
   "codemirror_mode": {
    "name": "ipython",
    "version": 3
   },
   "file_extension": ".py",
   "mimetype": "text/x-python",
   "name": "python",
   "nbconvert_exporter": "python",
   "pygments_lexer": "ipython3",
   "version": "3.11.4"
  },
  "orig_nbformat": 4
 },
 "nbformat": 4,
 "nbformat_minor": 2
}
