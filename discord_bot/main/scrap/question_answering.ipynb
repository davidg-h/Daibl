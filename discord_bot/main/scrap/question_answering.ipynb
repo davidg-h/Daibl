{
 "cells": [
  {
   "cell_type": "code",
   "execution_count": 2,
   "metadata": {},
   "outputs": [
    {
     "name": "stderr",
     "output_type": "stream",
     "text": [
      "/Users/br/Projects/IT-Ptojekt-Chatbot/daibl/.venv/lib/python3.8/site-packages/tqdm/auto.py:21: TqdmWarning: IProgress not found. Please update jupyter and ipywidgets. See https://ipywidgets.readthedocs.io/en/stable/user_install.html\n",
      "  from .autonotebook import tqdm as notebook_tqdm\n"
     ]
    }
   ],
   "source": [
    "from transformers import AutoModelForQuestionAnswering, AutoTokenizer, pipeline\n",
    "from db_init import db_get_df"
   ]
  },
  {
   "cell_type": "code",
   "execution_count": 3,
   "metadata": {},
   "outputs": [],
   "source": [
    "df = db_get_df(\"html_attrs\")"
   ]
  },
  {
   "cell_type": "code",
   "execution_count": 19,
   "metadata": {},
   "outputs": [
    {
     "data": {
      "text/plain": [
       "'           Unsere Schwerpunkte im Überblick Optische Polymerfasern und Glasfasern Faseroptische Datenübertragung Polymere Lichtleitstrukturen Optische Sensoren und Messtechnik Charakterisierung von Fasern, optischen Materialien und Komponenten (RX/TX) Lichttechnische und optische Simulationen Beratungs- und Entwicklungsdienstleistungen      Um Ihr spezielles und individuelles Anliegen zu besprechen kontaktieren Sie uns bitte unter POF-AC TH-Nürnberg Georg Simon Ohm Tel: +49 5880 1070 Mail: pofac at pofac.th-nuernberg Punkt de               Sensorik                             OPTIK: Optische Auslegung von mechanischen/chemischen Faser-Modifikationen Ankopplung der Faser an die Optoelektronik Design von Sensorelementen durch Optiksimulation Materialauswahl bezüglich Verträglichkeit und optischen Parametern ELEKTRONIK: Optimierung von Sendern und Empfängern für Sensoranwendungen Entwicklung von Ansteuerungs- und Auswerteelektronik Integrierte Datenauswertung (µController)      CHARAKTERISIERUNG: Transmissionsmessungen Spektrale Messungen (Farbortverschiebung) Optische und elektrische Messungen im Zeit- und Frequenzbereich Ortsaufgelöste Messungen (OTDR, OFDR) Streuverhalten in Transmission und Reflexion Alterungstests              Datenübertragung                          Simulationen und Aufbau der Sender- und Empfängerkomponenten, sowie Prototypen zu Datenübertragung Charakterisierung der optoelektronischen Komponenten (Laserdioden, LEDs, Photodioden, etc.) P-I-V Kennlinien, Spektren, Modulationsbandbreite Messung der Frequenzgänge der Systemkomponenten bis 20 GHz Aufbau und Charakterisierung der Datenübertragungssysteme Erzeugung   und Analyse der elektrischen Signale mittels\\xa0   Arbiträr-Funktionsgenerators (AWG) mit Abtastrate bis 10GSa/s und\\xa0   Echtzeit-Oszilloskops mit Bandbreite bis 16GHz Messung der Bitfehlerwahrscheinlichkeit in Systemen mit NRZ/RZ Modulation bis 13,5 Gbit/s           Simulationsverfahren                          Auslegung  und Bewertung abbildender und nichtabbildender optischer  Systeme  mittels Strahlverfolgungsprogrammen in allen Bereichen der   Beleuchtungstechnik, Sensorik und Datenübertragung.  Simulationsgestützte  Optimierung und Toleranzbetrachtungen helfen  bei  der Entwicklung neuer  und der Verbesserung bestehender Systeme.  Die Simulationen können durch Vermessung der   optischen Eigenschaften von Lichtquellen, Streuverhalten von Oberflächen   oder Materialeigenschaften unterstützt werden.           Beleuchtungstechnik                             Sollektor -  Sonnenlicht sammeln und über Lichtleiter in innenliegende Räume transportieren ohne dabei die Wärme mitzunehmen.   Gerade in \"sonnigen\" Ländern, aber auch in Deutschland wird trotz eines Überangebots an Licht (draußen) auch tagsüber häufig mit hohem Energieaufwand und schlechtem Wirkungsgrad Kunstlicht (drinnen) verwendet, weil durch Fenster zuviel Wärme eindringen würde.      VORTEILE: Direkte Nutzung von Tageslicht - Einsparen von Energiekosten \"Kaltes\" natürliches Licht (ohne Wärme-Strahlung) Positive Auswirkung auf Wohlbefinden UND Leistungsfähigkeit des Menschen Nicht-sichtbarer Teil der Strahlung kann für weitere Energiegewinnung genutzt werden.              Messtechnik                          Am POF-AC sind diverse Möglichkeiten hinsichtlich der Vermessung der  Eigenschaften optischer Polymerfasern, Lichtleitstrukturen, optischer  Materialien und elektro-optischer Komponenten gegeben.  Beispiele von Messmöglichkeiten Transmission und Dehnung an Polymerfasern in Abhängigkeit von der Zugkraft Spektrale Dämpfung von Fasern nach VDE/VDI 5570-3 Bestimmung der Eigenschaften seitlicher Lichtleiter nach DIN\\xa058141-11 Klimatests Bestimmung des Fern- und Nahfelds von Faser Goniometer Messungen Signalerzeugung für Empfängerbelastungsprüfungen und zur Erzeugung komplexer Signale mit kontrollierbaren Signalstörungen Bitfehleranalyse in Datenübertragungssysteme uvm.              '"
      ]
     },
     "execution_count": 19,
     "metadata": {},
     "output_type": "execute_result"
    }
   ],
   "source": [
    "df.loc[6, \"text\"]"
   ]
  },
  {
   "cell_type": "code",
   "execution_count": 20,
   "metadata": {},
   "outputs": [],
   "source": [
    "\n",
    "model_name = \"deepset/roberta-base-squad2\"\n",
    "text = df.loc[6, \"text\"]\n",
    "\n",
    "# a) Get predictions\n",
    "nlp = pipeline('question-answering', model=model_name, tokenizer=model_name)\n",
    "QA_input = {\n",
    "    'question': 'Welche Schwerpunkte gibt es?',\n",
    "    'context': text\n",
    "}\n",
    "res = nlp(QA_input)\n",
    "\n",
    "# # b) Load model & tokenizer\n",
    "# model = AutoModelForQuestionAnswering.from_pretrained(model_name)\n",
    "# tokenizer = AutoTokenizer.from_pretrained(model_name)"
   ]
  },
  {
   "cell_type": "code",
   "execution_count": 21,
   "metadata": {},
   "outputs": [
    {
     "data": {
      "text/plain": [
       "{'score': 0.04047296196222305,\n",
       " 'start': 11,\n",
       " 'end': 43,\n",
       " 'answer': 'Unsere Schwerpunkte im Überblick'}"
      ]
     },
     "execution_count": 21,
     "metadata": {},
     "output_type": "execute_result"
    }
   ],
   "source": [
    "res"
   ]
  }
 ],
 "metadata": {
  "kernelspec": {
   "display_name": ".venv",
   "language": "python",
   "name": "python3"
  },
  "language_info": {
   "codemirror_mode": {
    "name": "ipython",
    "version": 3
   },
   "file_extension": ".py",
   "mimetype": "text/x-python",
   "name": "python",
   "nbconvert_exporter": "python",
   "pygments_lexer": "ipython3",
   "version": "3.8.10"
  }
 },
 "nbformat": 4,
 "nbformat_minor": 2
}
