{
 "cells": [
  {
   "cell_type": "code",
   "execution_count": null,
   "metadata": {},
   "outputs": [],
   "source": [
    "from transformers import AutoTokenizer, AutoModelForSeq2SeqLM\n",
    "from db_init import db_get_df\n",
    "\n",
    "tokenizer = AutoTokenizer.from_pretrained(\"UNIST-Eunchan/FLAN-T5-NLP-Paper-to-Question-Generation\")\n",
    "model = AutoModelForSeq2SeqLM.from_pretrained(\"UNIST-Eunchan/FLAN-T5-NLP-Paper-to-Question-Generation\")\n"
   ]
  },
  {
   "cell_type": "code",
   "execution_count": null,
   "metadata": {},
   "outputs": [],
   "source": [
    "# text = {\n",
    "#     'abstract': \"Hochschule mit vielen Professoren\",\n",
    "#     'introduction': \"Die Hochschule hat viele Professoren, Professor Weber unterrichtet Grundlagen der Informatik, Professor Gallwitz unterrichtet Grundlagen der Medieninformatik, Professor Albrecht für Textanalytics\"\n",
    "# }\n",
    "df = db_get_df(\"html_attrs\")"
   ]
  },
  {
   "cell_type": "code",
   "execution_count": 37,
   "metadata": {},
   "outputs": [
    {
     "data": {
      "text/plain": [
       "'        Nuremberg Tech is a university with strong regional roots that understands its role in a globalized living, employment, and research community. Our aim is to offer our students degree programmes and a learning environment that provide access to applied research in today’s international context. Therefore, an international and intercultural orientation already forms a key component of life at the university; the development of this characteristic is anchored in our internationalisation strategy .  The following third-party funded projects support the implementation and continued development of the measures described in the strategy to advance internationality at Nuremberg Tech.                           Internationalisation squared (2022 – 2023)  The Internationalisation squared (INT 2 ) project implements and further develops Nuremberg Tech’s internationalisation strategy. Based on a comprehensive analysis of existing Erasmus university partnerships, three to five European partner universities will be selected with which institutionalized cooperation will be extended to the area of research and deepened in the area of education. INT 2 aims to expand the catalogue of courses conducted in English at our technical Faculties and increase the number international research projects, e.g., within the framework of Horizon Europe. The long-term goal of these activities is to establish a European university network for comprehensive cooperation in all university fields of action.         2 is funded by the German Academic Exchange Service (DAAD) in Module A of the UAS.International funding programme with funds from the Federal Ministry of Education and Research (BMBF) from 1 January 2022 to 31 December 2023. In this programme, the DAAD has been funding activities to advance internationality at universities of applied sciences since 2019. UAS.International has four funding modules; projects in Module A cover initiation and preparation purposes, which include the implementation and further development of internationalisation strategies as well as the establishment and expansion of networks.                               Project team         Project management             Uwe  Mummert     Prof. Dr.      telefon  +49 (0)911 5880 - 2760     email  uwe.mummert at th-nuernberg Punkt de     fax  +49 (0)911 5880 - 6720           Project coordinator             Jörg  Franke     Dr.-Ing.      telefon  +49 (0)911 5880 - 2875     email  joerg.franke at th-nuernberg Punkt de     fax  +49 (0)911 5880 - 6720           Courses in English - project development             Rebecca  Ehrig     M.A.      telefon  +49 (0)911 5880 - 2864     email  rebecca.ehrig at th-nuernberg Punkt de           European research projects - project development             Kerstin  Seidel     Dipl.-Volksw.      telefon  +49 (0)911 5880 - 4057     email  kerstin.seidel at th-nuernberg Punkt de     fax  +49 (0)911 5880 - 8090                  '"
      ]
     },
     "execution_count": 37,
     "metadata": {},
     "output_type": "execute_result"
    }
   ],
   "source": [
    "df.loc[3,\"text\"]"
   ]
  },
  {
   "cell_type": "code",
   "execution_count": null,
   "metadata": {},
   "outputs": [],
   "source": [
    "summaries = []"
   ]
  },
  {
   "cell_type": "code",
   "execution_count": 32,
   "metadata": {},
   "outputs": [],
   "source": [
    "prompt =  f\"\"\" \n",
    "Generate Question, Answer pair correspond to the following Website. \n",
    "{df.loc[3,'text']}\n",
    "Question, Answer:\n",
    "\"\"\".replace(\"\\n\", \"\")\n",
    "\n",
    "inputs = tokenizer(prompt, max_length = 1024, truncation=True, padding=\"max_length\", return_tensors=\"pt\")\n",
    "num_generate_sequence = 4 #8, 16, 2, 1\n",
    "summary = model.generate(input_ids =inputs[\"input_ids\"], max_new_tokens=100, do_sample = True, top_p = 0.95, num_return_sequences = num_generate_sequence)"
   ]
  },
  {
   "cell_type": "code",
   "execution_count": 33,
   "metadata": {},
   "outputs": [
    {
     "data": {
      "text/plain": [
       "tensor([[    0,  4073,   386,  1611,  2397,  8278,    56,    36,  2639,    21,\n",
       "             8,   516,    58,  6306,   134,  8569,   908,   188,  6992,    23,\n",
       "             9,   636,     6,    71,   291, 11823,   636,     6,    11, 26992,\n",
       "           636,     1],\n",
       "        [    0,     3, 13777,   204,    19,  3135,     8,  2786,     7,    24,\n",
       "           963,     8,   826,  1087,    10,  3094,     8,   381,    13,  1038,\n",
       "           585,  1195,     1,     0,     0,     0,     0,     0,     0,     0,\n",
       "             0,     0],\n",
       "        [    0,  4073,  3819,    19,     8,     3, 13777,   204,   516,  3135,\n",
       "            58,  6306,   134,  8569,   908,   448,    23,   904,    32,    11,\n",
       "             3,  6675,  2788,  5713,     1,     0,     0,     0,     0,     0,\n",
       "             0,     0],\n",
       "        [    0,  2645,    65, 11264,  1087,    12,  3245,  1038,   485,    44,\n",
       "          8278,    13,  2930, 13554,   437,  1360,    58,  6306,   134,  8569,\n",
       "           908, 18609,    15,     7, 16682,  8231,  1387,     1,     0,     0,\n",
       "             0,     0]])"
      ]
     },
     "execution_count": 33,
     "metadata": {},
     "output_type": "execute_result"
    }
   ],
   "source": [
    "summary"
   ]
  },
  {
   "cell_type": "code",
   "execution_count": 35,
   "metadata": {},
   "outputs": [],
   "source": [
    "decoded_summary = [tokenizer.decode(s, skip_special_tokens=False, clean_up_tokenization_spaces=True) for s in summary]\n",
    "decoded_summary = [d.replace(\"<n>\", \" \").replace(tokenizer.pad_token, \"\").replace(tokenizer.eos_token, \"\") for d in decoded_summary]\n",
    "summaries.append(decoded_summary)"
   ]
  },
  {
   "cell_type": "code",
   "execution_count": 36,
   "metadata": {},
   "outputs": [
    {
     "data": {
      "text/plain": [
       "[' Which three European partner universities will be selected for the project?[SEP]Antonia University, Aarhus University, and Strasbourg University',\n",
       " ' INT 2 is funding the Projects that includes the following activities: increasing the number of international research projects',\n",
       " ' Which university is the INT 2 project funding?[SEP]Rimeno and UT Saint Cloud',\n",
       " ' Who has funded activities to advance internationality at universities of applied sciences since 2019?[SEP]Deutsches Academic Exchange Service']"
      ]
     },
     "execution_count": 36,
     "metadata": {},
     "output_type": "execute_result"
    }
   ],
   "source": [
    "decoded_summary"
   ]
  },
  {
   "cell_type": "code",
   "execution_count": null,
   "metadata": {},
   "outputs": [],
   "source": [
    "num_generate_sequence = 4 #8, 16, 2, 1\n",
    "summaries = model.generate(input_ids =inputs[\"input_ids\"], max_new_tokens=100, do_sample = True, top_p = 0.95, num_return_sequences = num_generate_sequence)\n"
   ]
  },
  {
   "cell_type": "code",
   "execution_count": null,
   "metadata": {},
   "outputs": [],
   "source": [
    "decoded_summaries = [tokenizer.decode(s, skip_special_tokens=False, clean_up_tokenization_spaces=True) for s in summaries]\n",
    "decoded_summaries = [d.replace(\"<n>\", \" \").replace(tokenizer.pad_token, \"\").replace(tokenizer.eos_token, \"\") for d in decoded_summaries]"
   ]
  },
  {
   "cell_type": "code",
   "execution_count": null,
   "metadata": {},
   "outputs": [],
   "source": [
    "decoded_summaries"
   ]
  },
  {
   "cell_type": "code",
   "execution_count": null,
   "metadata": {},
   "outputs": [],
   "source": [
    "# Use a pipeline as a high-level helper\n",
    "from transformers import pipeline\n",
    "\n",
    "pipe = pipeline(\"text2text-generation\", model=\"UNIST-Eunchan/FLAN-T5-NLP-Paper-to-Question-Generation\")"
   ]
  },
  {
   "cell_type": "code",
   "execution_count": null,
   "metadata": {},
   "outputs": [],
   "source": [
    "pipe(\"\"\" \n",
    "Generate Question, Answer pair correspond to the following research paper. \n",
    "[Abstract] In this work, we explore prompt tuning, a simple yet effective mechanism for learning soft prompts to condition frozen language models to perform specific downstream tasks. Unlike the discrete text prompts used by GPT-3, soft prompts are learned through backpropagation and can be tuned to incorporate signal from any number of labeled examples. Our end-to-end learned approach outperforms GPT-3's few-shot learning by a large margin. More remarkably, through ablations on model size using T5, we show that prompt tuning becomes more competitive with scale: as models exceed billions of parameters, our method closes the gap and matches the strong performance of model tuning (where all model weights are tuned). This finding is especially relevant in that large models are costly to share and serve, and the ability to reuse one frozen model for multiple downstream tasks can ease this burden. Our method can be seen as a simplification of the recently proposed prefix tuning of Li and Liang (2021), and we provide a comparison to this and other similar approaches. Finally, we show that conditioning a frozen model with soft prompts confers benefits in robustness to domain transfer, as compared to full model tuning. [Introduction] With the wide success of pre-trained large language models, a range of techniques has arisen to adapt these general-purpose models to downstream tasks. ELMo (Peters et al., 2018) proposed freezing the pre-trained model and learning a task-specific weighting of its per-layer representations. However, since GPT (Radford et al., 2018) and BERT (Devlin et al., 2019), the dominant adaptation technique has been model tuning (or fine-tuning), where all model parameters are tuned during adaptation, as proposed by Howard and Ruder (2018).More recently, Brown et al. (2020) showed that prompt design (or priming) is surprisingly effective at modulating a frozen GPT-3 model’s behavior through text prompts. Prompts are typically composed of a task description and/or several canonical examples. This return to freezing pre-trained models is appealing, especially as model size continues to increase. Rather than requiring a separate copy of the model for each downstream task, a single generalist model can simultaneously serve many different tasks. Unfortunately, prompt-based adaptation has several key drawbacks. Task description is error-prone and requires human involvement, and the effectiveness of a prompt is limited by how much conditioning text can fit into the model’s input. As a result, downstream task quality still lags far behind that of tuned models. For instance, GPT-3 175B fewshot performance on SuperGLUE is 17.5 points below fine-tuned T5-XXL (Raffel et al., 2020) (71.8 vs. 89.3) despite using 16 times more parameters. Several efforts to automate prompt design have been recently proposed. Shin et al. (2020) propose a search algorithm over the discrete space of words, guided by the downstream application training data. While this technique outperforms manual prompt design, there is still a gap relative to model tuning. Li and Liang (2021) propose prefix tuning and show strong results on generative tasks. This method freezes the model parameters and backpropagates the error during tuning to prefix activations prepended to each layer in the encoder stack, including the input layer. Hambardzumyan et al. (2021) simplify this recipe by restricting the trainable parameters to the input and output subnetworks of a masked language model, and show reasonable results on classifications tasks. In this paper, we propose prompt tuning as a further simplification for adapting language models. We freeze the entire pre-trained model and only allow an additional k tunable tokens per downstream task to be prepended to the input text. This soft prompt is trained end-to-end and can condense the signal from a full labeled dataset, allowing our method to outperform few-shot prompts and close the quality gap with model tuning (Figure 1). At the same time, since a single pre-trained model is recycled for all downstream tasks, we retain the efficient serving benefits of frozen models (Figure 2). While we developed our method concurrently with Li and Liang (2021) and Hambardzumyan et al. (2021), we are the first to show that prompt tuning alone (with no intermediate-layer prefixes or task-specific output layers) is sufficient to be competitive with model tuning. Through detailed experiments in sections 2–3, we demonstrate that language model capacity is a key ingredient for these approaches to succeed. As Figure 1 shows, prompt tuning becomes more competitive with scale. We compare with similar approaches in Section 4. Explicitly separating task-specific parameters from the generalist parameters needed for general language-understanding has a range of additional benefits. We show in Section 5 that by capturing the task definition in the prompt while keeping the generalist parameters fixed, we are able to achieve better resilience to domain shifts. In Section 6, we show that prompt ensembling, learning multiple prompts for the same task, can boost quality and is more efficient than classic model ensembling. Finally, in Section 7, we investigate the interpretability of our learned soft prompts. In sum, our key contributions are: 1. Proposing prompt tuning and showing its competitiveness with model tuning in the regime of large language models. 2. Ablating many design choices, and showing quality and robustness improve with scale. 3. Showing prompt tuning outperforms model tuning on domain shift problems. 4. Proposing prompt ensembling and showing its effectiveness. \n",
    "Question, Answer:\n",
    "\"\"\".replace(\"\\n\", \"\"))"
   ]
  }
 ],
 "metadata": {
  "kernelspec": {
   "display_name": ".venv",
   "language": "python",
   "name": "python3"
  },
  "language_info": {
   "codemirror_mode": {
    "name": "ipython",
    "version": 3
   },
   "file_extension": ".py",
   "mimetype": "text/x-python",
   "name": "python",
   "nbconvert_exporter": "python",
   "pygments_lexer": "ipython3",
   "version": "3.8.10"
  }
 },
 "nbformat": 4,
 "nbformat_minor": 2
}
