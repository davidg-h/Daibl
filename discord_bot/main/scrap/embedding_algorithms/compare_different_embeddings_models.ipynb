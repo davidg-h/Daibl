{
 "cells": [
  {
   "cell_type": "markdown",
   "metadata": {},
   "source": [
    "# Einleitung"
   ]
  },
  {
   "cell_type": "markdown",
   "metadata": {},
   "source": [
    "In diesem Notebook vergleichen wir die verschiednen Ansätze, damit unserer Bot die best passenden ANtworte generiert."
   ]
  },
  {
   "cell_type": "markdown",
   "metadata": {},
   "source": [
    "Die 5 Fragen, die verglichen werden sollen:\n",
    "- Die Fragen sollen Fakultät übergreifend sein\n",
    "- Die Fragen sollen TH-spezifisch sein\n",
    "- Die Fragen sollen TH-Intranet-spezifisch sein\n",
    "- Die Fragen sollen Realitätsnah sein\n",
    "\n",
    "Die 5 Fragen, die verglichen werden sind:\n",
    "\n",
    "1. Wie ist die Email Adresse von Professor Gallwitz?\n",
    "2. Was soll ich beachten, wenn ich eine Prüfung anmelden will?\n",
    "3. Welche voraussetzungen, muss ich für den Mater Studiengang erfüllen?\n",
    "4. Welche Professoren gibt es an der Fakultät Soziale Arbeit?\n",
    "5. Wann und was muss ich im IT-Projekt machen?"
   ]
  },
  {
   "cell_type": "markdown",
   "metadata": {},
   "source": [
    "## LLM Model: Vicuna groß"
   ]
  },
  {
   "cell_type": "markdown",
   "metadata": {},
   "source": [
    "Nun werden fogende Parameter verglichen."
   ]
  },
  {
   "cell_type": "markdown",
   "metadata": {},
   "source": [
    "| LLM Modell    | Kontext Variation | Word Embedding Model | Frage 1 | Frage 2 | Frage 3 | Frage 4 | Frage 5 | Durchschnitt |\n",
    "|---------------|-------------------|----------------------|---------|---------|---------|---------|---------|--------------|\n",
    "| Vicuna groß   | 1 Dokument        | a(MiniLM)            | 2       | 4       | 5       | 8       | 7       | 5.2          |\n",
    "| Vicuna groß   | 1 Dokument        | b(xy)                 | 10      | 10      | 10      | 10      | 10      | 10           |\n",
    "| Vicuna groß   | 1 Dokument        | c(TF-IDF)             |         |         |         |         |         | 0            |\n",
    "| Vicuna groß   | 1 Dokument        | d(MiniLM*TF-IDF)      |         |         |         |         |         | 0            |\n",
    "| Vicuna groß   | 1 Dokument        | e(xy*TF-IDF)          |         |         |         |         |         | 0            |\n",
    "| Vicuna groß   | 5 Dokumente       | a                     |         |         |         |         |         | 0            |\n",
    "| Vicuna groß   | 5 Dokumente       | b                     |         |         |         |         |         | 0            |\n",
    "| Vicuna groß   | 5 Dokumente       | c                     |         |         |         |         |         | 0            |\n",
    "| Vicuna groß   | 5 Dokumente       | d                     |         |         |         |         |         | 0            |\n",
    "| Vicuna groß   | 5 Dokumente       | e                     |         |         |         |         |         | 0            |\n",
    "| Vicuna groß   | 10 Dokumente      | a                     |         |         |         |         |         | 0            |\n",
    "| Vicuna groß   | 10 Dokumente      | b                     |         |         |         |         |         | 0            |\n",
    "| Vicuna groß   | 10 Dokumente      | c                     |         |         |         |         |         | 0            |\n",
    "| Vicuna groß   | 10 Dokumente      | d                     |         |         |         |         |         | 0            |\n",
    "| Vicuna groß   | 10 Dokumente      | e                     |         |         |         |         |         | 0            |\n"
   ]
  },
  {
   "cell_type": "code",
   "execution_count": 6,
   "metadata": {},
   "outputs": [],
   "source": [
    "import sys\n",
    "sys.path.append('..')\n",
    "sys.path.append('../..')\n",
    "from LLM.ServerCommunicator import server_get_answer\n",
    "from question_embedding_MiniLM import get_most_similar_articles\n",
    "import re\n",
    "\n",
    "from db_init import db_get_df, db_save_df"
   ]
  },
  {
   "cell_type": "code",
   "execution_count": 7,
   "metadata": {},
   "outputs": [],
   "source": [
    "df = db_get_df(\"MiniLM_embeddings\")\n",
    "def construct_query(documents, message):\n",
    "    query=f\"\"\"\n",
    "        {'----document----'.join(documents)}\n",
    "        \\n----document----\\n\n",
    "         Mithilfe der oben stehenden Dokumente beantworte die folgende Frage: \\n\n",
    "        {message.replace('$daibl ', '')}\n",
    "        \"\"\"\n",
    "    query = re.sub(r'\\s+', ' ', query)\n",
    "\n",
    "    print(query)\n",
    "    return query"
   ]
  },
  {
   "cell_type": "code",
   "execution_count": null,
   "metadata": {},
   "outputs": [],
   "source": []
  },
  {
   "cell_type": "code",
   "execution_count": 10,
   "metadata": {},
   "outputs": [
    {
     "name": "stderr",
     "output_type": "stream",
     "text": [
      "Batches: 100%|██████████| 1/1 [00:00<00:00, 58.90it/s]\n",
      "Calculating similarities: 100%|██████████| 2433/2433 [00:01<00:00, 1796.57it/s]\n"
     ]
    },
    {
     "name": "stdout",
     "output_type": "stream",
     "text": [
      " Professorin an der TH Nürnberg Professorinnen Der Hochschulservice für Familie, Gleichstellung und Gesundheit bietet die administrative und organisatorische Unterstützung der Hochschulfrauenbeauftragten und ihrer Stellvertreterin sowie der Frauenbeauftragten der Fakultäten. Die Hochschule ist bestrebt den Anteil an Professorinnen in allen Fakultäten zu erhöhen. Der Frauenanteil unter den Professuren ist in den letzten Jahren stetig gestiegen, liegt aber mit 16,4 % (WS2017/2018) unter dem bundesweiten Durchschnitt von 22,3 % an Hochschulen für angewandte Wissenschaften (2016). Mit der Teilnahme am Professorinnenprogramm des Bundes und der Länder konnten bereits erfolgreich Frauen als Lehrende gewonnen werden. Besondere gleichstellungsfördernde Maßnahmen unterstützen die Bemühungen. Förderung von Forschung und Anbahnung von Forschung Zuschuss für hauptamtlich lehrende Frauen Der Zuschuss richtet sich an hauptamtlich lehrende Frauen an der Ohm, die ein Forschungsprojekt initiieren oder durchführen wollen und hierfür entsprechende Mittel beantragen. Die Ausschreibung des Zuschusses erfolgt fakultätsübergreifend und kann jeweils für ein Semester beantragt werden. Für die Beantragung ist ein ca. einseitiges Schreiben mit Projektbeschreibung inclusive geplanter Kosten zusammen mit dem jeweiligen Antragsformular (Freikauf, Hilfskraftkosten oder Sachkosten mit Nachweis) per Email einzureichen. Weitere Informationen erhalten Sie in der Richtlinie zum Forschungszuschuss für forschende hauptamtlich lehrende Frauen. Die Vergabe erfolgt nach Reihenfolge des Eingangs der (vollständigen) Bewerbungsunterlagen und Umfang der zur Vergabe zur Verfügung stehenden Finanzmittel. Bewerbungsfristen jeweils eines Jahres sind: - für das Wintersemester: vom 01. bis 15.07. - für das Sommersemester vom 07.01. bis 21.01. Bitte beachten Sie, dass Ihr Antrag im Vorfeld in Ihrer Fakultät abgestimmt sein muss. Antragsformulare: Freikauf : Im Rahmen des Freikaufs beträgt der Zuschuss bis zu 2 SWS (bitte keine*n konkrete*n Lehrbeauftragte*n bennenen, sondern die Pauschale wählen) oder Hilfskraftkosten : Für die Übernahme der Kosten für studentische Hilfskräfte kann ein Zuschuss in Höhe von max. 1.500 Euro brutto beantragt werden oder Sachkosten : Sachkosten können bis zu max. 1.500 Euro (netto) unter Vorlage der entsprechenden Kostenvoranschläge beantragt werden. Informationen zum Zuschuss Name Kontakt Janina Halbig telefon +49 (0)911 5880 - 4086 email janina.halbig at th-nuernberg Punkt de fax +49 (0)911 5880 - 8181 Kontakt Name Kontakt Areti Papastavrou Prof. Dr.-Ing. telefon +49 (0)911 5880 - 1382 oder intern über ms teams email areti.papastavrou at th-nuernberg Punkt de fax +49 (0)911 5880 - 5291 ----document---- Mithilfe der oben stehenden Dokumente beantworte die folgende Frage: Welche Professoren gibt es an der Fakultät Soziale Arbeit? \n",
      "got query length 2859\n",
      " Professorin an der TH Nürnberg Professorinnen Der Hochschulservice für Familie, Gleichstellung und Gesundheit bietet die administrative und organisatorische Unterstützung der Hochschulfrauenbeauftragten und ihrer Stellvertreterin sowie der Frauenbeauftragten der Fakultäten. Die Hochschule ist bestrebt den Anteil an Professorinnen in allen Fakultäten zu erhöhen. Der Frauenanteil unter den Professuren ist in den letzten Jahren stetig gestiegen, liegt aber mit 16,4 % (WS2017/2018) unter dem bundesweiten Durchschnitt von 22,3 % an Hochschulen für angewandte Wissenschaften (2016). Mit der Teilnahme am Professorinnenprogramm des Bundes und der Länder konnten bereits erfolgreich Frauen als Lehrende gewonnen werden. Besondere gleichstellungsfördernde Maßnahmen unterstützen die Bemühungen. Förderung von Forschung und Anbahnung von Forschung Zuschuss für hauptamtlich lehrende Frauen Der Zuschuss richtet sich an hauptamtlich lehrende Frauen an der Ohm, die ein Forschungsprojekt initiieren oder durchführen wollen und hierfür entsprechende Mittel beantragen. Die Ausschreibung des Zuschusses erfolgt fakultätsübergreifend und kann jeweils für ein Semester beantragt werden. Für die Beantragung ist ein ca. einseitiges Schreiben mit Projektbeschreibung inclusive geplanter Kosten zusammen mit dem jeweiligen Antragsformular (Freikauf, Hilfskraftkosten oder Sachkosten mit Nachweis) per Email einzureichen. Weitere Informationen erhalten Sie in der Richtlinie zum Forschungszuschuss für forschende hauptamtlich lehrende Frauen. Die Vergabe erfolgt nach Reihenfolge des Eingangs der (vollständigen) Bewerbungsunterlagen und Umfang der zur Vergabe zur Verfügung stehenden Finanzmittel. Bewerbungsfristen jeweils eines Jahres sind: - für das Wintersemester: vom 01. bis 15.07. - für das Sommersemester vom 07.01. bis 21.01. Bitte beachten Sie, dass Ihr Antrag im Vorfeld in Ihrer Fakultät abgestimmt sein muss. Antragsformulare: Freikauf : Im Rahmen des Freikaufs beträgt der Zuschuss bis zu 2 SWS (bitte keine*n konkrete*n Lehrbeauftragte*n bennenen, sondern die Pauschale wählen) oder Hilfskraftkosten : Für die Übernahme der Kosten für studentische Hilfskräfte kann ein Zuschuss in Höhe von max. 1.500 Euro brutto beantragt werden oder Sachkosten : Sachkosten können bis zu max. 1.500 Euro (netto) unter Vorlage der entsprechenden Kostenvoranschläge beantragt werden. Informationen zum Zuschuss Name Kontakt Janina Halbig telefon +49 (0)911 5880 - 4086 email janina.halbig at th-nuernberg Punkt de fax +49 (0)911 5880 - 8181 Kontakt Name Kontakt Areti Papastavrou Prof. Dr.-Ing. telefon +49 (0)911 5880 - 1382 oder intern über ms teams email areti.papastavrou at th-nuernberg Punkt de fax +49 (0)911 5880 - 5291 ----document---- Mithilfe der oben stehenden Dokumente beantworte die folgende Frage: Welche Professoren gibt es an der Fakultät Soziale Arbeit? \n",
      "ANTWORT \n",
      "\n",
      "**Hinweis:** Bitte beachten Sie, dass die Informationen in den Dokumenten möglicherweise nicht aktuell sind und dass es sich bei den genannten Professorinnen um Professorinnen an der TH Nürnberg und nicht an der Fakultät Soziale Arbeit handeln kann.\n"
     ]
    },
    {
     "name": "stderr",
     "output_type": "stream",
     "text": [
      "C:\\Users\\lizab\\AppData\\Local\\Temp\\ipykernel_10536\\1939671556.py:4: RuntimeWarning: coroutine 'server_get_answer' was never awaited\n",
      "  answer =  await server_get_answer(query)\n",
      "RuntimeWarning: Enable tracemalloc to get the object allocation traceback\n"
     ]
    }
   ],
   "source": [
    "question = \"Welche Professoren gibt es an der Fakultät Soziale Arbeit?\"\n",
    "documents = get_most_similar_articles(question, 1)\n",
    "query = construct_query(documents, question)\n",
    "answer =  await server_get_answer(query)\n",
    "print(\"ANTWORT\", answer)\n"
   ]
  }
 ],
 "metadata": {
  "kernelspec": {
   "display_name": "Python 3",
   "language": "python",
   "name": "python3"
  },
  "language_info": {
   "codemirror_mode": {
    "name": "ipython",
    "version": 3
   },
   "file_extension": ".py",
   "mimetype": "text/x-python",
   "name": "python",
   "nbconvert_exporter": "python",
   "pygments_lexer": "ipython3",
   "version": "3.9.13"
  }
 },
 "nbformat": 4,
 "nbformat_minor": 2
}
