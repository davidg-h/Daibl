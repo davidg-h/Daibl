{
 "cells": [
  {
   "cell_type": "markdown",
   "metadata": {},
   "source": [
    "# How the BERT Model works\n",
    "\n",
    "This Notebook trys to explain in detail, how the BERT Model works and how we use it to calculate our embeddings. It heavily debends on this Notebook (https://colab.research.google.com/drive/1yFphU6PW9Uo6lmDly_ud9a6c4RCYlwdX)\n",
    "First we import the modules required. You can safely ignore the warning stating \"Some weights of ..\"\n"
   ]
  },
  {
   "cell_type": "code",
   "execution_count": 42,
   "metadata": {},
   "outputs": [
    {
     "name": "stderr",
     "output_type": "stream",
     "text": [
      "Some weights of the model checkpoint at bert-base-uncased were not used when initializing BertModel: ['cls.predictions.transform.LayerNorm.bias', 'cls.seq_relationship.bias', 'cls.predictions.transform.dense.weight', 'cls.predictions.transform.LayerNorm.weight', 'cls.predictions.bias', 'cls.seq_relationship.weight', 'cls.predictions.transform.dense.bias']\n",
      "- This IS expected if you are initializing BertModel from the checkpoint of a model trained on another task or with another architecture (e.g. initializing a BertForSequenceClassification model from a BertForPreTraining model).\n",
      "- This IS NOT expected if you are initializing BertModel from the checkpoint of a model that you expect to be exactly identical (initializing a BertForSequenceClassification model from a BertForSequenceClassification model).\n"
     ]
    }
   ],
   "source": [
    "import pandas as pd\n",
    "from transformers import BertModel, BertTokenizer\n",
    "import torch\n",
    "import warnings\n",
    "model = BertModel.from_pretrained('bert-base-uncased', output_hidden_states = True) \n",
    "tokenizer = BertTokenizer.from_pretrained('bert-base-uncased')"
   ]
  },
  {
   "cell_type": "markdown",
   "metadata": {},
   "source": [
    "Zum Start nehmen wir uns einen Beispielsatz und zerlegen ihn in Tokens."
   ]
  },
  {
   "cell_type": "code",
   "execution_count": 43,
   "metadata": {},
   "outputs": [
    {
     "name": "stdout",
     "output_type": "stream",
     "text": [
      "in der bi ##bl ##iot ##he ##k gi ##bt es 40 bu ##cher zu ##m them ##a anime ##s\n"
     ]
    }
   ],
   "source": [
    "test_sentence = \"In der Bibliothek gibt es 40 Bücher zum Thema Animes\"\n",
    "test_sentence_tokens = tokenizer.tokenize(test_sentence)\n",
    "print(*test_sentence_tokens)"
   ]
  },
  {
   "cell_type": "markdown",
   "metadata": {},
   "source": [
    "Als nächstes fügen wir die obligatorischen [CLS] und [SEP] tokens an den Anfang und das Ende an und berechnen dann die Token-IDs."
   ]
  },
  {
   "cell_type": "code",
   "execution_count": 47,
   "metadata": {},
   "outputs": [
    {
     "name": "stdout",
     "output_type": "stream",
     "text": [
      "[101, 101, 1999, 4315, 12170, 16558, 25185, 5369, 2243, 21025, 19279, 9686, 2871, 20934, 7474, 16950, 2213, 2068, 2050, 8750, 2015, 102, 102]\n"
     ]
    }
   ],
   "source": [
    "test_sentence_tokens = ['[CLS]'] + test_sentence_tokens + ['[SEP]']\n",
    "attention_mask = [1 if token != \"[PAD]\" else 0  for token in test_sentence_tokens]\n",
    "token_ids = tokenizer.convert_tokens_to_ids(test_sentence_tokens)\n",
    "print(token_ids)\n",
    "\n"
   ]
  },
  {
   "cell_type": "markdown",
   "metadata": {},
   "source": [
    "Dann nehmen wir die Token IDs und füttern Sie dem BERT Model als Input. Das BERT Model ist ein dichtes neuronales Netzwerk mit 12 Schichten. Jede Schicht besteht dabei aus 768 verschiedenen Neuronen, die alle ein verschiedenen Wert annehmen können.\n",
    "\n",
    "Wir benutzen hier auch die python Bibliothek torch. Diese bietet viele Möglichkeiten, Maschine Learning funktionalitäten einfach umzusetzen. In diesem Fall benutzen wir Tensoren. Tensoren kann man sich vorstellen als Listen von Listen. Eine Liste (=Array) ist eine eindimensionale Struktur. Wenn jedes Element der Liste eine weitere Liste beinhaltet, nennt man dies Matrix. Eine Matrix hat 2 Dimensionen. Wenn dann jedes Element dieser Matrix nochmal eine Liste ist, nennt man dies Tensor. Tensoren sind dann ein Überbegriff für n-dimensionale Datenstrukturen.\n",
    "\n",
    "In diesem Fall erstellen wir einen Tensor aus einer Liste (token_ids). Der Tensor hat  die Dimension (len(token_ids),). Mit der funktion unsqueeze() können Wir einfach eine Dimension hinzufügen. Aus der Liste token_ids, wird eine Liste, die als erstes Element die Liste token_ids beinhaltet. Die Dimension ist jetzt (1, len(token_ids)). "
   ]
  },
  {
   "cell_type": "code",
   "execution_count": 48,
   "metadata": {},
   "outputs": [],
   "source": [
    "token_ids = torch.tensor(token_ids).unsqueeze(0)\n",
    "attention_mask = torch.tensor(attention_mask).unsqueeze(0)"
   ]
  },
  {
   "cell_type": "code",
   "execution_count": 49,
   "metadata": {},
   "outputs": [
    {
     "name": "stdout",
     "output_type": "stream",
     "text": [
      "torch.Size([1, 23, 768])\n"
     ]
    }
   ],
   "source": [
    "output = model(token_ids, attention_mask=attention_mask)\n",
    "print(output[0].shape)"
   ]
  },
  {
   "cell_type": "markdown",
   "metadata": {},
   "source": [
    "In der Output Variable speichern wir nun den output des BERT Models. Dieser Output ist sehr vielschichtig, also analysieren wir ihn etwas. \n",
    "Der Output besteht zunöchst aus 3 Elementen:\n",
    "* output[0] - torch.Size([1, 31, 768])\n",
    "* output[1] - torch.Size([1, 768])\n",
    "* output[2] - list(torch.Size([1, 41, 768]))\n",
    "\n",
    "Die ersten 2 Outputs stehen für die Ergebnisse des BERT Models die Default als Entwerte der letzten schicht (TODO überprüfen) stehen.\n",
    "\n",
    "output[2] ist für die Berechnung der Embeddings jedoch am wichtigsten. Hierbei handelt es sich um die Hidden-States des Neuronalen Netzwerkes. \n",
    "\n",
    "output[2] besteht aus einer Liste mit 13 Elementen - 12 layer plus inout encoding\n",
    "für jedes dieser Layer ist ein Tensor mit den Dimensionen (batch_size, Tokens, hidden_states) gespeichert."
   ]
  },
  {
   "cell_type": "code",
   "execution_count": 27,
   "metadata": {},
   "outputs": [
    {
     "name": "stdout",
     "output_type": "stream",
     "text": [
      "Number of layers: 13   (initial embeddings + 12 BERT layers)\n",
      "Number of batches: 1\n",
      "Number of tokens: 41\n",
      "Number of hidden units: 768\n"
     ]
    }
   ],
   "source": [
    "hidden_states = output[2]\n",
    "print (\"Number of layers:\", len(hidden_states), \"  (initial embeddings + 12 BERT layers)\")\n",
    "layer_i = 0\n",
    "\n",
    "print (\"Number of batches:\", len(hidden_states[layer_i]))\n",
    "batch_i = 0\n",
    "\n",
    "print (\"Number of tokens:\", len(hidden_states[layer_i][batch_i]))\n",
    "token_i = 0\n",
    "\n",
    "print (\"Number of hidden units:\", len(hidden_states[layer_i][batch_i][token_i]))"
   ]
  },
  {
   "cell_type": "markdown",
   "metadata": {},
   "source": [
    "Das sind 409 344 verschiedene Werte um einen einzigen Satz zu repräsentieren!!!\n",
    "Wir können uns an dieser Stelle auch einmal die Verteilung der hidden Werte in einem Bestimmten Layer für ein bestimmtes Token anschauen:"
   ]
  },
  {
   "cell_type": "code",
   "execution_count": 32,
   "metadata": {},
   "outputs": [
    {
     "data": {
      "image/png": "[encoded data removed]",
      "text/plain": [
       "<Figure size 1000x400 with 1 Axes>"
      ]
     },
     "metadata": {},
     "output_type": "display_data"
    }
   ],
   "source": [
    "import matplotlib.pyplot as plt\n",
    "# For the 5th token in our sentence, select its feature values from layer 5.\n",
    "token_i = 5\n",
    "layer_i = 5\n",
    "vec = hidden_states[layer_i][batch_i][token_i]\n",
    "vec = vec.detach().numpy()\n",
    "# Plot the values as a histogram to show their distribution.\n",
    "plt.figure(figsize=(10,4))\n",
    "plt.hist(vec, bins=200)\n",
    "plt.show()"
   ]
  },
  {
   "cell_type": "markdown",
   "metadata": {},
   "source": [
    "Die hidden_states sind gerade noch nch Layern gruppiert, aber es ist Sinnvoller, sie nach Tokens zu gruppieren. Die layer dimension ist gerade noch eine python Liste, deswegen fügen wir sie als 0 dimension einem Tensor hinzu. "
   ]
  },
  {
   "cell_type": "code",
   "execution_count": 33,
   "metadata": {},
   "outputs": [
    {
     "data": {
      "text/plain": [
       "torch.Size([13, 1, 41, 768])"
      ]
     },
     "execution_count": 33,
     "metadata": {},
     "output_type": "execute_result"
    }
   ],
   "source": [
    "token_embeddings = torch.stack(hidden_states, dim=0)\n",
    "token_embeddings.size()"
   ]
  },
  {
   "cell_type": "markdown",
   "metadata": {},
   "source": [
    "Als nächstes Entfernen wir die Batches dimension, da wir sowieso nur einen Satz haben:"
   ]
  },
  {
   "cell_type": "code",
   "execution_count": 34,
   "metadata": {},
   "outputs": [
    {
     "data": {
      "text/plain": [
       "torch.Size([13, 41, 768])"
      ]
     },
     "execution_count": 34,
     "metadata": {},
     "output_type": "execute_result"
    }
   ],
   "source": [
    "# Remove dimension 1, the \"batches\".\n",
    "token_embeddings = torch.squeeze(token_embeddings, dim=1)\n",
    "\n",
    "token_embeddings.size()"
   ]
  },
  {
   "cell_type": "markdown",
   "metadata": {},
   "source": [
    "Jetzt können wir die Dimensionen mithilfe von torchs permute vertauschen:"
   ]
  },
  {
   "cell_type": "code",
   "execution_count": 35,
   "metadata": {},
   "outputs": [
    {
     "data": {
      "text/plain": [
       "torch.Size([41, 13, 768])"
      ]
     },
     "execution_count": 35,
     "metadata": {},
     "output_type": "execute_result"
    }
   ],
   "source": [
    "# Swap dimensions 0 and 1.\n",
    "token_embeddings = token_embeddings.permute(1,0,2)\n",
    "\n",
    "token_embeddings.size()"
   ]
  },
  {
   "cell_type": "markdown",
   "metadata": {},
   "source": [
    "Das finale Ziel ist, ein einziges Embedding für diesen Satz zu erstellen. im Moment haben wir für jedes Token in jedem Layer ein Embedding. also 533 mal soviele wie wir eigentlich wollen.\n",
    "\n",
    "Um dieses Problem zu lösen, gibt es verschiedene Möglichkeiten die verschiedenen Embeddings zu verbinden.\n",
    "\n",
    "Eine Methode wäre, für jedes Token das 2. bis letzte Layer einfach nur zu mitteln"
   ]
  },
  {
   "cell_type": "code",
   "execution_count": 40,
   "metadata": {},
   "outputs": [
    {
     "name": "stdout",
     "output_type": "stream",
     "text": [
      "torch.Size([13, 768])\n",
      "torch.Size([768])\n"
     ]
    }
   ],
   "source": [
    "\n",
    "layer_vecs = torch.mean(token_embeddings, dim=0)\n",
    "print(layer_vecs.shape)\n",
    "# Calculate the average of all 41 token vectors.\n",
    "sentence_embedding = torch.mean(layer_vecs[2:], dim=0)\n",
    "print(sentence_embedding.shape)"
   ]
  },
  {
   "cell_type": "markdown",
   "metadata": {},
   "source": [
    "Es gibt noch weitere Ansätze, z.B.:\n",
    "\n",
    "nur das letzte layer\n",
    "embed_1 = layer_vecs[12]\n",
    "\n",
    "den durchschnitt aller layer\n",
    "embed_2 = torch.mean(layer_vecs[2:], dim=0)\n",
    "\n",
    "die Summe aller layer\n",
    "embed_3 = layer_vecs[2:].sum(0)\n",
    "\n",
    "die Summe der letzten 4 Layer\n",
    "embed_4 = layer_vecs[-4:].sum(0) \n",
    "\n",
    "Die Letzten 4 Layer hintereinandergehängt\n",
    "embed_5 = torch.cat([layer_vecs[i] for i in [-1,-2,-3,-4]], dim=0)"
   ]
  },
  {
   "cell_type": "markdown",
   "metadata": {},
   "source": [
    "Die Entwickler des BERT Models haben selbst die verschiedenen Ansätze evaluiert und bei Ihnen war die concatenation der letzten 4 Layer am besten. Allerdings ist dies Aufgabenabhängig und die anderen Ansätze waren marginal schlechter. Die Evaluation für unser Problem muss nun noch erfolgen. "
   ]
  },
  {
   "cell_type": "code",
   "execution_count": 37,
   "metadata": {},
   "outputs": [
    {
     "data": {
      "text/plain": [
       "torch.Size([768])"
      ]
     },
     "execution_count": 37,
     "metadata": {},
     "output_type": "execute_result"
    }
   ],
   "source": []
  }
 ],
 "metadata": {
  "kernelspec": {
   "display_name": ".venv",
   "language": "python",
   "name": "python3"
  },
  "language_info": {
   "codemirror_mode": {
    "name": "ipython",
    "version": 3
   },
   "file_extension": ".py",
   "mimetype": "text/x-python",
   "name": "python",
   "nbconvert_exporter": "python",
   "pygments_lexer": "ipython3",
   "version": "3.8.10"
  }
 },
 "nbformat": 4,
 "nbformat_minor": 2
}
