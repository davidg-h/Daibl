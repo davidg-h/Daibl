{
 "cells": [
  {
   "cell_type": "markdown",
   "metadata": {},
   "source": [
    "<h1>Data visualization</h1>\n",
    "\n",
    "This Notebook focuses on visualizing the data we got so that it may be easier to understand them. In the long run it helps us solve different errors (like null entries) and make predictions about why certain Algorithms or Embeddings are not as useful as they seemed to be.\n",
    "\n",
    "First we load the whole Data from the Database"
   ]
  },
  {
   "cell_type": "code",
   "execution_count": null,
   "metadata": {},
   "outputs": [],
   "source": [
    "import sqlite3\n",
    "import pandas as pd\n",
    "\n",
    "pd.set_option('display.max_colwidth', 200)\n",
    "\n",
    "def df_from_database(database_path):\n",
    "    con = sqlite3.connect(database_path)\n",
    "    html_df = pd.read_sql_query(\"SELECT * FROM word_embeddings\", con)\n",
    "    con.close()\n",
    "    return html_df\n",
    "\n",
    "df = df_from_database(\"html.sqlite\")\n",
    "\n",
    "df[\"url\"] = [\"https://www.th-nuernberg.de/\" + file.replace(\"data/htmlfiles/file_\",\"\").replace(\">\", \"/\").replace(\".html\", \"\") for file in df[\"filename\"]]\n",
    "\n",
    "print(df.dtypes)"
   ]
  },
  {
   "cell_type": "code",
   "execution_count": null,
   "metadata": {},
   "outputs": [],
   "source": [
    "print(f\"Wir haben insgesamt {len(df)} verschiedene Webseiten gescraped\")\n",
    "print(\"2 Beispiele der Daten sind\")\n",
    "print(df.sample(2))"
   ]
  },
  {
   "cell_type": "markdown",
   "metadata": {},
   "source": [
    "Der Text auf diese Webseiten ist dabei im Schnitt "
   ]
  },
  {
   "cell_type": "code",
   "execution_count": null,
   "metadata": {},
   "outputs": [],
   "source": [
    "import matplotlib.pyplot as plt\n",
    "\n",
    "df['length'] = df['text'].map(len)\n",
    "df['length'].plot(kind='box', vert=False, figsize=(8, 1))\n",
    "plt.show()\n",
    "df[df[\"length\"].eq(0) == False].plot(kind='hist', bins=50)\n",
    "plt.show()"
   ]
  },
  {
   "cell_type": "code",
   "execution_count": null,
   "metadata": {},
   "outputs": [],
   "source": [
    "most_text = df.sort_values(\"length\", ascending=False)\n",
    "print(most_text[\"url\"].head(10))"
   ]
  },
  {
   "cell_type": "code",
   "execution_count": null,
   "metadata": {},
   "outputs": [],
   "source": [
    "most_text[most_text[\"length\"].eq(0) == False][100:].plot(kind='hist', bins=200)\n",
    "plt.show()\n"
   ]
  },
  {
   "cell_type": "markdown",
   "metadata": {},
   "source": [
    "TODO: links zu webseiten im Dataframe speichern\n",
    "Die Seite mit dem meißten Inhalt (https://www.th-nuernberg.de/fakultaeten/bw/fakultaet/alumni/alumniportraits/) ist tatsächlich eine sehr Informative Webseite, bei der Porträts über ehemalige Absolvent*innen der Fakultät BWL zu sehen sind."
   ]
  },
  {
   "cell_type": "markdown",
   "metadata": {},
   "source": [
    "Webseiten mit keinem Inhalt ca. ein drittel der Webseiten."
   ]
  },
  {
   "cell_type": "code",
   "execution_count": null,
   "metadata": {},
   "outputs": [],
   "source": [
    "df[df[\"length\"].eq(0)].count()\n"
   ]
  },
  {
   "cell_type": "code",
   "execution_count": null,
   "metadata": {},
   "outputs": [],
   "source": [
    "least_text = df.sort_values(\"length\", ascending=True).head(10)\n",
    "print(least_text[\"url\"])"
   ]
  },
  {
   "cell_type": "markdown",
   "metadata": {},
   "source": [
    "Wordcloud mit allen Worten\n",
    "TODO: sortiere häufigdte Wörter aus, lemmatisieren, deutsch-englisch"
   ]
  },
  {
   "cell_type": "code",
   "execution_count": null,
   "metadata": {},
   "outputs": [],
   "source": [
    "from matplotlib import pyplot as plt\n",
    "from wordcloud import WordCloud\n",
    "from matplotlib.colors import ListedColormap\n",
    "from collections import Counter\n",
    "\n",
    "\n",
    "def txa_wordcloud(list_of_words, bg_color=\"black\", mask=None):\n",
    "    # Define custom colors for the color map\n",
    "    colors = [\"#FF0000\", \"#FFCD00\", \"#FFD800\", \"#00FF00\"]\n",
    "\n",
    "    # Create a custom color map using ListedColormap\n",
    "    colormap = ListedColormap(colors)\n",
    "\n",
    "    wc = WordCloud(width=800, height=400, background_color=bg_color, colormap=colormap, max_words=200, mask=mask) \n",
    "    wc.generate_from_frequencies(Counter(list_of_words))\n",
    "\n",
    "    # Plot\n",
    "    fig = plt.figure(figsize=(20, 10))\n",
    "    plt.imshow(wc, interpolation='bilinear')\n",
    "    plt.axis(\"off\")\n",
    "    plt.tight_layout(pad=0)\n",
    "    plt.show()\n",
    "\n",
    "whole_text = \" \".join(df[\"text\"])\n",
    "whole_text = whole_text.replace(\"\\n\", \"\").lower()\n",
    "whole_text_list = whole_text.split(\" \")\n",
    "txa_wordcloud(whole_text_list)\n",
    "\n"
   ]
  },
  {
   "cell_type": "code",
   "execution_count": null,
   "metadata": {},
   "outputs": [],
   "source": [
    "file_path = 'data/wordlist.txt'  \n",
    "common_words = [] \n",
    "try:\n",
    "    with open(file_path, 'r') as file:\n",
    "        for line in file:\n",
    "            common_words.append(line.strip())\n",
    "except FileNotFoundError:\n",
    "    print(f\"The file '{file_path}' was not found.\")\n",
    "except Exception as e:\n",
    "    print(f\"An error occurred: {str(e)}\")\n",
    "\n",
    "print(common_words)\n",
    "filtered_text_list = [word for word in whole_text_list if word not in common_words]\n",
    "txa_wordcloud(filtered_text_list)"
   ]
  },
  {
   "cell_type": "markdown",
   "metadata": {},
   "source": [
    "TODO: Anzahl an Seiten mit nicht-html content (xml, jpg, pdf ... )"
   ]
  },
  {
   "cell_type": "code",
   "execution_count": null,
   "metadata": {},
   "outputs": [],
   "source": [
    "xml_text = df.loc[ \"xml\" not in df[\"filename\"] ]\n",
    "print(least_text[\"url\"])"
   ]
  },
  {
   "cell_type": "code",
   "execution_count": null,
   "metadata": {},
   "outputs": [],
   "source": []
  }
 ],
 "metadata": {
  "kernelspec": {
   "display_name": ".venv",
   "language": "python",
   "name": "python3"
  },
  "language_info": {
   "codemirror_mode": {
    "name": "ipython",
    "version": 3
   },
   "file_extension": ".py",
   "mimetype": "text/x-python",
   "name": "python",
   "nbconvert_exporter": "python",
   "pygments_lexer": "ipython3",
   "version": "3.8.10"
  },
  "orig_nbformat": 4
 },
 "nbformat": 4,
 "nbformat_minor": 2
}
