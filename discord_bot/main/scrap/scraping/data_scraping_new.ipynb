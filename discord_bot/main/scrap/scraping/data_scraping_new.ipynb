{
 "cells": [
  {
   "cell_type": "markdown",
   "metadata": {},
   "source": [
    "# Die Webseite der TH Nürnberg Scrapen"
   ]
  },
  {
   "cell_type": "markdown",
   "metadata": {},
   "source": [
    "### Einleitung"
   ]
  },
  {
   "cell_type": "markdown",
   "metadata": {},
   "source": [
    "Die Webseite der TH-Nürnberg wirkt als Ausgangspunkt für die Wissensgrundlage des Chatbots.\n",
    "\n",
    "Conventions: \n",
    "- pandas Spaltennamen im Sigular\n",
    "- Die meißten Links sind keine URLs, da sie lokal sind"
   ]
  },
  {
   "cell_type": "code",
   "execution_count": 1,
   "metadata": {},
   "outputs": [],
   "source": [
    "import sys\n",
    "sys.path.append('..')\n",
    "from bs4 import BeautifulSoup\n",
    "from bs4.element import Comment\n",
    "import pandas as pd\n",
    "from db_init import db_get_df, db_save_df\n",
    "import glob\n",
    "import json\n",
    "import requests\n",
    "import sys\n",
    "from tqdm import tqdm"
   ]
  },
  {
   "cell_type": "markdown",
   "metadata": {},
   "source": [
    "### Scrapen der home Seite"
   ]
  },
  {
   "cell_type": "markdown",
   "metadata": {},
   "source": [
    "Als Ausganspunkt für unsere Daten nutzen wir die Home Webseite der TH-Nürnberg. (https://www.th-nuernberg.de/)\n",
    "Diese Website downloaden wir und suchen alle Links auf andere Webseiten und speichern diese Links in eine Liste.\n",
    "Als nächsten Schritt rufen wir alle Links aus dieser Liste Auf und sammeln wiederum alle Links von jeder dieser Webseiten.\n",
    "In der daraus resultierenden Liste sortieren wir alle Links aus, die nicht auf die Webseite der TH verweisen.\n",
    "Dann laden wir alle Dokumente herunter und speichern sie in der Datenbank."
   ]
  },
  {
   "cell_type": "markdown",
   "metadata": {},
   "source": [
    "Eine Funktion, die eine URL als parameter nimmt und das HTML file zurückgibt, falls die Seite existiert"
   ]
  },
  {
   "cell_type": "code",
   "execution_count": 5,
   "metadata": {},
   "outputs": [],
   "source": [
    "def download_html_from_url(url):\n",
    "    res = requests.get(url)\n",
    "    html = \"\"\n",
    "    if res.ok:\n",
    "        html =  res.text\n",
    "    return html"
   ]
  },
  {
   "cell_type": "markdown",
   "metadata": {},
   "source": [
    "Eine Funktion, die ein HTML file nach links durchsucht und alle gefundenen externen und internen Links zurückgibt."
   ]
  },
  {
   "cell_type": "code",
   "execution_count": 6,
   "metadata": {},
   "outputs": [],
   "source": [
    "def get_links_from_one_html(html):\n",
    "    soup = BeautifulSoup(html,\"lxml\")\n",
    "    urls = [a[\"href\"] for a in soup.find_all('a', href=True)]\n",
    "    return urls"
   ]
  },
  {
   "cell_type": "markdown",
   "metadata": {},
   "source": [
    "Jetzt geben wir unsere initiale URL an und extrahieren alle Links aus dieser"
   ]
  },
  {
   "cell_type": "code",
   "execution_count": 32,
   "metadata": {},
   "outputs": [
    {
     "name": "stdout",
     "output_type": "stream",
     "text": [
      "/ # /en/ # /studium-karriere/ /karriere-bei-uns/stellenangebote/ #navcontent9 /einrichtungen-gesamt/in-institute/e-beratung-onlineberatung/ /einrichtungen-gesamt/in-institute/institut-fuer-angewandte-informatik/ /einrichtungen-gesamt/in-institute/institut-fuer-angewandte-wasserstoffforschung-elektro-und-thermochemische-energiesysteme/ /einrichtungen-gesamt/in-institute/institut-fuer-leistungselektronische-systeme-elsys/ /einrichtungen-gesamt/in-institute/institut-fuer-chemie-material-und-produktentwicklung/ /einrichtungen-gesamt/in-institute/institut-fuer-fahrzeugtechnik/ /einrichtungen-gesamt/in-institute/institut-fuer-energie-und-gebaeude-ieg/ /einrichtungen-gesamt/in-institute/institut-fuer-wasserbau-und-wasserwirtschaft/ /einrichtungen-gesamt/in-institute/language-center/ https://ohm-professional-school.de/home/ /einrichtungen-gesamt/in-institute/polymer-optical-fiber-application-center/ /einrichtungen-gesamt/kompetenzzentren/corporate-development-management-accounting-and-financial-control/ /einrichtungen-gesamt/kompetenzzentren/energietechnik/ /einrichtungen-gesamt/kompetenzzentren/finanzen/ /einrichtungen-gesamt/kompetenzzentren/gender-and-diversity-komgedi/ /einrichtungen-gesamt/kompetenzzentren/zentrum-fuer-kuenstliche-intelligenz-kiz/ /einrichtungen-gesamt/kompetenzzentren/logistik/ /einrichtungen-gesamt/kompetenzzentren/soziale-innovationen-methoden-und-analysen-kosima/ /einrichtungen-gesamt/kompetenzzentren/ohm-user-experience-center/ http://www.efi.fh-nuernberg.de/cig http://www.werkstoffanalytik.de /einrichtungen-gesamt/wissenschaftliche-und-forschungskooperationen/digitalisierungskolleg-disruption-in-creativity-disc/ /einrichtungen-gesamt/wissenschaftliche-und-forschungskooperationen/leonardo-zentrum-fuer-kreativitaet-und-innovation/ http://www.encn.de /einrichtungen-gesamt/wissenschaftliche-und-forschungskooperationen/nuremberg-campus-of-technology/ /einrichtungen-gesamt/fraunhofer-forschungsgruppen/future-engineering/ /einrichtungen-gesamt/fraunhofer-forschungsgruppen/partikeltechnologien-rohstoffinnovationen-und-ressourceneffizienz/ /einrichtungen-gesamt/administration-und-service/akademisches-controlling/ /einrichtungen-gesamt/administration-und-service/bibliothek/ /studium-karriere/karriere/career-service/ /einrichtungen-gesamt/abteilungen/digitales-hochschulmanagement/ /einrichtungen-gesamt/abteilungen/finanzabteilung/ /einrichtungen-gesamt/administration-und-service/hochschulkommunikation-marketing/ /einrichtungen-gesamt/administration-und-service/hochschulservice-fuer-familie-gleichstellung-und-gesundheit/ /internationales/internationale-beziehungen-und-services/ /einrichtungen-gesamt/administration-und-service/lehr-und-kompetenzentwicklung/ /internationales/ohm-international-school/ /einrichtungen-gesamt/abteilungen/personalabteilung/ /einrichtungen-gesamt/abteilungen/personalentwicklung/ /einrichtungen-gesamt/administration-und-service/qualitaets-und-prozessmanagement/ /einrichtungen-gesamt/administration-und-service/studienbuero/ /einrichtungen-gesamt/administration-und-service/technik-facility-management/ /forschung-innovation/beratung-und-service/kontakt-und-anfahrt/ /studium-karriere/studienorientierung-und-studienwahl/zentrale-studienberatung/ /einrichtungen-gesamt/administration-und-service/zentrale-it/ #navcontent469 /fakultaeten/ac/ /fakultaeten/amp/ /fakultaeten/ar/ /fakultaeten/bi/ /fakultaeten/bw/ /fakultaeten/d/ /fakultaeten/efi/ /fakultaeten/in/ /fakultaeten/mb-vs/ /fakultaeten/sw/ /fakultaeten/vt/ /fakultaeten/wt/ /fakultaeten/soh/ #navcontent3890 /hochschule-region/ /hochschule-region/organisation-und-struktur/ /hochschule-region/organisation-und-struktur/hochschulleitung-und-gremien/ /hochschule-region/organisation-und-struktur/geschichte-facts-figures/ /hochschule-region/organisation-und-struktur/einrichtungen-und-organisation/ /hochschule-region/strategie-und-profil/ /hochschule-region/strategie-und-profil/strategien-der-th-nuernberg/ /hochschule-region/strategie-und-profil/leitbild-der-th-nuernberg/ /hochschule-region/strategie-und-profil/leitbild-lehren-und-lernen-im-dialog-sein/ /einrichtungen-gesamt/administration-und-service/hochschulservice-fuer-familie-gleichstellung-und-gesundheit/ /hochschule-region/strategie-und-profil/rahmenvereinbarung-und-hochschulvertraege/ /einrichtungen-gesamt/administration-und-service/qualitaets-und-prozessmanagement/qualitaetsmanagement/ /ohm-shop/ /hochschule-region/freunde-und-foerderer/ /hochschule-region/freunde-und-foerderer/bund-der-freunde/ /hochschule-region/freunde-und-foerderer/alumni/ /studium-karriere/studienfinanzierung/deutschlandstipendium/ /studium-karriere/studienfinanzierung/ueberblick-stipendien/ /hochschule-region/organisation-und-struktur/geschichte-facts-figures/ehrungen-und-preise/ /hochschule-region/nachhaltigkeit/ /hochschule-region/nachhaltigkeit/governance/ /hochschule-region/nachhaltigkeit/forschung/ /hochschule-region/nachhaltigkeit/bildung/ /hochschule-region/nachhaltigkeit/infrastruktur/ /hochschule-region/nachhaltigkeit/transfer/ /hochschule-region/nachhaltigkeit/studentische-initiativen/ /hochschule-region/ /forschung-innovation/ /forschung-innovation/forschungsschwerpunkte/ /forschung-innovation/forschungsschwerpunkte/energie-ressourcen/ /forschung-innovation/forschungsschwerpunkte/materialien-produktionstechnik/ /forschung-innovation/forschungsschwerpunkte/mobilitaet-verkehr-logistik/ /forschung-innovation/forschungsschwerpunkte/gesundheit/ /forschung-innovation/forschungsschwerpunkte/digitalisierung-kuenstliche-intelligenz/ /forschung-innovation/forschungsschwerpunkte/nachhaltigkeit/ /forschung-innovation/forschungsschwerpunkte/soziale-oekonomische-transformation/ /forschung-innovation/high-tech-agenda-bayern/ /forschung-innovation/high-tech-agenda-bayern/forschungsorientierte-professuren-und-projekte/ /forschung-innovation/forschungseinrichtungen/ /einrichtungen-gesamt/wissenschaftliche-und-forschungskooperationen/ /einrichtungen-gesamt/fraunhofer-forschungsgruppen/ /einrichtungen-gesamt/in-institute/ /einrichtungen-gesamt/kompetenzzentren/ /forschung-innovation/forschungseinrichtungen/ohm-innovation-center/ /forschung-innovation/beratung-und-service/ /forschung-innovation/beratung-und-service/angebote-der-zentralstelle-fuer-wissens-und-technologietransfer/ /forschung-innovation/beratung-und-service/nationale-foerdermoeglichkeiten/ /forschung-innovation/beratung-und-service/internationale-foerdermoeglichkeiten/ /forschung-innovation/beratung-und-service/auftragsforschung/ /forschung-innovation/beratung-und-service/dienstleistungen-gutachten-und-messreihen/ /forschung-innovation/beratung-und-service/afue-vertraege-und-geheimhaltungsvereinbarungen/ /forschung-innovation/beratung-und-service/erfinder-und-patentberatung/ /forschung-innovation/beratung-und-service/promotion-und-nachwuchsfoerderung/ /forschung-innovation/beratung-und-service/kontakt-und-anfahrt/ /forschung-innovation/transfer-und-kooperationen/ /forschung-innovation/transfer-und-kooperationen/servicestelle-transfer/ /forschung-innovation/transfer-und-kooperationen/transferverstaendnis-strategie/ /forschung-innovation/transfer-und-kooperationen/kooperationen-mit-der-wirtschaft/ /forschung-innovation/transfer-und-kooperationen/kooperationen-mit-gemeinnuetzigen-partnern/ /forschung-innovation/transfer-und-kooperationen/internationale-forschungsprojekte/ /einrichtungen-gesamt/wissenschaftliche-und-forschungskooperationen/leonardo-zentrum-fuer-kreativitaet-und-innovation/ /forschung-innovation/transfer-und-kooperationen/hochschulnetzwerke/ /forschung-innovation/transfer-und-kooperationen/internationale-netzwerke/ /forschung-innovation/transfer-und-kooperationen/future-code-bayern/ /veranstaltungen/ohm-innovation-talks/ /forschung-innovation/ /studium-karriere/ /studium-karriere/studien-und-bildungsangebot/ /studiengaenge/ /studium-karriere/studien-und-bildungsangebot/bachelorstudiengaenge/ /studium-karriere/studien-und-bildungsangebot/masterstudiengaenge/ /studium-karriere/studien-und-bildungsangebot/duale-studienmodelle/ /studium-karriere/studien-und-bildungsangebot/orientierungsstudium-mint-o-mint/ /studium-karriere/studien-und-bildungsangebot/modulstudium-gaststudium/ /studium-karriere/studien-und-bildungsangebot/virtuelle-hochschule-bayern/ /studium-karriere/studienorientierung-und-studienwahl/ /studium-karriere/studienorientierung-und-studienwahl/masterstudiengaenge-stellen-sich-vor-1/ /studium-karriere/studienorientierung-und-studienwahl/angebote-fuer-bestimmte-zielgruppen/ /studium-karriere/studien-und-bildungsangebot/orientierungsstudium-mint-o-mint/ /studium-karriere/studienorientierung-und-studienwahl/studi-talks-frag-die-dies-wissen-muessen/ /studium-karriere/studienorientierung-und-studienwahl/studieninfotage/ /studium-karriere/studienorientierung-und-studienwahl/schulbesuche/ /studium-karriere/studienorientierung-und-studienwahl/warum-th-nuernberg/ /studium-karriere/studienorientierung-und-studienwahl/schritt-fuer-schritt-zum-richtigen-studiengang/ /studium-karriere/studienorientierung-und-studienwahl/zentrale-studienberatung/ /studium-karriere/studienorientierung-und-studienwahl/studienberatungsportal/ https://www.studiengangstest.de /studium-karriere/erfolgreich-durchs-studium/mut-zum-studium/ /studium-karriere/studienorientierung-und-studienwahl/schnuppervorlesungen/ /studium-karriere/zulassung-und-bewerbung/ /studium-karriere/zulassung-und-bewerbung/zulassungsvoraussetzungen/ /studium-karriere/zulassung-und-bewerbung/bewerbungsablauf/ /studium-karriere/zulassung-und-bewerbung/bewerbungszeitraeume/ /studium-karriere/erfolgreich-durchs-studium/ /studium-karriere/wichtiges-zum-studienstart/vorbereitungskurse/ /studium-karriere/studienorientierung-und-studienwahl/zentrale-studienberatung/ /einrichtungen-gesamt/administration-und-service/studienbuero/ /studium-karriere/erfolgreich-durchs-studium/mut-zum-studium/ /forschung-innovation/transfer-und-kooperationen/kooperationen-mit-gemeinnuetzigen-partnern/service-learning-engagiert-studiert/ /einrichtungen-gesamt/administration-und-service/bibliothek/ /studium-karriere/erfolgreich-durchs-studium/angebote-fuer-bestimmte-zielgruppen/ /studium-karriere/karriere/ /studium-karriere/karriere/career-service/ /einrichtungen-gesamt/administration-und-service/hochschulservice-fuer-familie-gleichstellung-und-gesundheit/gleichstellung-und-frauenfoerderung-an-der-hochschule/angebote-fuer-zielgruppen/studierende/ http://jobboerse.th-nuernberg.de/ /forschung-innovation/beratung-und-service/promotion-und-nachwuchsfoerderung/ /beratung-services/beratungsstellen/gruendungsberatung/ /studium-karriere/karriere/career-service/service-fuer-alumni/ /internationales/internationale-beziehungen-und-services/mobilitaet-weltweit/mobilitaet-von-studierenden/ /studium-karriere/studentisches-leben/ /studium-karriere/studentisches-leben/wohnen-in-nuernberg/ /studium-karriere/studentisches-leben/mobilitaet/ /studium-karriere/studentisches-leben/mitbestimmung-an-der-th/ /forschung-innovation/transfer-und-kooperationen/kooperationen-mit-gemeinnuetzigen-partnern/service-learning-engagiert-studiert/ /studium-karriere/studentisches-leben/hochschulsport/ /studium-karriere/studentisches-leben/strohm-soehne/ /studium-karriere/studentisches-leben/verpflegung-am-campus/ /studium-karriere/studentisches-leben/musik-an-der-th/ /studium-karriere/studentisches-leben/theater-an-der-th/ /studium-karriere/studentisches-leben/orientierung-am-campus/ /studium-karriere/studentisches-leben/nachhaltigkeit-im-studentenleben/ /studium-karriere/studienfinanzierung/ /studium-karriere/studienfinanzierung/ueberblick-stipendien/ /studium-karriere/studienfinanzierung/deutschlandstipendium/ /studium-karriere/studienfinanzierung/bafoeg/ /studium-karriere/studienfinanzierung/studienkredite/ /studium-karriere/studienfinanzierung/kontakt-und-beratung/ /studium-karriere/wichtiges-zum-studienstart/ /studium-karriere/wichtiges-zum-studienstart/einschreibung/ /studium-karriere/wichtiges-zum-studienstart/studentenwerkbeitrag/ /studium-karriere/wichtiges-zum-studienstart/termine-im-ueberblick/ /studium-karriere/wichtiges-zum-studienstart/einfuehrungsveranstaltungen/ /studium-karriere/wichtiges-zum-studienstart/lehrveranstaltungen/ /studium-karriere/studentisches-leben/mobilitaet/ /studium-karriere/wichtiges-zum-studienstart/anrechnung-von-leistungen/ /studium-karriere/wichtiges-zum-studienstart/vorbereitungskurse/ /studium-karriere/wichtiges-zum-studienstart/ohmcard/ /studium-karriere/ /internationales/ /internationales/ohm-international-school/ /internationales/internationale-studiengaenge/ /internationales/internationale-beziehungen-und-services/welcome-services/austauschstudierende-von-partnerhochschulen-an-der-th-nuernberg/ohm-international-summer-school/ /internationales/internationale-beziehungen-und-services/ /internationales/internationale-beziehungen-und-services/kooperationen-und-projekte/ /internationales/internationale-beziehungen-und-services/mobilitaet-weltweit/ /internationales/internationale-beziehungen-und-services/welcome-services/ /einrichtungen-gesamt/in-institute/language-center/ /internationales/projekte/ /internationales/internationalisierungsprojekte/ /forschung-innovation/transfer-und-kooperationen/internationale-forschungsprojekte/ /internationales/ /weiterbildung/ /weiterbildung/berufsbegleitende-studiengaenge/ /weiterbildung/inhouse-angebote-fuer-unternehmen/ /weiterbildung/lehrgaenge-mit-hochschulzertifikat/ /weiterbildung/unser-portfolio/ /weiterbildung/seminare-kolloquien-tagungen-kongresse/ /weiterbildung/lebenslanges-lernen/ /weiterbildung/ /beratung-services/ /beratung-services/beratungsstellen/ /studium-karriere/karriere/career-service/ /studium-karriere/studien-und-bildungsangebot/duale-studienmodelle/ /studium-karriere/studienorientierung-und-studienwahl/angebote-fuer-bestimmte-zielgruppen/studieren-ohne-abitur/ /beratung-services/beratungsstellen/gruendungsberatung/ /beratung-services/beratungsstellen/psychologische-beratung/ /studium-karriere/studienorientierung-und-studienwahl/zentrale-studienberatung/ /beratung-services/serviceeinrichtungen/ /einrichtungen-gesamt/administration-und-service/bibliothek/ /einrichtungen-gesamt/administration-und-service/hochschulservice-fuer-familie-gleichstellung-und-gesundheit/ /einrichtungen-gesamt/administration-und-service/technik-facility-management/facility-management/ /internationales/internationale-beziehungen-und-services/ /einrichtungen-gesamt/administration-und-service/lehr-und-kompetenzentwicklung/ /einrichtungen-gesamt/wissenschaftliche-und-forschungskooperationen/leonardo-zentrum-fuer-kreativitaet-und-innovation/leo-labs/ /forschung-innovation/transfer-und-kooperationen/kooperationen-mit-gemeinnuetzigen-partnern/service-learning-engagiert-studiert/ /einrichtungen-gesamt/administration-und-service/studienbuero/ /einrichtungen-gesamt/administration-und-service/zentrale-it/ /beratung-services/onlineservices/ /studium-karriere/zulassung-und-bewerbung/bewerbungsablauf/ http://jobboerse.th-nuernberg.de /einrichtungen-gesamt/administration-und-service/qualitaets-und-prozessmanagement/ideen-und-verbesserungsmanagement/ https://www.studiengangstest.de/portal/ https://intern.ohmportal.de/index.php?id=25758 https://ohm.kh-netzwerk.de/ /studium-karriere/studienorientierung-und-studienwahl/studi-talks-frag-die-dies-wissen-muessen/ /wie-erreichen-sie-uns/oeffnungszeiten/ /wie-erreichen-sie-uns/anfahrt/ /beratung-services/ /karriere-bei-uns/ /karriere-bei-uns/attraktiver-standort/ /karriere-bei-uns/warum-zur-th-nuernberg/ /karriere-bei-uns/ansprechpartner/ /karriere-bei-uns/was-bietet-die-th-nuernberg/ /karriere-bei-uns/was-bietet-die-th-nuernberg/fuer-professorinnen/ /karriere-bei-uns/was-bietet-die-th-nuernberg/fuer-beschaeftigte/ /karriere-bei-uns/welche-berufsgruppen-gibt-es-an-der-th-nuernberg/ /forschung-innovation/beratung-und-service/promotion-und-nachwuchsfoerderung/promovieren-an-der-th-nuernberg/ /karriere-bei-uns/welche-berufsgruppen-gibt-es-an-der-th-nuernberg/wissenschaftliche-mitarbeit/ /karriere-bei-uns/welche-berufsgruppen-gibt-es-an-der-th-nuernberg/lehrauftrag/ /karriere-bei-uns/welche-berufsgruppen-gibt-es-an-der-th-nuernberg/wissenschaftsunterstuetzendes-personal/ /karriere-bei-uns/welche-berufsgruppen-gibt-es-an-der-th-nuernberg/ausbildung/ /karriere-bei-uns/stellenangebote/ /karriere-bei-uns/stellenangebote/stellenangebote-professuren/ /karriere-bei-uns/stellenangebote/stellenangebote-beschaeftigte/ https://jobboerse.th-nuernberg.de /karriere-bei-uns/stellenangebote/datenschutz/ /karriere-bei-uns/stellenangebote/personalrat/ /karriere-bei-uns/ /veranstaltungen/jubilaeum/ /forschung-innovation/transfer-und-kooperationen/kooperationen-mit-gemeinnuetzigen-partnern/pro-noris-preis/ https://leonardo-zentrum.de/labs/ /studium-karriere/studienorientierung-und-studienwahl/masterstudiengaenge-stellen-sich-vor-1/ /studium-karriere/studienorientierung-und-studienwahl/angebote-fuer-bestimmte-zielgruppen/schuelerinnen-und-schueler/ https://www.hochschuljobboerse.de/studierende/praxistage?mtm_campaign=a-thn-cs&mtm_kwd=ho-s-OhmB%EF%BF%BDhne /studium-karriere/ /studium-karriere/studienorientierung-und-studienwahl/masterstudiengaenge-stellen-sich-vor-1/ /weiterbildung/ /weiterbildung/lehrgaenge-mit-hochschulzertifikat/ /hochschule-region/ /einrichtungen-gesamt/administration-und-service/hochschulkommunikation-marketing/presse-kommunikation/ohm-journal/ /forschung-innovation/ /news/5169-energieforschung-erhielt-neue-impulse/ /internationales/ /internationales/internationale-beziehungen-und-services/welcome-services/austauschstudierende-von-partnerhochschulen-an-der-th-nuernberg/ohm-international-summer-school/ /beratung-services/ /studium-karriere/studienorientierung-und-studienwahl/studi-talks-frag-die-dies-wissen-muessen/ https://www.th-nuernberg.de/news-archiv/ /studium-karriere/ /informationen-fuer/wissenschaftscommunity/ /informationen-fuer/unternehmen/ /informationen-fuer/alumni/ /informationen-fuer/studierende/ /karriere-bei-uns/ /einrichtungen-gesamt/abteilungen/personalabteilung/ /einrichtungen-gesamt/administration-und-service/hochschulkommunikation-marketing/ /pressemitteilung/5166-urkundenverleihung-deutschlandstipendium/ /pressemitteilung/5153-hoersaaleinweihung-alumina-hoersaal/ /pressemitteilung/5147-ohmshorts-feiern-debuet-im-cinecitta/ /einrichtungen-gesamt/administration-und-service/hochschulkommunikation-marketing/presse-kommunikation/ /pressemitteilungen/aktuelle-meldung/News/2023/ /einrichtungen-gesamt/administration-und-service/hochschulkommunikation-marketing/ /calendarRSS.xml/?tx_calendarize_calendar%5Bhmac%5D=79c214e0615ada5e3ef20bf4bda6bacd725e62b3&cHash=752bfc333320e868f9279290c481d998 /veranstaltung/8874-infoveranstaltung-building-information-modeling-bim/ /veranstaltung/8886-bw-abschlussposter-ausstellung-wintersemester-2023/2024/ /veranstaltung/8884-insolvenzrecht-perspektiven-von-insolvenzgericht-und-insolvenzverwalter/ /index.php?id=3491 # # https://de.linkedin.com/school/thnuernberg/ https://www.instagram.com/ohm_thnuernberg/ https://www.tiktok.com/@ohm_thnuernberg https://www.youtube.com/user/THNuernberg https://twitter.com/TH_Nuernberg https://www.xing.com/companies/technischehochschulenürnberg /wie-erreichen-sie-uns/ /impressum/ /datenschutz/ /ohm-shop/ https://my.ohmportal.de/\n"
     ]
    }
   ],
   "source": [
    "BASE_URL = \"https://www.th-nuernberg.de/\"\n",
    "html = download_html_from_url(BASE_URL)\n",
    "links = get_links_from_one_html(html)\n",
    "df = pd.DataFrame({\"link\": links})\n",
    "print(*df[\"link\"])"
   ]
  },
  {
   "cell_type": "markdown",
   "metadata": {},
   "source": [
    "### Links filtern"
   ]
  },
  {
   "cell_type": "markdown",
   "metadata": {},
   "source": [
    "Zunächst können wir alle Links überprüfen, ob sie Parameter mit *?param1=hallo*, oder sections mit *#section* enthalten. Beide Attribute sind für den Download der Webseiten nicht notwendig und "
   ]
  },
  {
   "cell_type": "markdown",
   "metadata": {},
   "source": [
    "### Externe Links filtern"
   ]
  },
  {
   "cell_type": "markdown",
   "metadata": {},
   "source": [
    "Jetzt können wir Mal nachschauen, auf welche externen Seiten die THN Webseite verweist."
   ]
  },
  {
   "cell_type": "code",
   "execution_count": 7,
   "metadata": {},
   "outputs": [],
   "source": [
    "def filter_extern_urls(urls):\n",
    "    filtered_links = []\n",
    "    for link in urls:\n",
    "        if link.startswith(\"http\"):\n",
    "            filtered_links.append(link)\n",
    "\n",
    "    return filtered_links"
   ]
  },
  {
   "cell_type": "code",
   "execution_count": 34,
   "metadata": {},
   "outputs": [
    {
     "name": "stdout",
     "output_type": "stream",
     "text": [
      "Anzahl externer Links:  21\n",
      "['https://ohm-professional-school.de/home/', 'http://www.efi.fh-nuernberg.de/cig', 'http://www.werkstoffanalytik.de', 'http://www.encn.de', 'https://www.studiengangstest.de', 'http://jobboerse.th-nuernberg.de/', 'http://jobboerse.th-nuernberg.de', 'https://www.studiengangstest.de/portal/', 'https://intern.ohmportal.de/index.php?id=25758', 'https://ohm.kh-netzwerk.de/', 'https://jobboerse.th-nuernberg.de', 'https://leonardo-zentrum.de/labs/', 'https://www.hochschuljobboerse.de/studierende/praxistage?mtm_campaign=a-thn-cs&mtm_kwd=ho-s-OhmB%EF%BF%BDhne', 'https://www.th-nuernberg.de/news-archiv/', 'https://de.linkedin.com/school/thnuernberg/', 'https://www.instagram.com/ohm_thnuernberg/', 'https://www.tiktok.com/@ohm_thnuernberg', 'https://www.youtube.com/user/THNuernberg', 'https://twitter.com/TH_Nuernberg', 'https://www.xing.com/companies/technischehochschulenürnberg', 'https://my.ohmportal.de/']\n"
     ]
    }
   ],
   "source": [
    "extern_links = filter_extern_urls(df[\"link\"])\n",
    "print(\"Anzahl externer Links: \", len(extern_links))\n",
    "print(extern_links)"
   ]
  },
  {
   "cell_type": "markdown",
   "metadata": {},
   "source": [
    "Die Seite verweist also auf alle gängigen Sozial Media Seiten, wie Twitter, youtube, tiktok (der nicht existiert), instagram (der nicht existiert), xing, oft auf die jobbörse mit mehreren Links ins Intranet und auf die Efi fakultät,"
   ]
  },
  {
   "cell_type": "markdown",
   "metadata": {},
   "source": [
    "### Interne Links filtern"
   ]
  },
  {
   "cell_type": "markdown",
   "metadata": {},
   "source": [
    "Wir filtern nun noch alle Links heraus, die keine Text-inhalte besitzen oder auf die Selbe Seite referieren."
   ]
  },
  {
   "cell_type": "code",
   "execution_count": 8,
   "metadata": {},
   "outputs": [],
   "source": [
    "def filter_intern_links(urls):\n",
    "    filtered_links = []\n",
    "    for url in urls:\n",
    "        if url.startswith(\"#\"):\n",
    "            continue\n",
    "        elif url.startswith(\"http\"):\n",
    "            continue\n",
    "        elif url.startswith(\"mailto:\"):\n",
    "            continue\n",
    "        elif url.startswith(\"javascript:\"):\n",
    "            continue\n",
    "        elif url.startswith(\"&#\"): # is encoded mailto\n",
    "            continue\n",
    "        elif \".xml\" in url:\n",
    "            continue\n",
    "        elif \".pdf\" in url:\n",
    "            continue\n",
    "        elif url == \"/\":\n",
    "            continue\n",
    "        else:\n",
    "            filtered_links.append(url)\n",
    "    return filtered_links"
   ]
  },
  {
   "cell_type": "code",
   "execution_count": 36,
   "metadata": {},
   "outputs": [
    {
     "name": "stdout",
     "output_type": "stream",
     "text": [
      "Anzahl interner Links:  296\n",
      "['/en/', '/studium-karriere/', '/karriere-bei-uns/stellenangebote/', '/einrichtungen-gesamt/in-institute/e-beratung-onlineberatung/', '/einrichtungen-gesamt/in-institute/institut-fuer-angewandte-informatik/', '/einrichtungen-gesamt/in-institute/institut-fuer-angewandte-wasserstoffforschung-elektro-und-thermochemische-energiesysteme/', '/einrichtungen-gesamt/in-institute/institut-fuer-leistungselektronische-systeme-elsys/', '/einrichtungen-gesamt/in-institute/institut-fuer-chemie-material-und-produktentwicklung/', '/einrichtungen-gesamt/in-institute/institut-fuer-fahrzeugtechnik/', '/einrichtungen-gesamt/in-institute/institut-fuer-energie-und-gebaeude-ieg/', '/einrichtungen-gesamt/in-institute/institut-fuer-wasserbau-und-wasserwirtschaft/', '/einrichtungen-gesamt/in-institute/language-center/', '/einrichtungen-gesamt/in-institute/polymer-optical-fiber-application-center/', '/einrichtungen-gesamt/kompetenzzentren/corporate-development-management-accounting-and-financial-control/', '/einrichtungen-gesamt/kompetenzzentren/energietechnik/', '/einrichtungen-gesamt/kompetenzzentren/finanzen/', '/einrichtungen-gesamt/kompetenzzentren/gender-and-diversity-komgedi/', '/einrichtungen-gesamt/kompetenzzentren/zentrum-fuer-kuenstliche-intelligenz-kiz/', '/einrichtungen-gesamt/kompetenzzentren/logistik/', '/einrichtungen-gesamt/kompetenzzentren/soziale-innovationen-methoden-und-analysen-kosima/', '/einrichtungen-gesamt/kompetenzzentren/ohm-user-experience-center/', '/einrichtungen-gesamt/wissenschaftliche-und-forschungskooperationen/digitalisierungskolleg-disruption-in-creativity-disc/', '/einrichtungen-gesamt/wissenschaftliche-und-forschungskooperationen/leonardo-zentrum-fuer-kreativitaet-und-innovation/', '/einrichtungen-gesamt/wissenschaftliche-und-forschungskooperationen/nuremberg-campus-of-technology/', '/einrichtungen-gesamt/fraunhofer-forschungsgruppen/future-engineering/', '/einrichtungen-gesamt/fraunhofer-forschungsgruppen/partikeltechnologien-rohstoffinnovationen-und-ressourceneffizienz/', '/einrichtungen-gesamt/administration-und-service/akademisches-controlling/', '/einrichtungen-gesamt/administration-und-service/bibliothek/', '/studium-karriere/karriere/career-service/', '/einrichtungen-gesamt/abteilungen/digitales-hochschulmanagement/', '/einrichtungen-gesamt/abteilungen/finanzabteilung/', '/einrichtungen-gesamt/administration-und-service/hochschulkommunikation-marketing/', '/einrichtungen-gesamt/administration-und-service/hochschulservice-fuer-familie-gleichstellung-und-gesundheit/', '/internationales/internationale-beziehungen-und-services/', '/einrichtungen-gesamt/administration-und-service/lehr-und-kompetenzentwicklung/', '/internationales/ohm-international-school/', '/einrichtungen-gesamt/abteilungen/personalabteilung/', '/einrichtungen-gesamt/abteilungen/personalentwicklung/', '/einrichtungen-gesamt/administration-und-service/qualitaets-und-prozessmanagement/', '/einrichtungen-gesamt/administration-und-service/studienbuero/', '/einrichtungen-gesamt/administration-und-service/technik-facility-management/', '/forschung-innovation/beratung-und-service/kontakt-und-anfahrt/', '/studium-karriere/studienorientierung-und-studienwahl/zentrale-studienberatung/', '/einrichtungen-gesamt/administration-und-service/zentrale-it/', '/fakultaeten/ac/', '/fakultaeten/amp/', '/fakultaeten/ar/', '/fakultaeten/bi/', '/fakultaeten/bw/', '/fakultaeten/d/', '/fakultaeten/efi/', '/fakultaeten/in/', '/fakultaeten/mb-vs/', '/fakultaeten/sw/', '/fakultaeten/vt/', '/fakultaeten/wt/', '/fakultaeten/soh/', '/hochschule-region/', '/hochschule-region/organisation-und-struktur/', '/hochschule-region/organisation-und-struktur/hochschulleitung-und-gremien/', '/hochschule-region/organisation-und-struktur/geschichte-facts-figures/', '/hochschule-region/organisation-und-struktur/einrichtungen-und-organisation/', '/hochschule-region/strategie-und-profil/', '/hochschule-region/strategie-und-profil/strategien-der-th-nuernberg/', '/hochschule-region/strategie-und-profil/leitbild-der-th-nuernberg/', '/hochschule-region/strategie-und-profil/leitbild-lehren-und-lernen-im-dialog-sein/', '/einrichtungen-gesamt/administration-und-service/hochschulservice-fuer-familie-gleichstellung-und-gesundheit/', '/hochschule-region/strategie-und-profil/rahmenvereinbarung-und-hochschulvertraege/', '/einrichtungen-gesamt/administration-und-service/qualitaets-und-prozessmanagement/qualitaetsmanagement/', '/ohm-shop/', '/hochschule-region/freunde-und-foerderer/', '/hochschule-region/freunde-und-foerderer/bund-der-freunde/', '/hochschule-region/freunde-und-foerderer/alumni/', '/studium-karriere/studienfinanzierung/deutschlandstipendium/', '/studium-karriere/studienfinanzierung/ueberblick-stipendien/', '/hochschule-region/organisation-und-struktur/geschichte-facts-figures/ehrungen-und-preise/', '/hochschule-region/nachhaltigkeit/', '/hochschule-region/nachhaltigkeit/governance/', '/hochschule-region/nachhaltigkeit/forschung/', '/hochschule-region/nachhaltigkeit/bildung/', '/hochschule-region/nachhaltigkeit/infrastruktur/', '/hochschule-region/nachhaltigkeit/transfer/', '/hochschule-region/nachhaltigkeit/studentische-initiativen/', '/hochschule-region/', '/forschung-innovation/', '/forschung-innovation/forschungsschwerpunkte/', '/forschung-innovation/forschungsschwerpunkte/energie-ressourcen/', '/forschung-innovation/forschungsschwerpunkte/materialien-produktionstechnik/', '/forschung-innovation/forschungsschwerpunkte/mobilitaet-verkehr-logistik/', '/forschung-innovation/forschungsschwerpunkte/gesundheit/', '/forschung-innovation/forschungsschwerpunkte/digitalisierung-kuenstliche-intelligenz/', '/forschung-innovation/forschungsschwerpunkte/nachhaltigkeit/', '/forschung-innovation/forschungsschwerpunkte/soziale-oekonomische-transformation/', '/forschung-innovation/high-tech-agenda-bayern/', '/forschung-innovation/high-tech-agenda-bayern/forschungsorientierte-professuren-und-projekte/', '/forschung-innovation/forschungseinrichtungen/', '/einrichtungen-gesamt/wissenschaftliche-und-forschungskooperationen/', '/einrichtungen-gesamt/fraunhofer-forschungsgruppen/', '/einrichtungen-gesamt/in-institute/', '/einrichtungen-gesamt/kompetenzzentren/', '/forschung-innovation/forschungseinrichtungen/ohm-innovation-center/', '/forschung-innovation/beratung-und-service/', '/forschung-innovation/beratung-und-service/angebote-der-zentralstelle-fuer-wissens-und-technologietransfer/', '/forschung-innovation/beratung-und-service/nationale-foerdermoeglichkeiten/', '/forschung-innovation/beratung-und-service/internationale-foerdermoeglichkeiten/', '/forschung-innovation/beratung-und-service/auftragsforschung/', '/forschung-innovation/beratung-und-service/dienstleistungen-gutachten-und-messreihen/', '/forschung-innovation/beratung-und-service/afue-vertraege-und-geheimhaltungsvereinbarungen/', '/forschung-innovation/beratung-und-service/erfinder-und-patentberatung/', '/forschung-innovation/beratung-und-service/promotion-und-nachwuchsfoerderung/', '/forschung-innovation/beratung-und-service/kontakt-und-anfahrt/', '/forschung-innovation/transfer-und-kooperationen/', '/forschung-innovation/transfer-und-kooperationen/servicestelle-transfer/', '/forschung-innovation/transfer-und-kooperationen/transferverstaendnis-strategie/', '/forschung-innovation/transfer-und-kooperationen/kooperationen-mit-der-wirtschaft/', '/forschung-innovation/transfer-und-kooperationen/kooperationen-mit-gemeinnuetzigen-partnern/', '/forschung-innovation/transfer-und-kooperationen/internationale-forschungsprojekte/', '/einrichtungen-gesamt/wissenschaftliche-und-forschungskooperationen/leonardo-zentrum-fuer-kreativitaet-und-innovation/', '/forschung-innovation/transfer-und-kooperationen/hochschulnetzwerke/', '/forschung-innovation/transfer-und-kooperationen/internationale-netzwerke/', '/forschung-innovation/transfer-und-kooperationen/future-code-bayern/', '/veranstaltungen/ohm-innovation-talks/', '/forschung-innovation/', '/studium-karriere/', '/studium-karriere/studien-und-bildungsangebot/', '/studiengaenge/', '/studium-karriere/studien-und-bildungsangebot/bachelorstudiengaenge/', '/studium-karriere/studien-und-bildungsangebot/masterstudiengaenge/', '/studium-karriere/studien-und-bildungsangebot/duale-studienmodelle/', '/studium-karriere/studien-und-bildungsangebot/orientierungsstudium-mint-o-mint/', '/studium-karriere/studien-und-bildungsangebot/modulstudium-gaststudium/', '/studium-karriere/studien-und-bildungsangebot/virtuelle-hochschule-bayern/', '/studium-karriere/studienorientierung-und-studienwahl/', '/studium-karriere/studienorientierung-und-studienwahl/masterstudiengaenge-stellen-sich-vor-1/', '/studium-karriere/studienorientierung-und-studienwahl/angebote-fuer-bestimmte-zielgruppen/', '/studium-karriere/studien-und-bildungsangebot/orientierungsstudium-mint-o-mint/', '/studium-karriere/studienorientierung-und-studienwahl/studi-talks-frag-die-dies-wissen-muessen/', '/studium-karriere/studienorientierung-und-studienwahl/studieninfotage/', '/studium-karriere/studienorientierung-und-studienwahl/schulbesuche/', '/studium-karriere/studienorientierung-und-studienwahl/warum-th-nuernberg/', '/studium-karriere/studienorientierung-und-studienwahl/schritt-fuer-schritt-zum-richtigen-studiengang/', '/studium-karriere/studienorientierung-und-studienwahl/zentrale-studienberatung/', '/studium-karriere/studienorientierung-und-studienwahl/studienberatungsportal/', '/studium-karriere/erfolgreich-durchs-studium/mut-zum-studium/', '/studium-karriere/studienorientierung-und-studienwahl/schnuppervorlesungen/', '/studium-karriere/zulassung-und-bewerbung/', '/studium-karriere/zulassung-und-bewerbung/zulassungsvoraussetzungen/', '/studium-karriere/zulassung-und-bewerbung/bewerbungsablauf/', '/studium-karriere/zulassung-und-bewerbung/bewerbungszeitraeume/', '/studium-karriere/erfolgreich-durchs-studium/', '/studium-karriere/wichtiges-zum-studienstart/vorbereitungskurse/', '/studium-karriere/studienorientierung-und-studienwahl/zentrale-studienberatung/', '/einrichtungen-gesamt/administration-und-service/studienbuero/', '/studium-karriere/erfolgreich-durchs-studium/mut-zum-studium/', '/forschung-innovation/transfer-und-kooperationen/kooperationen-mit-gemeinnuetzigen-partnern/service-learning-engagiert-studiert/', '/einrichtungen-gesamt/administration-und-service/bibliothek/', '/studium-karriere/erfolgreich-durchs-studium/angebote-fuer-bestimmte-zielgruppen/', '/studium-karriere/karriere/', '/studium-karriere/karriere/career-service/', '/einrichtungen-gesamt/administration-und-service/hochschulservice-fuer-familie-gleichstellung-und-gesundheit/gleichstellung-und-frauenfoerderung-an-der-hochschule/angebote-fuer-zielgruppen/studierende/', '/forschung-innovation/beratung-und-service/promotion-und-nachwuchsfoerderung/', '/beratung-services/beratungsstellen/gruendungsberatung/', '/studium-karriere/karriere/career-service/service-fuer-alumni/', '/internationales/internationale-beziehungen-und-services/mobilitaet-weltweit/mobilitaet-von-studierenden/', '/studium-karriere/studentisches-leben/', '/studium-karriere/studentisches-leben/wohnen-in-nuernberg/', '/studium-karriere/studentisches-leben/mobilitaet/', '/studium-karriere/studentisches-leben/mitbestimmung-an-der-th/', '/forschung-innovation/transfer-und-kooperationen/kooperationen-mit-gemeinnuetzigen-partnern/service-learning-engagiert-studiert/', '/studium-karriere/studentisches-leben/hochschulsport/', '/studium-karriere/studentisches-leben/strohm-soehne/', '/studium-karriere/studentisches-leben/verpflegung-am-campus/', '/studium-karriere/studentisches-leben/musik-an-der-th/', '/studium-karriere/studentisches-leben/theater-an-der-th/', '/studium-karriere/studentisches-leben/orientierung-am-campus/', '/studium-karriere/studentisches-leben/nachhaltigkeit-im-studentenleben/', '/studium-karriere/studienfinanzierung/', '/studium-karriere/studienfinanzierung/ueberblick-stipendien/', '/studium-karriere/studienfinanzierung/deutschlandstipendium/', '/studium-karriere/studienfinanzierung/bafoeg/', '/studium-karriere/studienfinanzierung/studienkredite/', '/studium-karriere/studienfinanzierung/kontakt-und-beratung/', '/studium-karriere/wichtiges-zum-studienstart/', '/studium-karriere/wichtiges-zum-studienstart/einschreibung/', '/studium-karriere/wichtiges-zum-studienstart/studentenwerkbeitrag/', '/studium-karriere/wichtiges-zum-studienstart/termine-im-ueberblick/', '/studium-karriere/wichtiges-zum-studienstart/einfuehrungsveranstaltungen/', '/studium-karriere/wichtiges-zum-studienstart/lehrveranstaltungen/', '/studium-karriere/studentisches-leben/mobilitaet/', '/studium-karriere/wichtiges-zum-studienstart/anrechnung-von-leistungen/', '/studium-karriere/wichtiges-zum-studienstart/vorbereitungskurse/', '/studium-karriere/wichtiges-zum-studienstart/ohmcard/', '/studium-karriere/', '/internationales/', '/internationales/ohm-international-school/', '/internationales/internationale-studiengaenge/', '/internationales/internationale-beziehungen-und-services/welcome-services/austauschstudierende-von-partnerhochschulen-an-der-th-nuernberg/ohm-international-summer-school/', '/internationales/internationale-beziehungen-und-services/', '/internationales/internationale-beziehungen-und-services/kooperationen-und-projekte/', '/internationales/internationale-beziehungen-und-services/mobilitaet-weltweit/', '/internationales/internationale-beziehungen-und-services/welcome-services/', '/einrichtungen-gesamt/in-institute/language-center/', '/internationales/projekte/', '/internationales/internationalisierungsprojekte/', '/forschung-innovation/transfer-und-kooperationen/internationale-forschungsprojekte/', '/internationales/', '/weiterbildung/', '/weiterbildung/berufsbegleitende-studiengaenge/', '/weiterbildung/inhouse-angebote-fuer-unternehmen/', '/weiterbildung/lehrgaenge-mit-hochschulzertifikat/', '/weiterbildung/unser-portfolio/', '/weiterbildung/seminare-kolloquien-tagungen-kongresse/', '/weiterbildung/lebenslanges-lernen/', '/weiterbildung/', '/beratung-services/', '/beratung-services/beratungsstellen/', '/studium-karriere/karriere/career-service/', '/studium-karriere/studien-und-bildungsangebot/duale-studienmodelle/', '/studium-karriere/studienorientierung-und-studienwahl/angebote-fuer-bestimmte-zielgruppen/studieren-ohne-abitur/', '/beratung-services/beratungsstellen/gruendungsberatung/', '/beratung-services/beratungsstellen/psychologische-beratung/', '/studium-karriere/studienorientierung-und-studienwahl/zentrale-studienberatung/', '/beratung-services/serviceeinrichtungen/', '/einrichtungen-gesamt/administration-und-service/bibliothek/', '/einrichtungen-gesamt/administration-und-service/hochschulservice-fuer-familie-gleichstellung-und-gesundheit/', '/einrichtungen-gesamt/administration-und-service/technik-facility-management/facility-management/', '/internationales/internationale-beziehungen-und-services/', '/einrichtungen-gesamt/administration-und-service/lehr-und-kompetenzentwicklung/', '/einrichtungen-gesamt/wissenschaftliche-und-forschungskooperationen/leonardo-zentrum-fuer-kreativitaet-und-innovation/leo-labs/', '/forschung-innovation/transfer-und-kooperationen/kooperationen-mit-gemeinnuetzigen-partnern/service-learning-engagiert-studiert/', '/einrichtungen-gesamt/administration-und-service/studienbuero/', '/einrichtungen-gesamt/administration-und-service/zentrale-it/', '/beratung-services/onlineservices/', '/studium-karriere/zulassung-und-bewerbung/bewerbungsablauf/', '/einrichtungen-gesamt/administration-und-service/qualitaets-und-prozessmanagement/ideen-und-verbesserungsmanagement/', '/studium-karriere/studienorientierung-und-studienwahl/studi-talks-frag-die-dies-wissen-muessen/', '/wie-erreichen-sie-uns/oeffnungszeiten/', '/wie-erreichen-sie-uns/anfahrt/', '/beratung-services/', '/karriere-bei-uns/', '/karriere-bei-uns/attraktiver-standort/', '/karriere-bei-uns/warum-zur-th-nuernberg/', '/karriere-bei-uns/ansprechpartner/', '/karriere-bei-uns/was-bietet-die-th-nuernberg/', '/karriere-bei-uns/was-bietet-die-th-nuernberg/fuer-professorinnen/', '/karriere-bei-uns/was-bietet-die-th-nuernberg/fuer-beschaeftigte/', '/karriere-bei-uns/welche-berufsgruppen-gibt-es-an-der-th-nuernberg/', '/forschung-innovation/beratung-und-service/promotion-und-nachwuchsfoerderung/promovieren-an-der-th-nuernberg/', '/karriere-bei-uns/welche-berufsgruppen-gibt-es-an-der-th-nuernberg/wissenschaftliche-mitarbeit/', '/karriere-bei-uns/welche-berufsgruppen-gibt-es-an-der-th-nuernberg/lehrauftrag/', '/karriere-bei-uns/welche-berufsgruppen-gibt-es-an-der-th-nuernberg/wissenschaftsunterstuetzendes-personal/', '/karriere-bei-uns/welche-berufsgruppen-gibt-es-an-der-th-nuernberg/ausbildung/', '/karriere-bei-uns/stellenangebote/', '/karriere-bei-uns/stellenangebote/stellenangebote-professuren/', '/karriere-bei-uns/stellenangebote/stellenangebote-beschaeftigte/', '/karriere-bei-uns/stellenangebote/datenschutz/', '/karriere-bei-uns/stellenangebote/personalrat/', '/karriere-bei-uns/', '/veranstaltungen/jubilaeum/', '/forschung-innovation/transfer-und-kooperationen/kooperationen-mit-gemeinnuetzigen-partnern/pro-noris-preis/', '/studium-karriere/studienorientierung-und-studienwahl/masterstudiengaenge-stellen-sich-vor-1/', '/studium-karriere/studienorientierung-und-studienwahl/angebote-fuer-bestimmte-zielgruppen/schuelerinnen-und-schueler/', '/studium-karriere/', '/studium-karriere/studienorientierung-und-studienwahl/masterstudiengaenge-stellen-sich-vor-1/', '/weiterbildung/', '/weiterbildung/lehrgaenge-mit-hochschulzertifikat/', '/hochschule-region/', '/einrichtungen-gesamt/administration-und-service/hochschulkommunikation-marketing/presse-kommunikation/ohm-journal/', '/forschung-innovation/', '/news/5169-energieforschung-erhielt-neue-impulse/', '/internationales/', '/internationales/internationale-beziehungen-und-services/welcome-services/austauschstudierende-von-partnerhochschulen-an-der-th-nuernberg/ohm-international-summer-school/', '/beratung-services/', '/studium-karriere/studienorientierung-und-studienwahl/studi-talks-frag-die-dies-wissen-muessen/', '/studium-karriere/', '/informationen-fuer/wissenschaftscommunity/', '/informationen-fuer/unternehmen/', '/informationen-fuer/alumni/', '/informationen-fuer/studierende/', '/karriere-bei-uns/', '/einrichtungen-gesamt/abteilungen/personalabteilung/', '/einrichtungen-gesamt/administration-und-service/hochschulkommunikation-marketing/', '/pressemitteilung/5166-urkundenverleihung-deutschlandstipendium/', '/pressemitteilung/5153-hoersaaleinweihung-alumina-hoersaal/', '/pressemitteilung/5147-ohmshorts-feiern-debuet-im-cinecitta/', '/einrichtungen-gesamt/administration-und-service/hochschulkommunikation-marketing/presse-kommunikation/', '/pressemitteilungen/aktuelle-meldung/News/2023/', '/einrichtungen-gesamt/administration-und-service/hochschulkommunikation-marketing/', '/veranstaltung/8874-infoveranstaltung-building-information-modeling-bim/', '/veranstaltung/8886-bw-abschlussposter-ausstellung-wintersemester-2023/2024/', '/veranstaltung/8884-insolvenzrecht-perspektiven-von-insolvenzgericht-und-insolvenzverwalter/', '/index.php?id=3491', '/wie-erreichen-sie-uns/', '/impressum/', '/datenschutz/', '/ohm-shop/']\n"
     ]
    }
   ],
   "source": [
    "intern_links = filter_intern_links(df[\"link\"])\n",
    "print(\"Anzahl interner Links: \", len(intern_links))\n",
    "print(intern_links)"
   ]
  },
  {
   "cell_type": "markdown",
   "metadata": {},
   "source": [
    "### Dublikate entfernen und sortieren"
   ]
  },
  {
   "cell_type": "markdown",
   "metadata": {},
   "source": [
    "Jetzt können wir die Links filtern, anschließend alphabetisch sortieren und dann Dublikate URLs entfernen."
   ]
  },
  {
   "cell_type": "code",
   "execution_count": 9,
   "metadata": {},
   "outputs": [],
   "source": [
    "def sort_and_remove_dublicates(df):\n",
    "    df = df.sort_values(\"link\")\n",
    "    df = df.drop_duplicates(subset=\"link\")\n",
    "    df = df.reset_index(drop=True)\n",
    "    return df"
   ]
  },
  {
   "cell_type": "code",
   "execution_count": 38,
   "metadata": {},
   "outputs": [
    {
     "name": "stdout",
     "output_type": "stream",
     "text": [
      "Anzahl interner Links (ohne Dublikate):  296\n",
      "/beratung-services/ /beratung-services/beratungsstellen/ /beratung-services/beratungsstellen/gruendungsberatung/ /beratung-services/beratungsstellen/psychologische-beratung/ /beratung-services/onlineservices/ /beratung-services/serviceeinrichtungen/ /datenschutz/ /einrichtungen-gesamt/abteilungen/digitales-hochschulmanagement/ /einrichtungen-gesamt/abteilungen/finanzabteilung/ /einrichtungen-gesamt/abteilungen/personalabteilung/ /einrichtungen-gesamt/abteilungen/personalentwicklung/ /einrichtungen-gesamt/administration-und-service/akademisches-controlling/ /einrichtungen-gesamt/administration-und-service/bibliothek/ /einrichtungen-gesamt/administration-und-service/hochschulkommunikation-marketing/ /einrichtungen-gesamt/administration-und-service/hochschulkommunikation-marketing/presse-kommunikation/ /einrichtungen-gesamt/administration-und-service/hochschulkommunikation-marketing/presse-kommunikation/ohm-journal/ /einrichtungen-gesamt/administration-und-service/hochschulservice-fuer-familie-gleichstellung-und-gesundheit/ /einrichtungen-gesamt/administration-und-service/hochschulservice-fuer-familie-gleichstellung-und-gesundheit/gleichstellung-und-frauenfoerderung-an-der-hochschule/angebote-fuer-zielgruppen/studierende/ /einrichtungen-gesamt/administration-und-service/lehr-und-kompetenzentwicklung/ /einrichtungen-gesamt/administration-und-service/qualitaets-und-prozessmanagement/ /einrichtungen-gesamt/administration-und-service/qualitaets-und-prozessmanagement/ideen-und-verbesserungsmanagement/ /einrichtungen-gesamt/administration-und-service/qualitaets-und-prozessmanagement/qualitaetsmanagement/ /einrichtungen-gesamt/administration-und-service/studienbuero/ /einrichtungen-gesamt/administration-und-service/technik-facility-management/ /einrichtungen-gesamt/administration-und-service/technik-facility-management/facility-management/ /einrichtungen-gesamt/administration-und-service/zentrale-it/ /einrichtungen-gesamt/fraunhofer-forschungsgruppen/ /einrichtungen-gesamt/fraunhofer-forschungsgruppen/future-engineering/ /einrichtungen-gesamt/fraunhofer-forschungsgruppen/partikeltechnologien-rohstoffinnovationen-und-ressourceneffizienz/ /einrichtungen-gesamt/in-institute/ /einrichtungen-gesamt/in-institute/e-beratung-onlineberatung/ /einrichtungen-gesamt/in-institute/institut-fuer-angewandte-informatik/ /einrichtungen-gesamt/in-institute/institut-fuer-angewandte-wasserstoffforschung-elektro-und-thermochemische-energiesysteme/ /einrichtungen-gesamt/in-institute/institut-fuer-chemie-material-und-produktentwicklung/ /einrichtungen-gesamt/in-institute/institut-fuer-energie-und-gebaeude-ieg/ /einrichtungen-gesamt/in-institute/institut-fuer-fahrzeugtechnik/ /einrichtungen-gesamt/in-institute/institut-fuer-leistungselektronische-systeme-elsys/ /einrichtungen-gesamt/in-institute/institut-fuer-wasserbau-und-wasserwirtschaft/ /einrichtungen-gesamt/in-institute/language-center/ /einrichtungen-gesamt/in-institute/polymer-optical-fiber-application-center/ /einrichtungen-gesamt/kompetenzzentren/ /einrichtungen-gesamt/kompetenzzentren/corporate-development-management-accounting-and-financial-control/ /einrichtungen-gesamt/kompetenzzentren/energietechnik/ /einrichtungen-gesamt/kompetenzzentren/finanzen/ /einrichtungen-gesamt/kompetenzzentren/gender-and-diversity-komgedi/ /einrichtungen-gesamt/kompetenzzentren/logistik/ /einrichtungen-gesamt/kompetenzzentren/ohm-user-experience-center/ /einrichtungen-gesamt/kompetenzzentren/soziale-innovationen-methoden-und-analysen-kosima/ /einrichtungen-gesamt/kompetenzzentren/zentrum-fuer-kuenstliche-intelligenz-kiz/ /einrichtungen-gesamt/wissenschaftliche-und-forschungskooperationen/ /einrichtungen-gesamt/wissenschaftliche-und-forschungskooperationen/digitalisierungskolleg-disruption-in-creativity-disc/ /einrichtungen-gesamt/wissenschaftliche-und-forschungskooperationen/leonardo-zentrum-fuer-kreativitaet-und-innovation/ /einrichtungen-gesamt/wissenschaftliche-und-forschungskooperationen/leonardo-zentrum-fuer-kreativitaet-und-innovation/leo-labs/ /einrichtungen-gesamt/wissenschaftliche-und-forschungskooperationen/nuremberg-campus-of-technology/ /en/ /fakultaeten/ac/ /fakultaeten/amp/ /fakultaeten/ar/ /fakultaeten/bi/ /fakultaeten/bw/ /fakultaeten/d/ /fakultaeten/efi/ /fakultaeten/in/ /fakultaeten/mb-vs/ /fakultaeten/soh/ /fakultaeten/sw/ /fakultaeten/vt/ /fakultaeten/wt/ /forschung-innovation/ /forschung-innovation/beratung-und-service/ /forschung-innovation/beratung-und-service/afue-vertraege-und-geheimhaltungsvereinbarungen/ /forschung-innovation/beratung-und-service/angebote-der-zentralstelle-fuer-wissens-und-technologietransfer/ /forschung-innovation/beratung-und-service/auftragsforschung/ /forschung-innovation/beratung-und-service/dienstleistungen-gutachten-und-messreihen/ /forschung-innovation/beratung-und-service/erfinder-und-patentberatung/ /forschung-innovation/beratung-und-service/internationale-foerdermoeglichkeiten/ /forschung-innovation/beratung-und-service/kontakt-und-anfahrt/ /forschung-innovation/beratung-und-service/nationale-foerdermoeglichkeiten/ /forschung-innovation/beratung-und-service/promotion-und-nachwuchsfoerderung/ /forschung-innovation/beratung-und-service/promotion-und-nachwuchsfoerderung/promovieren-an-der-th-nuernberg/ /forschung-innovation/forschungseinrichtungen/ /forschung-innovation/forschungseinrichtungen/ohm-innovation-center/ /forschung-innovation/forschungsschwerpunkte/ /forschung-innovation/forschungsschwerpunkte/digitalisierung-kuenstliche-intelligenz/ /forschung-innovation/forschungsschwerpunkte/energie-ressourcen/ /forschung-innovation/forschungsschwerpunkte/gesundheit/ /forschung-innovation/forschungsschwerpunkte/materialien-produktionstechnik/ /forschung-innovation/forschungsschwerpunkte/mobilitaet-verkehr-logistik/ /forschung-innovation/forschungsschwerpunkte/nachhaltigkeit/ /forschung-innovation/forschungsschwerpunkte/soziale-oekonomische-transformation/ /forschung-innovation/high-tech-agenda-bayern/ /forschung-innovation/high-tech-agenda-bayern/forschungsorientierte-professuren-und-projekte/ /forschung-innovation/transfer-und-kooperationen/ /forschung-innovation/transfer-und-kooperationen/future-code-bayern/ /forschung-innovation/transfer-und-kooperationen/hochschulnetzwerke/ /forschung-innovation/transfer-und-kooperationen/internationale-forschungsprojekte/ /forschung-innovation/transfer-und-kooperationen/internationale-netzwerke/ /forschung-innovation/transfer-und-kooperationen/kooperationen-mit-der-wirtschaft/ /forschung-innovation/transfer-und-kooperationen/kooperationen-mit-gemeinnuetzigen-partnern/ /forschung-innovation/transfer-und-kooperationen/kooperationen-mit-gemeinnuetzigen-partnern/pro-noris-preis/ /forschung-innovation/transfer-und-kooperationen/kooperationen-mit-gemeinnuetzigen-partnern/service-learning-engagiert-studiert/ /forschung-innovation/transfer-und-kooperationen/servicestelle-transfer/ /forschung-innovation/transfer-und-kooperationen/transferverstaendnis-strategie/ /hochschule-region/ /hochschule-region/freunde-und-foerderer/ /hochschule-region/freunde-und-foerderer/alumni/ /hochschule-region/freunde-und-foerderer/bund-der-freunde/ /hochschule-region/nachhaltigkeit/ /hochschule-region/nachhaltigkeit/bildung/ /hochschule-region/nachhaltigkeit/forschung/ /hochschule-region/nachhaltigkeit/governance/ /hochschule-region/nachhaltigkeit/infrastruktur/ /hochschule-region/nachhaltigkeit/studentische-initiativen/ /hochschule-region/nachhaltigkeit/transfer/ /hochschule-region/organisation-und-struktur/ /hochschule-region/organisation-und-struktur/einrichtungen-und-organisation/ /hochschule-region/organisation-und-struktur/geschichte-facts-figures/ /hochschule-region/organisation-und-struktur/geschichte-facts-figures/ehrungen-und-preise/ /hochschule-region/organisation-und-struktur/hochschulleitung-und-gremien/ /hochschule-region/strategie-und-profil/ /hochschule-region/strategie-und-profil/leitbild-der-th-nuernberg/ /hochschule-region/strategie-und-profil/leitbild-lehren-und-lernen-im-dialog-sein/ /hochschule-region/strategie-und-profil/rahmenvereinbarung-und-hochschulvertraege/ /hochschule-region/strategie-und-profil/strategien-der-th-nuernberg/ /impressum/ /index.php?id=3491 /informationen-fuer/alumni/ /informationen-fuer/studierende/ /informationen-fuer/unternehmen/ /informationen-fuer/wissenschaftscommunity/ /internationales/ /internationales/internationale-beziehungen-und-services/ /internationales/internationale-beziehungen-und-services/kooperationen-und-projekte/ /internationales/internationale-beziehungen-und-services/mobilitaet-weltweit/ /internationales/internationale-beziehungen-und-services/mobilitaet-weltweit/mobilitaet-von-studierenden/ /internationales/internationale-beziehungen-und-services/welcome-services/ /internationales/internationale-beziehungen-und-services/welcome-services/austauschstudierende-von-partnerhochschulen-an-der-th-nuernberg/ohm-international-summer-school/ /internationales/internationale-studiengaenge/ /internationales/internationalisierungsprojekte/ /internationales/ohm-international-school/ /internationales/projekte/ /karriere-bei-uns/ /karriere-bei-uns/ansprechpartner/ /karriere-bei-uns/attraktiver-standort/ /karriere-bei-uns/stellenangebote/ /karriere-bei-uns/stellenangebote/datenschutz/ /karriere-bei-uns/stellenangebote/personalrat/ /karriere-bei-uns/stellenangebote/stellenangebote-beschaeftigte/ /karriere-bei-uns/stellenangebote/stellenangebote-professuren/ /karriere-bei-uns/warum-zur-th-nuernberg/ /karriere-bei-uns/was-bietet-die-th-nuernberg/ /karriere-bei-uns/was-bietet-die-th-nuernberg/fuer-beschaeftigte/ /karriere-bei-uns/was-bietet-die-th-nuernberg/fuer-professorinnen/ /karriere-bei-uns/welche-berufsgruppen-gibt-es-an-der-th-nuernberg/ /karriere-bei-uns/welche-berufsgruppen-gibt-es-an-der-th-nuernberg/ausbildung/ /karriere-bei-uns/welche-berufsgruppen-gibt-es-an-der-th-nuernberg/lehrauftrag/ /karriere-bei-uns/welche-berufsgruppen-gibt-es-an-der-th-nuernberg/wissenschaftliche-mitarbeit/ /karriere-bei-uns/welche-berufsgruppen-gibt-es-an-der-th-nuernberg/wissenschaftsunterstuetzendes-personal/ /news/5169-energieforschung-erhielt-neue-impulse/ /ohm-shop/ /pressemitteilung/5147-ohmshorts-feiern-debuet-im-cinecitta/ /pressemitteilung/5153-hoersaaleinweihung-alumina-hoersaal/ /pressemitteilung/5166-urkundenverleihung-deutschlandstipendium/ /pressemitteilungen/aktuelle-meldung/News/2023/ /studiengaenge/ /studium-karriere/ /studium-karriere/erfolgreich-durchs-studium/ /studium-karriere/erfolgreich-durchs-studium/angebote-fuer-bestimmte-zielgruppen/ /studium-karriere/erfolgreich-durchs-studium/mut-zum-studium/ /studium-karriere/karriere/ /studium-karriere/karriere/career-service/ /studium-karriere/karriere/career-service/service-fuer-alumni/ /studium-karriere/studentisches-leben/ /studium-karriere/studentisches-leben/hochschulsport/ /studium-karriere/studentisches-leben/mitbestimmung-an-der-th/ /studium-karriere/studentisches-leben/mobilitaet/ /studium-karriere/studentisches-leben/musik-an-der-th/ /studium-karriere/studentisches-leben/nachhaltigkeit-im-studentenleben/ /studium-karriere/studentisches-leben/orientierung-am-campus/ /studium-karriere/studentisches-leben/strohm-soehne/ /studium-karriere/studentisches-leben/theater-an-der-th/ /studium-karriere/studentisches-leben/verpflegung-am-campus/ /studium-karriere/studentisches-leben/wohnen-in-nuernberg/ /studium-karriere/studien-und-bildungsangebot/ /studium-karriere/studien-und-bildungsangebot/bachelorstudiengaenge/ /studium-karriere/studien-und-bildungsangebot/duale-studienmodelle/ /studium-karriere/studien-und-bildungsangebot/masterstudiengaenge/ /studium-karriere/studien-und-bildungsangebot/modulstudium-gaststudium/ /studium-karriere/studien-und-bildungsangebot/orientierungsstudium-mint-o-mint/ /studium-karriere/studien-und-bildungsangebot/virtuelle-hochschule-bayern/ /studium-karriere/studienfinanzierung/ /studium-karriere/studienfinanzierung/bafoeg/ /studium-karriere/studienfinanzierung/deutschlandstipendium/ /studium-karriere/studienfinanzierung/kontakt-und-beratung/ /studium-karriere/studienfinanzierung/studienkredite/ /studium-karriere/studienfinanzierung/ueberblick-stipendien/ /studium-karriere/studienorientierung-und-studienwahl/ /studium-karriere/studienorientierung-und-studienwahl/angebote-fuer-bestimmte-zielgruppen/ /studium-karriere/studienorientierung-und-studienwahl/angebote-fuer-bestimmte-zielgruppen/schuelerinnen-und-schueler/ /studium-karriere/studienorientierung-und-studienwahl/angebote-fuer-bestimmte-zielgruppen/studieren-ohne-abitur/ /studium-karriere/studienorientierung-und-studienwahl/masterstudiengaenge-stellen-sich-vor-1/ /studium-karriere/studienorientierung-und-studienwahl/schnuppervorlesungen/ /studium-karriere/studienorientierung-und-studienwahl/schritt-fuer-schritt-zum-richtigen-studiengang/ /studium-karriere/studienorientierung-und-studienwahl/schulbesuche/ /studium-karriere/studienorientierung-und-studienwahl/studi-talks-frag-die-dies-wissen-muessen/ /studium-karriere/studienorientierung-und-studienwahl/studienberatungsportal/ /studium-karriere/studienorientierung-und-studienwahl/studieninfotage/ /studium-karriere/studienorientierung-und-studienwahl/warum-th-nuernberg/ /studium-karriere/studienorientierung-und-studienwahl/zentrale-studienberatung/ /studium-karriere/wichtiges-zum-studienstart/ /studium-karriere/wichtiges-zum-studienstart/anrechnung-von-leistungen/ /studium-karriere/wichtiges-zum-studienstart/einfuehrungsveranstaltungen/ /studium-karriere/wichtiges-zum-studienstart/einschreibung/ /studium-karriere/wichtiges-zum-studienstart/lehrveranstaltungen/ /studium-karriere/wichtiges-zum-studienstart/ohmcard/ /studium-karriere/wichtiges-zum-studienstart/studentenwerkbeitrag/ /studium-karriere/wichtiges-zum-studienstart/termine-im-ueberblick/ /studium-karriere/wichtiges-zum-studienstart/vorbereitungskurse/ /studium-karriere/zulassung-und-bewerbung/ /studium-karriere/zulassung-und-bewerbung/bewerbungsablauf/ /studium-karriere/zulassung-und-bewerbung/bewerbungszeitraeume/ /studium-karriere/zulassung-und-bewerbung/zulassungsvoraussetzungen/ /veranstaltung/8874-infoveranstaltung-building-information-modeling-bim/ /veranstaltung/8884-insolvenzrecht-perspektiven-von-insolvenzgericht-und-insolvenzverwalter/ /veranstaltung/8886-bw-abschlussposter-ausstellung-wintersemester-2023/2024/ /veranstaltungen/jubilaeum/ /veranstaltungen/ohm-innovation-talks/ /weiterbildung/ /weiterbildung/berufsbegleitende-studiengaenge/ /weiterbildung/inhouse-angebote-fuer-unternehmen/ /weiterbildung/lebenslanges-lernen/ /weiterbildung/lehrgaenge-mit-hochschulzertifikat/ /weiterbildung/seminare-kolloquien-tagungen-kongresse/ /weiterbildung/unser-portfolio/ /wie-erreichen-sie-uns/ /wie-erreichen-sie-uns/anfahrt/ /wie-erreichen-sie-uns/oeffnungszeiten/\n"
     ]
    }
   ],
   "source": [
    "intern_links = filter_intern_links(df[\"link\"])\n",
    "df = pd.DataFrame({\"link\": intern_links})\n",
    "df = sort_and_remove_dublicates(df)\n",
    "print(\"Anzahl interner Links (ohne Dublikate): \", len(intern_links))\n",
    "print(*df[\"link\"])"
   ]
  },
  {
   "cell_type": "markdown",
   "metadata": {},
   "source": [
    "### Weitere Seiten nach urls scrapen"
   ]
  },
  {
   "cell_type": "markdown",
   "metadata": {},
   "source": [
    "Wir habe also 229 Seiten., die wir jetzt alle nochmal nach links durchforsten können."
   ]
  },
  {
   "cell_type": "code",
   "execution_count": null,
   "metadata": {},
   "outputs": [],
   "source": [
    "for url in tqdm(df[\"url\"]):\n",
    "    new_urls = get_links_from_one_url(\"https://www.th-nuernberg.de\" + url)\n",
    "    new_rows = []\n",
    "    for new_url in new_urls:\n",
    "        new_rows.append({'url': new_url})\n",
    "    df = pd.concat([df, pd.DataFrame(new_rows)], ignore_index=True)\n",
    "    "
   ]
  },
  {
   "cell_type": "markdown",
   "metadata": {},
   "source": [
    "Jetzt können wir wieder schauen, wie viele Interne und externe URLs wir bekommen haben"
   ]
  },
  {
   "cell_type": "code",
   "execution_count": null,
   "metadata": {},
   "outputs": [],
   "source": [
    "print(\"Anzahl ungefilterter URLs\", len(df))\n",
    "df = sort_and_remove_dublicates(df)\n",
    "print(\"Anzahl gefilterter URLs\", len(df))\n",
    "extern_links = filter_extern_urls(df[\"url\"])\n",
    "print(\"Anzahl externer URLs\", len(extern_links))\n",
    "intern_links = filter_intern_links(df[\"url\"])\n",
    "print(\"Anzahl interner URLs\", len(intern_links))"
   ]
  },
  {
   "cell_type": "markdown",
   "metadata": {},
   "source": [
    "### Links abspeichern"
   ]
  },
  {
   "cell_type": "markdown",
   "metadata": {},
   "source": [
    "Für unsere weiteren Schritte werden wir immer nur interne Links verwenden, deshalb speichern wir an dieser Stelle mal die internen Links ab."
   ]
  },
  {
   "cell_type": "code",
   "execution_count": 27,
   "metadata": {},
   "outputs": [],
   "source": [
    "db_save_df(df, \"only_links\")"
   ]
  },
  {
   "cell_type": "markdown",
   "metadata": {},
   "source": [
    "### Downloaden der files"
   ]
  },
  {
   "cell_type": "markdown",
   "metadata": {},
   "source": [
    "Jetzt können wir mit dem downloaden anfangen."
   ]
  },
  {
   "cell_type": "markdown",
   "metadata": {},
   "source": [
    "Diese Funktion Läd nun alle Html files zu den Links herunter und speichert sie im Dataframe neben den \"link\" in einer Spalte \"html\"."
   ]
  },
  {
   "cell_type": "code",
   "execution_count": 50,
   "metadata": {},
   "outputs": [],
   "source": [
    "def download_all_urls(links):\n",
    "    htmls = []\n",
    "    for link in tqdm(links):\n",
    "        url = \"https://www.th-nuernberg.de\" + link\n",
    "        html = download_html_from_url(url)\n",
    "        htmls.append(html)\n",
    "    df = pd.DataFrame({\"link\": links, \"html\": htmls})\n",
    "    return df"
   ]
  },
  {
   "cell_type": "code",
   "execution_count": 51,
   "metadata": {},
   "outputs": [
    {
     "name": "stderr",
     "output_type": "stream",
     "text": [
      "100%|██████████| 237/237 [01:25<00:00,  2.77it/s]\n"
     ]
    }
   ],
   "source": [
    "df_new = download_all_urls(df[\"link\"])"
   ]
  },
  {
   "cell_type": "markdown",
   "metadata": {},
   "source": [
    "Wir können die Daten an dieser Stelle abspeichern."
   ]
  },
  {
   "cell_type": "code",
   "execution_count": 52,
   "metadata": {},
   "outputs": [],
   "source": [
    "db_save_df(df_new, \"html_iter_01\")"
   ]
  },
  {
   "cell_type": "markdown",
   "metadata": {},
   "source": [
    "### Weitere Iterationsstufen"
   ]
  },
  {
   "cell_type": "markdown",
   "metadata": {},
   "source": [
    "Wenn wir ab diesem Abschnitt starten können wir die vorher gesammelten Daten neu laden."
   ]
  },
  {
   "cell_type": "code",
   "execution_count": 2,
   "metadata": {},
   "outputs": [],
   "source": [
    "df = db_get_df(\"html_iter_01\")"
   ]
  },
  {
   "cell_type": "markdown",
   "metadata": {},
   "source": [
    "Jetzt können wir die heruntergeladenen HTML files nach weiteren Links durchsuchen und Sie dem Dataframe hinzufügen"
   ]
  },
  {
   "cell_type": "code",
   "execution_count": 3,
   "metadata": {},
   "outputs": [],
   "source": [
    "def find_all_links_in_html(htmls):\n",
    "    all_links = []\n",
    "    for html in tqdm(htmls):\n",
    "        links = get_links_from_one_html(html)\n",
    "        [all_links.append(link) for link in links]\n",
    "    return all_links"
   ]
  },
  {
   "cell_type": "code",
   "execution_count": 10,
   "metadata": {},
   "outputs": [
    {
     "name": "stderr",
     "output_type": "stream",
     "text": [
      "100%|██████████| 237/237 [00:13<00:00, 17.61it/s]\n"
     ]
    },
    {
     "data": {
      "text/plain": [
       "71331"
      ]
     },
     "execution_count": 10,
     "metadata": {},
     "output_type": "execute_result"
    }
   ],
   "source": [
    "all_links = find_all_links_in_html(df[\"html\"])\n",
    "len(all_links)"
   ]
  },
  {
   "cell_type": "markdown",
   "metadata": {},
   "source": [
    "Wir haben jetzt also 71331 Links gesammelt, davon sind aber viele Dublikate."
   ]
  },
  {
   "cell_type": "code",
   "execution_count": 11,
   "metadata": {},
   "outputs": [],
   "source": [
    "df_new = pd.DataFrame({\"link\": all_links, \"html\": None})\n",
    "df = pd.concat([df, df_new])"
   ]
  },
  {
   "cell_type": "code",
   "execution_count": 13,
   "metadata": {},
   "outputs": [
    {
     "data": {
      "text/plain": [
       "4043"
      ]
     },
     "execution_count": 13,
     "metadata": {},
     "output_type": "execute_result"
    }
   ],
   "source": [
    "df = sort_and_remove_dublicates(df)\n",
    "len(df[\"link\"])"
   ]
  },
  {
   "cell_type": "markdown",
   "metadata": {},
   "source": [
    "Gefiltert nach dublikaten haben wir nun also noch 4043 Links"
   ]
  },
  {
   "cell_type": "markdown",
   "metadata": {},
   "source": [
    "### Iteratives Downloaden"
   ]
  },
  {
   "cell_type": "markdown",
   "metadata": {},
   "source": [
    "Um den Daten nun weitere Webseiten hinzuzufügen, können wir für jede weitere URL schauen, ob sie schon heruntergeladen wurde. Wenn nicht, dann laden wir sie jetzt herunter."
   ]
  },
  {
   "cell_type": "code",
   "execution_count": 23,
   "metadata": {},
   "outputs": [],
   "source": [
    "def update_df_with_html(df):\n",
    "    new_rows = []\n",
    "    for index, row in tqdm(df.iterrows()):\n",
    "        if pd.isna(row['html']) or row['html'] == '':\n",
    "            # Call the download function with the link from the 'link' column\n",
    "            url = \"https://www.th-nuernberg.de\" + row[\"link\"]\n",
    "            html = download_html_from_url(url)\n",
    "            new_rows.append({'link': row[\"link\"], 'html': html})\n",
    "\n",
    "    if new_rows:\n",
    "        df = pd.concat([df, pd.DataFrame(new_rows)], ignore_index=True)\n",
    "    return df"
   ]
  },
  {
   "cell_type": "code",
   "execution_count": 24,
   "metadata": {},
   "outputs": [
    {
     "name": "stderr",
     "output_type": "stream",
     "text": [
      "427it [02:01,  3.51it/s]\n"
     ]
    },
    {
     "ename": "ConnectionError",
     "evalue": "HTTPSConnectionPool(host='www.th-nuernberg.de&', port=443): Max retries exceeded with url: / (Caused by NameResolutionError(\"<urllib3.connection.HTTPSConnection object at 0x125cdbc70>: Failed to resolve 'www.th-nuernberg.de&' ([Errno 8] nodename nor servname provided, or not known)\"))",
     "output_type": "error",
     "traceback": [
      "\u001b[0;31m---------------------------------------------------------------------------\u001b[0m",
      "\u001b[0;31mgaierror\u001b[0m                                  Traceback (most recent call last)",
      "File \u001b[0;32m~/Projects/IT-Ptojekt-Chatbot/daibl/.venv/lib/python3.9/site-packages/urllib3/connection.py:203\u001b[0m, in \u001b[0;36mHTTPConnection._new_conn\u001b[0;34m(self)\u001b[0m\n\u001b[1;32m    202\u001b[0m \u001b[38;5;28;01mtry\u001b[39;00m:\n\u001b[0;32m--> 203\u001b[0m     sock \u001b[38;5;241m=\u001b[39m \u001b[43mconnection\u001b[49m\u001b[38;5;241;43m.\u001b[39;49m\u001b[43mcreate_connection\u001b[49m\u001b[43m(\u001b[49m\n\u001b[1;32m    204\u001b[0m \u001b[43m        \u001b[49m\u001b[43m(\u001b[49m\u001b[38;5;28;43mself\u001b[39;49m\u001b[38;5;241;43m.\u001b[39;49m\u001b[43m_dns_host\u001b[49m\u001b[43m,\u001b[49m\u001b[43m \u001b[49m\u001b[38;5;28;43mself\u001b[39;49m\u001b[38;5;241;43m.\u001b[39;49m\u001b[43mport\u001b[49m\u001b[43m)\u001b[49m\u001b[43m,\u001b[49m\n\u001b[1;32m    205\u001b[0m \u001b[43m        \u001b[49m\u001b[38;5;28;43mself\u001b[39;49m\u001b[38;5;241;43m.\u001b[39;49m\u001b[43mtimeout\u001b[49m\u001b[43m,\u001b[49m\n\u001b[1;32m    206\u001b[0m \u001b[43m        \u001b[49m\u001b[43msource_address\u001b[49m\u001b[38;5;241;43m=\u001b[39;49m\u001b[38;5;28;43mself\u001b[39;49m\u001b[38;5;241;43m.\u001b[39;49m\u001b[43msource_address\u001b[49m\u001b[43m,\u001b[49m\n\u001b[1;32m    207\u001b[0m \u001b[43m        \u001b[49m\u001b[43msocket_options\u001b[49m\u001b[38;5;241;43m=\u001b[39;49m\u001b[38;5;28;43mself\u001b[39;49m\u001b[38;5;241;43m.\u001b[39;49m\u001b[43msocket_options\u001b[49m\u001b[43m,\u001b[49m\n\u001b[1;32m    208\u001b[0m \u001b[43m    \u001b[49m\u001b[43m)\u001b[49m\n\u001b[1;32m    209\u001b[0m \u001b[38;5;28;01mexcept\u001b[39;00m socket\u001b[38;5;241m.\u001b[39mgaierror \u001b[38;5;28;01mas\u001b[39;00m e:\n",
      "File \u001b[0;32m~/Projects/IT-Ptojekt-Chatbot/daibl/.venv/lib/python3.9/site-packages/urllib3/util/connection.py:60\u001b[0m, in \u001b[0;36mcreate_connection\u001b[0;34m(address, timeout, source_address, socket_options)\u001b[0m\n\u001b[1;32m     58\u001b[0m     \u001b[38;5;28;01mraise\u001b[39;00m LocationParseError(\u001b[38;5;124mf\u001b[39m\u001b[38;5;124m\"\u001b[39m\u001b[38;5;124m'\u001b[39m\u001b[38;5;132;01m{\u001b[39;00mhost\u001b[38;5;132;01m}\u001b[39;00m\u001b[38;5;124m'\u001b[39m\u001b[38;5;124m, label empty or too long\u001b[39m\u001b[38;5;124m\"\u001b[39m) \u001b[38;5;28;01mfrom\u001b[39;00m \u001b[38;5;28;01mNone\u001b[39;00m\n\u001b[0;32m---> 60\u001b[0m \u001b[38;5;28;01mfor\u001b[39;00m res \u001b[38;5;129;01min\u001b[39;00m \u001b[43msocket\u001b[49m\u001b[38;5;241;43m.\u001b[39;49m\u001b[43mgetaddrinfo\u001b[49m\u001b[43m(\u001b[49m\u001b[43mhost\u001b[49m\u001b[43m,\u001b[49m\u001b[43m \u001b[49m\u001b[43mport\u001b[49m\u001b[43m,\u001b[49m\u001b[43m \u001b[49m\u001b[43mfamily\u001b[49m\u001b[43m,\u001b[49m\u001b[43m \u001b[49m\u001b[43msocket\u001b[49m\u001b[38;5;241;43m.\u001b[39;49m\u001b[43mSOCK_STREAM\u001b[49m\u001b[43m)\u001b[49m:\n\u001b[1;32m     61\u001b[0m     af, socktype, proto, canonname, sa \u001b[38;5;241m=\u001b[39m res\n",
      "File \u001b[0;32m/usr/local/Cellar/python@3.9/3.9.18/Frameworks/Python.framework/Versions/3.9/lib/python3.9/socket.py:954\u001b[0m, in \u001b[0;36mgetaddrinfo\u001b[0;34m(host, port, family, type, proto, flags)\u001b[0m\n\u001b[1;32m    953\u001b[0m addrlist \u001b[38;5;241m=\u001b[39m []\n\u001b[0;32m--> 954\u001b[0m \u001b[38;5;28;01mfor\u001b[39;00m res \u001b[38;5;129;01min\u001b[39;00m \u001b[43m_socket\u001b[49m\u001b[38;5;241;43m.\u001b[39;49m\u001b[43mgetaddrinfo\u001b[49m\u001b[43m(\u001b[49m\u001b[43mhost\u001b[49m\u001b[43m,\u001b[49m\u001b[43m \u001b[49m\u001b[43mport\u001b[49m\u001b[43m,\u001b[49m\u001b[43m \u001b[49m\u001b[43mfamily\u001b[49m\u001b[43m,\u001b[49m\u001b[43m \u001b[49m\u001b[38;5;28;43mtype\u001b[39;49m\u001b[43m,\u001b[49m\u001b[43m \u001b[49m\u001b[43mproto\u001b[49m\u001b[43m,\u001b[49m\u001b[43m \u001b[49m\u001b[43mflags\u001b[49m\u001b[43m)\u001b[49m:\n\u001b[1;32m    955\u001b[0m     af, socktype, proto, canonname, sa \u001b[38;5;241m=\u001b[39m res\n",
      "\u001b[0;31mgaierror\u001b[0m: [Errno 8] nodename nor servname provided, or not known",
      "\nThe above exception was the direct cause of the following exception:\n",
      "\u001b[0;31mNameResolutionError\u001b[0m                       Traceback (most recent call last)",
      "File \u001b[0;32m~/Projects/IT-Ptojekt-Chatbot/daibl/.venv/lib/python3.9/site-packages/urllib3/connectionpool.py:790\u001b[0m, in \u001b[0;36mHTTPConnectionPool.urlopen\u001b[0;34m(self, method, url, body, headers, retries, redirect, assert_same_host, timeout, pool_timeout, release_conn, chunked, body_pos, preload_content, decode_content, **response_kw)\u001b[0m\n\u001b[1;32m    789\u001b[0m \u001b[38;5;66;03m# Make the request on the HTTPConnection object\u001b[39;00m\n\u001b[0;32m--> 790\u001b[0m response \u001b[38;5;241m=\u001b[39m \u001b[38;5;28;43mself\u001b[39;49m\u001b[38;5;241;43m.\u001b[39;49m\u001b[43m_make_request\u001b[49m\u001b[43m(\u001b[49m\n\u001b[1;32m    791\u001b[0m \u001b[43m    \u001b[49m\u001b[43mconn\u001b[49m\u001b[43m,\u001b[49m\n\u001b[1;32m    792\u001b[0m \u001b[43m    \u001b[49m\u001b[43mmethod\u001b[49m\u001b[43m,\u001b[49m\n\u001b[1;32m    793\u001b[0m \u001b[43m    \u001b[49m\u001b[43murl\u001b[49m\u001b[43m,\u001b[49m\n\u001b[1;32m    794\u001b[0m \u001b[43m    \u001b[49m\u001b[43mtimeout\u001b[49m\u001b[38;5;241;43m=\u001b[39;49m\u001b[43mtimeout_obj\u001b[49m\u001b[43m,\u001b[49m\n\u001b[1;32m    795\u001b[0m \u001b[43m    \u001b[49m\u001b[43mbody\u001b[49m\u001b[38;5;241;43m=\u001b[39;49m\u001b[43mbody\u001b[49m\u001b[43m,\u001b[49m\n\u001b[1;32m    796\u001b[0m \u001b[43m    \u001b[49m\u001b[43mheaders\u001b[49m\u001b[38;5;241;43m=\u001b[39;49m\u001b[43mheaders\u001b[49m\u001b[43m,\u001b[49m\n\u001b[1;32m    797\u001b[0m \u001b[43m    \u001b[49m\u001b[43mchunked\u001b[49m\u001b[38;5;241;43m=\u001b[39;49m\u001b[43mchunked\u001b[49m\u001b[43m,\u001b[49m\n\u001b[1;32m    798\u001b[0m \u001b[43m    \u001b[49m\u001b[43mretries\u001b[49m\u001b[38;5;241;43m=\u001b[39;49m\u001b[43mretries\u001b[49m\u001b[43m,\u001b[49m\n\u001b[1;32m    799\u001b[0m \u001b[43m    \u001b[49m\u001b[43mresponse_conn\u001b[49m\u001b[38;5;241;43m=\u001b[39;49m\u001b[43mresponse_conn\u001b[49m\u001b[43m,\u001b[49m\n\u001b[1;32m    800\u001b[0m \u001b[43m    \u001b[49m\u001b[43mpreload_content\u001b[49m\u001b[38;5;241;43m=\u001b[39;49m\u001b[43mpreload_content\u001b[49m\u001b[43m,\u001b[49m\n\u001b[1;32m    801\u001b[0m \u001b[43m    \u001b[49m\u001b[43mdecode_content\u001b[49m\u001b[38;5;241;43m=\u001b[39;49m\u001b[43mdecode_content\u001b[49m\u001b[43m,\u001b[49m\n\u001b[1;32m    802\u001b[0m \u001b[43m    \u001b[49m\u001b[38;5;241;43m*\u001b[39;49m\u001b[38;5;241;43m*\u001b[39;49m\u001b[43mresponse_kw\u001b[49m\u001b[43m,\u001b[49m\n\u001b[1;32m    803\u001b[0m \u001b[43m\u001b[49m\u001b[43m)\u001b[49m\n\u001b[1;32m    805\u001b[0m \u001b[38;5;66;03m# Everything went great!\u001b[39;00m\n",
      "File \u001b[0;32m~/Projects/IT-Ptojekt-Chatbot/daibl/.venv/lib/python3.9/site-packages/urllib3/connectionpool.py:491\u001b[0m, in \u001b[0;36mHTTPConnectionPool._make_request\u001b[0;34m(self, conn, method, url, body, headers, retries, timeout, chunked, response_conn, preload_content, decode_content, enforce_content_length)\u001b[0m\n\u001b[1;32m    490\u001b[0m         new_e \u001b[38;5;241m=\u001b[39m _wrap_proxy_error(new_e, conn\u001b[38;5;241m.\u001b[39mproxy\u001b[38;5;241m.\u001b[39mscheme)\n\u001b[0;32m--> 491\u001b[0m     \u001b[38;5;28;01mraise\u001b[39;00m new_e\n\u001b[1;32m    493\u001b[0m \u001b[38;5;66;03m# conn.request() calls http.client.*.request, not the method in\u001b[39;00m\n\u001b[1;32m    494\u001b[0m \u001b[38;5;66;03m# urllib3.request. It also calls makefile (recv) on the socket.\u001b[39;00m\n",
      "File \u001b[0;32m~/Projects/IT-Ptojekt-Chatbot/daibl/.venv/lib/python3.9/site-packages/urllib3/connectionpool.py:467\u001b[0m, in \u001b[0;36mHTTPConnectionPool._make_request\u001b[0;34m(self, conn, method, url, body, headers, retries, timeout, chunked, response_conn, preload_content, decode_content, enforce_content_length)\u001b[0m\n\u001b[1;32m    466\u001b[0m \u001b[38;5;28;01mtry\u001b[39;00m:\n\u001b[0;32m--> 467\u001b[0m     \u001b[38;5;28;43mself\u001b[39;49m\u001b[38;5;241;43m.\u001b[39;49m\u001b[43m_validate_conn\u001b[49m\u001b[43m(\u001b[49m\u001b[43mconn\u001b[49m\u001b[43m)\u001b[49m\n\u001b[1;32m    468\u001b[0m \u001b[38;5;28;01mexcept\u001b[39;00m (SocketTimeout, BaseSSLError) \u001b[38;5;28;01mas\u001b[39;00m e:\n",
      "File \u001b[0;32m~/Projects/IT-Ptojekt-Chatbot/daibl/.venv/lib/python3.9/site-packages/urllib3/connectionpool.py:1096\u001b[0m, in \u001b[0;36mHTTPSConnectionPool._validate_conn\u001b[0;34m(self, conn)\u001b[0m\n\u001b[1;32m   1095\u001b[0m \u001b[38;5;28;01mif\u001b[39;00m conn\u001b[38;5;241m.\u001b[39mis_closed:\n\u001b[0;32m-> 1096\u001b[0m     \u001b[43mconn\u001b[49m\u001b[38;5;241;43m.\u001b[39;49m\u001b[43mconnect\u001b[49m\u001b[43m(\u001b[49m\u001b[43m)\u001b[49m\n\u001b[1;32m   1098\u001b[0m \u001b[38;5;28;01mif\u001b[39;00m \u001b[38;5;129;01mnot\u001b[39;00m conn\u001b[38;5;241m.\u001b[39mis_verified:\n",
      "File \u001b[0;32m~/Projects/IT-Ptojekt-Chatbot/daibl/.venv/lib/python3.9/site-packages/urllib3/connection.py:611\u001b[0m, in \u001b[0;36mHTTPSConnection.connect\u001b[0;34m(self)\u001b[0m\n\u001b[1;32m    610\u001b[0m sock: socket\u001b[38;5;241m.\u001b[39msocket \u001b[38;5;241m|\u001b[39m ssl\u001b[38;5;241m.\u001b[39mSSLSocket\n\u001b[0;32m--> 611\u001b[0m \u001b[38;5;28mself\u001b[39m\u001b[38;5;241m.\u001b[39msock \u001b[38;5;241m=\u001b[39m sock \u001b[38;5;241m=\u001b[39m \u001b[38;5;28;43mself\u001b[39;49m\u001b[38;5;241;43m.\u001b[39;49m\u001b[43m_new_conn\u001b[49m\u001b[43m(\u001b[49m\u001b[43m)\u001b[49m\n\u001b[1;32m    612\u001b[0m server_hostname: \u001b[38;5;28mstr\u001b[39m \u001b[38;5;241m=\u001b[39m \u001b[38;5;28mself\u001b[39m\u001b[38;5;241m.\u001b[39mhost\n",
      "File \u001b[0;32m~/Projects/IT-Ptojekt-Chatbot/daibl/.venv/lib/python3.9/site-packages/urllib3/connection.py:210\u001b[0m, in \u001b[0;36mHTTPConnection._new_conn\u001b[0;34m(self)\u001b[0m\n\u001b[1;32m    209\u001b[0m \u001b[38;5;28;01mexcept\u001b[39;00m socket\u001b[38;5;241m.\u001b[39mgaierror \u001b[38;5;28;01mas\u001b[39;00m e:\n\u001b[0;32m--> 210\u001b[0m     \u001b[38;5;28;01mraise\u001b[39;00m NameResolutionError(\u001b[38;5;28mself\u001b[39m\u001b[38;5;241m.\u001b[39mhost, \u001b[38;5;28mself\u001b[39m, e) \u001b[38;5;28;01mfrom\u001b[39;00m \u001b[38;5;21;01me\u001b[39;00m\n\u001b[1;32m    211\u001b[0m \u001b[38;5;28;01mexcept\u001b[39;00m SocketTimeout \u001b[38;5;28;01mas\u001b[39;00m e:\n",
      "\u001b[0;31mNameResolutionError\u001b[0m: <urllib3.connection.HTTPSConnection object at 0x125cdbc70>: Failed to resolve 'www.th-nuernberg.de&' ([Errno 8] nodename nor servname provided, or not known)",
      "\nThe above exception was the direct cause of the following exception:\n",
      "\u001b[0;31mMaxRetryError\u001b[0m                             Traceback (most recent call last)",
      "File \u001b[0;32m~/Projects/IT-Ptojekt-Chatbot/daibl/.venv/lib/python3.9/site-packages/requests/adapters.py:486\u001b[0m, in \u001b[0;36mHTTPAdapter.send\u001b[0;34m(self, request, stream, timeout, verify, cert, proxies)\u001b[0m\n\u001b[1;32m    485\u001b[0m \u001b[38;5;28;01mtry\u001b[39;00m:\n\u001b[0;32m--> 486\u001b[0m     resp \u001b[38;5;241m=\u001b[39m \u001b[43mconn\u001b[49m\u001b[38;5;241;43m.\u001b[39;49m\u001b[43murlopen\u001b[49m\u001b[43m(\u001b[49m\n\u001b[1;32m    487\u001b[0m \u001b[43m        \u001b[49m\u001b[43mmethod\u001b[49m\u001b[38;5;241;43m=\u001b[39;49m\u001b[43mrequest\u001b[49m\u001b[38;5;241;43m.\u001b[39;49m\u001b[43mmethod\u001b[49m\u001b[43m,\u001b[49m\n\u001b[1;32m    488\u001b[0m \u001b[43m        \u001b[49m\u001b[43murl\u001b[49m\u001b[38;5;241;43m=\u001b[39;49m\u001b[43murl\u001b[49m\u001b[43m,\u001b[49m\n\u001b[1;32m    489\u001b[0m \u001b[43m        \u001b[49m\u001b[43mbody\u001b[49m\u001b[38;5;241;43m=\u001b[39;49m\u001b[43mrequest\u001b[49m\u001b[38;5;241;43m.\u001b[39;49m\u001b[43mbody\u001b[49m\u001b[43m,\u001b[49m\n\u001b[1;32m    490\u001b[0m \u001b[43m        \u001b[49m\u001b[43mheaders\u001b[49m\u001b[38;5;241;43m=\u001b[39;49m\u001b[43mrequest\u001b[49m\u001b[38;5;241;43m.\u001b[39;49m\u001b[43mheaders\u001b[49m\u001b[43m,\u001b[49m\n\u001b[1;32m    491\u001b[0m \u001b[43m        \u001b[49m\u001b[43mredirect\u001b[49m\u001b[38;5;241;43m=\u001b[39;49m\u001b[38;5;28;43;01mFalse\u001b[39;49;00m\u001b[43m,\u001b[49m\n\u001b[1;32m    492\u001b[0m \u001b[43m        \u001b[49m\u001b[43massert_same_host\u001b[49m\u001b[38;5;241;43m=\u001b[39;49m\u001b[38;5;28;43;01mFalse\u001b[39;49;00m\u001b[43m,\u001b[49m\n\u001b[1;32m    493\u001b[0m \u001b[43m        \u001b[49m\u001b[43mpreload_content\u001b[49m\u001b[38;5;241;43m=\u001b[39;49m\u001b[38;5;28;43;01mFalse\u001b[39;49;00m\u001b[43m,\u001b[49m\n\u001b[1;32m    494\u001b[0m \u001b[43m        \u001b[49m\u001b[43mdecode_content\u001b[49m\u001b[38;5;241;43m=\u001b[39;49m\u001b[38;5;28;43;01mFalse\u001b[39;49;00m\u001b[43m,\u001b[49m\n\u001b[1;32m    495\u001b[0m \u001b[43m        \u001b[49m\u001b[43mretries\u001b[49m\u001b[38;5;241;43m=\u001b[39;49m\u001b[38;5;28;43mself\u001b[39;49m\u001b[38;5;241;43m.\u001b[39;49m\u001b[43mmax_retries\u001b[49m\u001b[43m,\u001b[49m\n\u001b[1;32m    496\u001b[0m \u001b[43m        \u001b[49m\u001b[43mtimeout\u001b[49m\u001b[38;5;241;43m=\u001b[39;49m\u001b[43mtimeout\u001b[49m\u001b[43m,\u001b[49m\n\u001b[1;32m    497\u001b[0m \u001b[43m        \u001b[49m\u001b[43mchunked\u001b[49m\u001b[38;5;241;43m=\u001b[39;49m\u001b[43mchunked\u001b[49m\u001b[43m,\u001b[49m\n\u001b[1;32m    498\u001b[0m \u001b[43m    \u001b[49m\u001b[43m)\u001b[49m\n\u001b[1;32m    500\u001b[0m \u001b[38;5;28;01mexcept\u001b[39;00m (ProtocolError, \u001b[38;5;167;01mOSError\u001b[39;00m) \u001b[38;5;28;01mas\u001b[39;00m err:\n",
      "File \u001b[0;32m~/Projects/IT-Ptojekt-Chatbot/daibl/.venv/lib/python3.9/site-packages/urllib3/connectionpool.py:844\u001b[0m, in \u001b[0;36mHTTPConnectionPool.urlopen\u001b[0;34m(self, method, url, body, headers, retries, redirect, assert_same_host, timeout, pool_timeout, release_conn, chunked, body_pos, preload_content, decode_content, **response_kw)\u001b[0m\n\u001b[1;32m    842\u001b[0m     new_e \u001b[38;5;241m=\u001b[39m ProtocolError(\u001b[38;5;124m\"\u001b[39m\u001b[38;5;124mConnection aborted.\u001b[39m\u001b[38;5;124m\"\u001b[39m, new_e)\n\u001b[0;32m--> 844\u001b[0m retries \u001b[38;5;241m=\u001b[39m \u001b[43mretries\u001b[49m\u001b[38;5;241;43m.\u001b[39;49m\u001b[43mincrement\u001b[49m\u001b[43m(\u001b[49m\n\u001b[1;32m    845\u001b[0m \u001b[43m    \u001b[49m\u001b[43mmethod\u001b[49m\u001b[43m,\u001b[49m\u001b[43m \u001b[49m\u001b[43murl\u001b[49m\u001b[43m,\u001b[49m\u001b[43m \u001b[49m\u001b[43merror\u001b[49m\u001b[38;5;241;43m=\u001b[39;49m\u001b[43mnew_e\u001b[49m\u001b[43m,\u001b[49m\u001b[43m \u001b[49m\u001b[43m_pool\u001b[49m\u001b[38;5;241;43m=\u001b[39;49m\u001b[38;5;28;43mself\u001b[39;49m\u001b[43m,\u001b[49m\u001b[43m \u001b[49m\u001b[43m_stacktrace\u001b[49m\u001b[38;5;241;43m=\u001b[39;49m\u001b[43msys\u001b[49m\u001b[38;5;241;43m.\u001b[39;49m\u001b[43mexc_info\u001b[49m\u001b[43m(\u001b[49m\u001b[43m)\u001b[49m\u001b[43m[\u001b[49m\u001b[38;5;241;43m2\u001b[39;49m\u001b[43m]\u001b[49m\n\u001b[1;32m    846\u001b[0m \u001b[43m\u001b[49m\u001b[43m)\u001b[49m\n\u001b[1;32m    847\u001b[0m retries\u001b[38;5;241m.\u001b[39msleep()\n",
      "File \u001b[0;32m~/Projects/IT-Ptojekt-Chatbot/daibl/.venv/lib/python3.9/site-packages/urllib3/util/retry.py:515\u001b[0m, in \u001b[0;36mRetry.increment\u001b[0;34m(self, method, url, response, error, _pool, _stacktrace)\u001b[0m\n\u001b[1;32m    514\u001b[0m     reason \u001b[38;5;241m=\u001b[39m error \u001b[38;5;129;01mor\u001b[39;00m ResponseError(cause)\n\u001b[0;32m--> 515\u001b[0m     \u001b[38;5;28;01mraise\u001b[39;00m MaxRetryError(_pool, url, reason) \u001b[38;5;28;01mfrom\u001b[39;00m \u001b[38;5;21;01mreason\u001b[39;00m  \u001b[38;5;66;03m# type: ignore[arg-type]\u001b[39;00m\n\u001b[1;32m    517\u001b[0m log\u001b[38;5;241m.\u001b[39mdebug(\u001b[38;5;124m\"\u001b[39m\u001b[38;5;124mIncremented Retry for (url=\u001b[39m\u001b[38;5;124m'\u001b[39m\u001b[38;5;132;01m%s\u001b[39;00m\u001b[38;5;124m'\u001b[39m\u001b[38;5;124m): \u001b[39m\u001b[38;5;132;01m%r\u001b[39;00m\u001b[38;5;124m\"\u001b[39m, url, new_retry)\n",
      "\u001b[0;31mMaxRetryError\u001b[0m: HTTPSConnectionPool(host='www.th-nuernberg.de&', port=443): Max retries exceeded with url: / (Caused by NameResolutionError(\"<urllib3.connection.HTTPSConnection object at 0x125cdbc70>: Failed to resolve 'www.th-nuernberg.de&' ([Errno 8] nodename nor servname provided, or not known)\"))",
      "\nDuring handling of the above exception, another exception occurred:\n",
      "\u001b[0;31mConnectionError\u001b[0m                           Traceback (most recent call last)",
      "Cell \u001b[0;32mIn[24], line 1\u001b[0m\n\u001b[0;32m----> 1\u001b[0m df \u001b[38;5;241m=\u001b[39m \u001b[43mupdate_df_with_html\u001b[49m\u001b[43m(\u001b[49m\u001b[43mdf\u001b[49m\u001b[43m)\u001b[49m\n",
      "Cell \u001b[0;32mIn[23], line 7\u001b[0m, in \u001b[0;36mupdate_df_with_html\u001b[0;34m(df)\u001b[0m\n\u001b[1;32m      4\u001b[0m     \u001b[38;5;28;01mif\u001b[39;00m pd\u001b[38;5;241m.\u001b[39misna(row[\u001b[38;5;124m'\u001b[39m\u001b[38;5;124mhtml\u001b[39m\u001b[38;5;124m'\u001b[39m]) \u001b[38;5;129;01mor\u001b[39;00m row[\u001b[38;5;124m'\u001b[39m\u001b[38;5;124mhtml\u001b[39m\u001b[38;5;124m'\u001b[39m] \u001b[38;5;241m==\u001b[39m \u001b[38;5;124m'\u001b[39m\u001b[38;5;124m'\u001b[39m:\n\u001b[1;32m      5\u001b[0m         \u001b[38;5;66;03m# Call the download function with the link from the 'link' column\u001b[39;00m\n\u001b[1;32m      6\u001b[0m         url \u001b[38;5;241m=\u001b[39m \u001b[38;5;124m\"\u001b[39m\u001b[38;5;124mhttps://www.th-nuernberg.de\u001b[39m\u001b[38;5;124m\"\u001b[39m \u001b[38;5;241m+\u001b[39m row[\u001b[38;5;124m\"\u001b[39m\u001b[38;5;124mlink\u001b[39m\u001b[38;5;124m\"\u001b[39m]\n\u001b[0;32m----> 7\u001b[0m         html \u001b[38;5;241m=\u001b[39m \u001b[43mdownload_html_from_url\u001b[49m\u001b[43m(\u001b[49m\u001b[43murl\u001b[49m\u001b[43m)\u001b[49m\n\u001b[1;32m      8\u001b[0m         new_rows\u001b[38;5;241m.\u001b[39mappend({\u001b[38;5;124m'\u001b[39m\u001b[38;5;124mlink\u001b[39m\u001b[38;5;124m'\u001b[39m: row[\u001b[38;5;124m\"\u001b[39m\u001b[38;5;124mlink\u001b[39m\u001b[38;5;124m\"\u001b[39m], \u001b[38;5;124m'\u001b[39m\u001b[38;5;124mhtml\u001b[39m\u001b[38;5;124m'\u001b[39m: html})\n\u001b[1;32m     10\u001b[0m \u001b[38;5;28;01mif\u001b[39;00m new_rows:\n",
      "Cell \u001b[0;32mIn[5], line 2\u001b[0m, in \u001b[0;36mdownload_html_from_url\u001b[0;34m(url)\u001b[0m\n\u001b[1;32m      1\u001b[0m \u001b[38;5;28;01mdef\u001b[39;00m \u001b[38;5;21mdownload_html_from_url\u001b[39m(url):\n\u001b[0;32m----> 2\u001b[0m     res \u001b[38;5;241m=\u001b[39m \u001b[43mrequests\u001b[49m\u001b[38;5;241;43m.\u001b[39;49m\u001b[43mget\u001b[49m\u001b[43m(\u001b[49m\u001b[43murl\u001b[49m\u001b[43m)\u001b[49m\n\u001b[1;32m      3\u001b[0m     html \u001b[38;5;241m=\u001b[39m \u001b[38;5;124m\"\u001b[39m\u001b[38;5;124m\"\u001b[39m\n\u001b[1;32m      4\u001b[0m     \u001b[38;5;28;01mif\u001b[39;00m res\u001b[38;5;241m.\u001b[39mok:\n",
      "File \u001b[0;32m~/Projects/IT-Ptojekt-Chatbot/daibl/.venv/lib/python3.9/site-packages/requests/api.py:73\u001b[0m, in \u001b[0;36mget\u001b[0;34m(url, params, **kwargs)\u001b[0m\n\u001b[1;32m     62\u001b[0m \u001b[38;5;28;01mdef\u001b[39;00m \u001b[38;5;21mget\u001b[39m(url, params\u001b[38;5;241m=\u001b[39m\u001b[38;5;28;01mNone\u001b[39;00m, \u001b[38;5;241m*\u001b[39m\u001b[38;5;241m*\u001b[39mkwargs):\n\u001b[1;32m     63\u001b[0m \u001b[38;5;250m    \u001b[39m\u001b[38;5;124mr\u001b[39m\u001b[38;5;124;03m\"\"\"Sends a GET request.\u001b[39;00m\n\u001b[1;32m     64\u001b[0m \n\u001b[1;32m     65\u001b[0m \u001b[38;5;124;03m    :param url: URL for the new :class:`Request` object.\u001b[39;00m\n\u001b[0;32m   (...)\u001b[0m\n\u001b[1;32m     70\u001b[0m \u001b[38;5;124;03m    :rtype: requests.Response\u001b[39;00m\n\u001b[1;32m     71\u001b[0m \u001b[38;5;124;03m    \"\"\"\u001b[39;00m\n\u001b[0;32m---> 73\u001b[0m     \u001b[38;5;28;01mreturn\u001b[39;00m \u001b[43mrequest\u001b[49m\u001b[43m(\u001b[49m\u001b[38;5;124;43m\"\u001b[39;49m\u001b[38;5;124;43mget\u001b[39;49m\u001b[38;5;124;43m\"\u001b[39;49m\u001b[43m,\u001b[49m\u001b[43m \u001b[49m\u001b[43murl\u001b[49m\u001b[43m,\u001b[49m\u001b[43m \u001b[49m\u001b[43mparams\u001b[49m\u001b[38;5;241;43m=\u001b[39;49m\u001b[43mparams\u001b[49m\u001b[43m,\u001b[49m\u001b[43m \u001b[49m\u001b[38;5;241;43m*\u001b[39;49m\u001b[38;5;241;43m*\u001b[39;49m\u001b[43mkwargs\u001b[49m\u001b[43m)\u001b[49m\n",
      "File \u001b[0;32m~/Projects/IT-Ptojekt-Chatbot/daibl/.venv/lib/python3.9/site-packages/requests/api.py:59\u001b[0m, in \u001b[0;36mrequest\u001b[0;34m(method, url, **kwargs)\u001b[0m\n\u001b[1;32m     55\u001b[0m \u001b[38;5;66;03m# By using the 'with' statement we are sure the session is closed, thus we\u001b[39;00m\n\u001b[1;32m     56\u001b[0m \u001b[38;5;66;03m# avoid leaving sockets open which can trigger a ResourceWarning in some\u001b[39;00m\n\u001b[1;32m     57\u001b[0m \u001b[38;5;66;03m# cases, and look like a memory leak in others.\u001b[39;00m\n\u001b[1;32m     58\u001b[0m \u001b[38;5;28;01mwith\u001b[39;00m sessions\u001b[38;5;241m.\u001b[39mSession() \u001b[38;5;28;01mas\u001b[39;00m session:\n\u001b[0;32m---> 59\u001b[0m     \u001b[38;5;28;01mreturn\u001b[39;00m \u001b[43msession\u001b[49m\u001b[38;5;241;43m.\u001b[39;49m\u001b[43mrequest\u001b[49m\u001b[43m(\u001b[49m\u001b[43mmethod\u001b[49m\u001b[38;5;241;43m=\u001b[39;49m\u001b[43mmethod\u001b[49m\u001b[43m,\u001b[49m\u001b[43m \u001b[49m\u001b[43murl\u001b[49m\u001b[38;5;241;43m=\u001b[39;49m\u001b[43murl\u001b[49m\u001b[43m,\u001b[49m\u001b[43m \u001b[49m\u001b[38;5;241;43m*\u001b[39;49m\u001b[38;5;241;43m*\u001b[39;49m\u001b[43mkwargs\u001b[49m\u001b[43m)\u001b[49m\n",
      "File \u001b[0;32m~/Projects/IT-Ptojekt-Chatbot/daibl/.venv/lib/python3.9/site-packages/requests/sessions.py:589\u001b[0m, in \u001b[0;36mSession.request\u001b[0;34m(self, method, url, params, data, headers, cookies, files, auth, timeout, allow_redirects, proxies, hooks, stream, verify, cert, json)\u001b[0m\n\u001b[1;32m    584\u001b[0m send_kwargs \u001b[38;5;241m=\u001b[39m {\n\u001b[1;32m    585\u001b[0m     \u001b[38;5;124m\"\u001b[39m\u001b[38;5;124mtimeout\u001b[39m\u001b[38;5;124m\"\u001b[39m: timeout,\n\u001b[1;32m    586\u001b[0m     \u001b[38;5;124m\"\u001b[39m\u001b[38;5;124mallow_redirects\u001b[39m\u001b[38;5;124m\"\u001b[39m: allow_redirects,\n\u001b[1;32m    587\u001b[0m }\n\u001b[1;32m    588\u001b[0m send_kwargs\u001b[38;5;241m.\u001b[39mupdate(settings)\n\u001b[0;32m--> 589\u001b[0m resp \u001b[38;5;241m=\u001b[39m \u001b[38;5;28;43mself\u001b[39;49m\u001b[38;5;241;43m.\u001b[39;49m\u001b[43msend\u001b[49m\u001b[43m(\u001b[49m\u001b[43mprep\u001b[49m\u001b[43m,\u001b[49m\u001b[43m \u001b[49m\u001b[38;5;241;43m*\u001b[39;49m\u001b[38;5;241;43m*\u001b[39;49m\u001b[43msend_kwargs\u001b[49m\u001b[43m)\u001b[49m\n\u001b[1;32m    591\u001b[0m \u001b[38;5;28;01mreturn\u001b[39;00m resp\n",
      "File \u001b[0;32m~/Projects/IT-Ptojekt-Chatbot/daibl/.venv/lib/python3.9/site-packages/requests/sessions.py:703\u001b[0m, in \u001b[0;36mSession.send\u001b[0;34m(self, request, **kwargs)\u001b[0m\n\u001b[1;32m    700\u001b[0m start \u001b[38;5;241m=\u001b[39m preferred_clock()\n\u001b[1;32m    702\u001b[0m \u001b[38;5;66;03m# Send the request\u001b[39;00m\n\u001b[0;32m--> 703\u001b[0m r \u001b[38;5;241m=\u001b[39m \u001b[43madapter\u001b[49m\u001b[38;5;241;43m.\u001b[39;49m\u001b[43msend\u001b[49m\u001b[43m(\u001b[49m\u001b[43mrequest\u001b[49m\u001b[43m,\u001b[49m\u001b[43m \u001b[49m\u001b[38;5;241;43m*\u001b[39;49m\u001b[38;5;241;43m*\u001b[39;49m\u001b[43mkwargs\u001b[49m\u001b[43m)\u001b[49m\n\u001b[1;32m    705\u001b[0m \u001b[38;5;66;03m# Total elapsed time of the request (approximately)\u001b[39;00m\n\u001b[1;32m    706\u001b[0m elapsed \u001b[38;5;241m=\u001b[39m preferred_clock() \u001b[38;5;241m-\u001b[39m start\n",
      "File \u001b[0;32m~/Projects/IT-Ptojekt-Chatbot/daibl/.venv/lib/python3.9/site-packages/requests/adapters.py:519\u001b[0m, in \u001b[0;36mHTTPAdapter.send\u001b[0;34m(self, request, stream, timeout, verify, cert, proxies)\u001b[0m\n\u001b[1;32m    515\u001b[0m     \u001b[38;5;28;01mif\u001b[39;00m \u001b[38;5;28misinstance\u001b[39m(e\u001b[38;5;241m.\u001b[39mreason, _SSLError):\n\u001b[1;32m    516\u001b[0m         \u001b[38;5;66;03m# This branch is for urllib3 v1.22 and later.\u001b[39;00m\n\u001b[1;32m    517\u001b[0m         \u001b[38;5;28;01mraise\u001b[39;00m SSLError(e, request\u001b[38;5;241m=\u001b[39mrequest)\n\u001b[0;32m--> 519\u001b[0m     \u001b[38;5;28;01mraise\u001b[39;00m \u001b[38;5;167;01mConnectionError\u001b[39;00m(e, request\u001b[38;5;241m=\u001b[39mrequest)\n\u001b[1;32m    521\u001b[0m \u001b[38;5;28;01mexcept\u001b[39;00m ClosedPoolError \u001b[38;5;28;01mas\u001b[39;00m e:\n\u001b[1;32m    522\u001b[0m     \u001b[38;5;28;01mraise\u001b[39;00m \u001b[38;5;167;01mConnectionError\u001b[39;00m(e, request\u001b[38;5;241m=\u001b[39mrequest)\n",
      "\u001b[0;31mConnectionError\u001b[0m: HTTPSConnectionPool(host='www.th-nuernberg.de&', port=443): Max retries exceeded with url: / (Caused by NameResolutionError(\"<urllib3.connection.HTTPSConnection object at 0x125cdbc70>: Failed to resolve 'www.th-nuernberg.de&' ([Errno 8] nodename nor servname provided, or not known)\"))"
     ]
    }
   ],
   "source": [
    "df = update_df_with_html(df)"
   ]
  },
  {
   "cell_type": "code",
   "execution_count": null,
   "metadata": {},
   "outputs": [],
   "source": [
    "len(df_ultimate)"
   ]
  },
  {
   "cell_type": "code",
   "execution_count": null,
   "metadata": {},
   "outputs": [],
   "source": [
    "db_save_df(df_ultimate, \"html_ultimate\")"
   ]
  },
  {
   "cell_type": "markdown",
   "metadata": {},
   "source": [
    "### Texte extrahieren"
   ]
  },
  {
   "cell_type": "markdown",
   "metadata": {},
   "source": [
    "Als nächstes müssen wir aus den rohen html dokumenten die unrelevanten Daten aussortieren"
   ]
  },
  {
   "cell_type": "code",
   "execution_count": 11,
   "metadata": {},
   "outputs": [],
   "source": [
    "df = db_get_df(\"html_ultimate\")"
   ]
  },
  {
   "cell_type": "markdown",
   "metadata": {},
   "source": [
    "Die nachfolgende Funktion bestimmt, ob ein Beautifulsoup geparsetes html Element sichtbar ist oder nicht."
   ]
  },
  {
   "cell_type": "code",
   "execution_count": 12,
   "metadata": {},
   "outputs": [],
   "source": [
    "def tag_visible(element):\n",
    "    if element.parent.name in ['style', 'script', 'head', 'title', 'meta', '[document]']:\n",
    "        return False\n",
    "    if isinstance(element, Comment):\n",
    "        return False\n",
    "    return True"
   ]
  },
  {
   "cell_type": "markdown",
   "metadata": {},
   "source": [
    "Jetzt bestimmen wir eine Funktion, die ein HTML als Input bekommt und daraus nur die sichtbaren Zeichen bestimmt."
   ]
  },
  {
   "cell_type": "code",
   "execution_count": 13,
   "metadata": {},
   "outputs": [],
   "source": [
    "def get_content(file):\n",
    "    soup = BeautifulSoup(file,\"lxml\")\n",
    "\n",
    "    title = soup.find(\"title\")\n",
    "    if title:\n",
    "        title = title.text\n",
    "    else:\n",
    "        title = \"\"\n",
    "\n",
    "    main = soup.find(\"main\")\n",
    "    portal = soup.find(\"div\", {'class': 'portal'})\n",
    "    page_container = soup.find(\"div\", {'class': 'page-wrap'})\n",
    "    \n",
    "    visible_texts = \"\"\n",
    "    if main:\n",
    "        # print(\"main found\")\n",
    "        container = main.find(\"div\" ,{'class': 'container'}, recursive=False)\n",
    "        if container:\n",
    "            texts = container.find_all(text=True)\n",
    "            visible_texts = filter(tag_visible, texts)\n",
    "        # else:\n",
    "        #     print(\"no container\") \n",
    "\n",
    "    elif portal:\n",
    "        # print(f\"portal found {filename}\")\n",
    "        texts = portal.find_all(text=True)\n",
    "        visible_texts = filter(tag_visible, texts)\n",
    "        # print(u\" \".join(t.strip() for t in visible_texts))\n",
    "\n",
    "    elif page_container:\n",
    "        # print(f\"page_container found {filename}\")\n",
    "        container = page_container.find(\"div\" ,{'class': 'container'}, recursive=False)\n",
    "        # container = page_container.children[2]\n",
    "        if container:\n",
    "            texts = container.find_all(text=True)\n",
    "            visible_texts = filter(tag_visible, texts)\n",
    "\n",
    "\n",
    "    return {\n",
    "        \"title\":    title,\n",
    "        \"text\":     u\" \".join(t.strip() for t in visible_texts)\n",
    "    }"
   ]
  },
  {
   "cell_type": "code",
   "execution_count": 15,
   "metadata": {},
   "outputs": [
    {
     "name": "stderr",
     "output_type": "stream",
     "text": [
      "  0%|          | 0/6599 [00:00<?, ?it/s]/var/folders/sx/swd0dqk97zvbv2327pzfkh800000gn/T/ipykernel_8552/727059889.py:19: DeprecationWarning: The 'text' argument to find()-type methods is deprecated. Use 'string' instead.\n",
      "  texts = container.find_all(text=True)\n",
      "  2%|▏         | 157/6599 [00:08<03:39, 29.28it/s]/var/folders/sx/swd0dqk97zvbv2327pzfkh800000gn/T/ipykernel_8552/727059889.py:26: DeprecationWarning: The 'text' argument to find()-type methods is deprecated. Use 'string' instead.\n",
      "  texts = portal.find_all(text=True)\n",
      " 70%|███████   | 4652/6599 [05:50<03:13, 10.04it/s]  /Users/br/Projects/IT-Ptojekt-Chatbot/daibl/.venv/lib/python3.9/site-packages/bs4/builder/__init__.py:545: XMLParsedAsHTMLWarning: It looks like you're parsing an XML document using an HTML parser. If this really is an HTML document (maybe it's XHTML?), you can ignore or filter this warning. If it's XML, you should know that using an XML parser will be more reliable. To parse this document as XML, make sure you have the lxml package installed, and pass the keyword argument `features=\"xml\"` into the BeautifulSoup constructor.\n",
      "  warnings.warn(\n",
      "100%|██████████| 6599/6599 [08:20<00:00, 13.20it/s]  \n"
     ]
    }
   ],
   "source": [
    "parsed_texts = []\n",
    "titles = []\n",
    "for html in tqdm(df[\"html\"]):\n",
    "    content = get_content(html)\n",
    "    parsed_texts.append(content[\"text\"])\n",
    "    titles.append(content[\"title\"])\n",
    "\n",
    "df[\"text\"] = parsed_texts\n",
    "df[\"title\"] = titles"
   ]
  },
  {
   "cell_type": "code",
   "execution_count": 20,
   "metadata": {},
   "outputs": [
    {
     "name": "stdout",
     "output_type": "stream",
     "text": [
      "3                                                    None\n",
      "5                                                    None\n",
      "6                                                    None\n",
      "7                                                    None\n",
      "8                                                    None\n",
      "                              ...                        \n",
      "6498    /studium-karriere/zulassung-und-bewerbung/zula...\n",
      "6499    /studium-karriere/zulassung-und-bewerbung/zula...\n",
      "6596                /veranstaltungen/calendar/2021/#c7031\n",
      "6597                /veranstaltungen/calendar/2023/#c7031\n",
      "6598                /veranstaltungen/calendar/2025/#c7031\n",
      "Name: url, Length: 2947, dtype: object\n"
     ]
    }
   ],
   "source": [
    "\n",
    "print(df[df[\"text\"] != \"\"][\"url\"])"
   ]
  }
 ],
 "metadata": {
  "kernelspec": {
   "display_name": ".venv",
   "language": "python",
   "name": "python3"
  },
  "language_info": {
   "codemirror_mode": {
    "name": "ipython",
    "version": 3
   },
   "file_extension": ".py",
   "mimetype": "text/x-python",
   "name": "python",
   "nbconvert_exporter": "python",
   "pygments_lexer": "ipython3",
   "version": "3.9.18"
  }
 },
 "nbformat": 4,
 "nbformat_minor": 2
}
