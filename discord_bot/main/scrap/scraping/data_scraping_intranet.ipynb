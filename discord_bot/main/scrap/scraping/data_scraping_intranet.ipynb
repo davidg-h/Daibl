{
 "cells": [
  {
   "cell_type": "markdown",
   "metadata": {},
   "source": [
    "# Die Webseite der TH Nürnberg- Intranet Scrapen"
   ]
  },
  {
   "cell_type": "markdown",
   "metadata": {},
   "source": [
    "### Einleitung"
   ]
  },
  {
   "cell_type": "markdown",
   "metadata": {},
   "source": [
    "Die Webseite der TH-Nürnberg wirkt als Ausgangspunkt für die Wissensgrundlage des Chatbots.\n",
    "\n",
    "Conventions: \n",
    "- pandas Spaltennamen im Sigular\n",
    "- Die meißten Links sind keine URLs, da sie lokal sind"
   ]
  },
  {
   "cell_type": "code",
   "execution_count": 3,
   "metadata": {},
   "outputs": [],
   "source": [
    "import sys\n",
    "sys.path.append('..')\n",
    "from bs4 import BeautifulSoup\n",
    "from bs4.element import Comment\n",
    "import pandas as pd\n",
    "from db_init import db_get_df, db_save_df\n",
    "import glob\n",
    "import json\n",
    "import requests\n",
    "import sys\n",
    "from tqdm import tqdm"
   ]
  },
  {
   "cell_type": "markdown",
   "metadata": {},
   "source": [
    "**Note:** Um diesen Notebook auszuführen, braucht man eine VPN Verbindung zur TH-Intranet."
   ]
  },
  {
   "cell_type": "markdown",
   "metadata": {},
   "source": [
    "### Scrapen der home Seite"
   ]
  },
  {
   "cell_type": "markdown",
   "metadata": {},
   "source": [
    "Als Ausganspunkt für unsere Daten nutzen wir die Home Webseite des TH-Nürnberg-Intranet. (https://intern.ohmportal.de/)\n",
    "Diese Website downloaden wir und suchen alle Links auf andere Webseiten und speichern diese Links in eine Liste.\n",
    "Als nächsten Schritt rufen wir alle Links aus dieser Liste auf und sammeln wiederum alle Links von jeder dieser Webseiten.\n",
    "In der daraus resultierenden Liste sortieren wir alle Links aus, die nicht auf die Webseite des TH-Intranet verweisen.\n",
    "Dann laden wir alle Dokumente herunter und speichern sie in der Datenbank."
   ]
  },
  {
   "cell_type": "markdown",
   "metadata": {},
   "source": [
    "Eine Funktion, die eine URL als parameter nimmt und das HTML file zurückgibt, falls die Seite existiert.\n",
    "\n",
    "Dafür nutzen wir die requests Bibliothek."
   ]
  },
  {
   "cell_type": "markdown",
   "metadata": {},
   "source": [
    "Da einige Seiten eine Umleitung auf die THN Webseite enthalten, überprüfen wir, ob die URL nach dem Umleiten noch zur ursprünglichen Domäne gehört."
   ]
  },
  {
   "cell_type": "code",
   "execution_count": 88,
   "metadata": {},
   "outputs": [],
   "source": [
    "def download_html_from_url(url):\n",
    "    res = requests.get(url)\n",
    "    html = \"\"\n",
    "    \n",
    "    if res.status_code == 200:\n",
    "        if res.url.startswith(url):\n",
    "            html = res.text\n",
    "        else:\n",
    "            print(f\"Umleitung zu externer Seite verhindert. URL: {res.url}\")\n",
    "    else:\n",
    "        print(f\"Kein Inhalt heruntergeladen. Statuscode: {res.status_code}\")\n",
    "    \n",
    "    return html\n"
   ]
  },
  {
   "cell_type": "markdown",
   "metadata": {},
   "source": [
    "Eine Funktion, die ein HTML file nach Links durchsucht und alle gefundenen externen und internen Links zurückgibt.\n",
    "Dafür nutzen wir die Bibliothek Beautifulsoup, mit dem lxml parser."
   ]
  },
  {
   "cell_type": "code",
   "execution_count": 93,
   "metadata": {},
   "outputs": [],
   "source": [
    "def get_links_from_one_html(html):\n",
    "    soup = BeautifulSoup(html,\"lxml\")\n",
    "    links = [a[\"href\"] for a in soup.find_all('a', href=True)]\n",
    "    return links"
   ]
  },
  {
   "cell_type": "markdown",
   "metadata": {},
   "source": [
    "Jetzt geben wir unsere initiale URL an und extrahieren alle Links aus dieser"
   ]
  },
  {
   "cell_type": "code",
   "execution_count": 196,
   "metadata": {},
   "outputs": [
    {
     "name": "stdout",
     "output_type": "stream",
     "text": [
      "/seitenbaum/home/page.html /seitenbaum/hochschule/page.html /seitenbaum/fakultaeten/page.html /seitenbaum/kontakt/page.html /seitenbaum/impressum/page.html /seitenbaum/datenschutz/page.html /seitenbaum/hilfe-in-notfaellen/page.html /seitenbaum/studierende/fuer-studierende/page.html /seitenbaum/lehrende-und-beschaeftigte/fuer-lehrende-und-beschaeftigte/page.html /seitenbaum/home/page.html /seitenbaum/home/allgemeinwissenschaftliche-wahl-wahlpflichtfaecher/page.html /seitenbaum/home/bibliothek/page.html /seitenbaum/home/career-service/page.html /seitenbaum/home/contacting/page.html /seitenbaum/home/hochschulkommunikation/page.html /seitenbaum/home/hochschulleitung/page.html /institutionen/hochschulservice-fuer-familie-gleichstellung-und-gesundheit/page.html /seitenbaum/hochschule/oeffnungszeiten-der-hochschule/page.html /seitenbaum/home/qualitaetsmanagement/page.html /seitenbaum/home/lehr-und-kompetenzentwicklung/page.html /institutionen/zentrale-studienberatung/page.html /seitenbaum/home/studienbuero/studierendenservicestudienbuero/page.html /seitenbaum/home/studienfinanzierung/page.html /seitenbaum/home/technik-und-facility-management/page.html /seitenbaum/home/vermietungen/page.html /institutionen/zentrale-it/page.html /institutionen/fakultaeten/angewandte-chemie/page.html /institutionen/fakultaeten/angewandte-mathematik-physik-und-allgemeinwissenschaften/page.html /institutionen/fakultaeten/architektur/page.html /institutionen/fakultaeten/bauingenieurwesen/page.html /institutionen/fakultaeten/betriebswirtschaft/page.html /institutionen/fakultaeten/design/page.html /institutionen/fakultaeten/elektrotechnik-feinwerktechnik-informationstechnik/page.html /institutionen/fakultaeten/informatik/page.html /institutionen/fakultaeten/maschinenbau-und-versorgungstechnik/page.html /institutionen/fakultaeten/sozialwissenschaften/page.html /institutionen/fakultaeten/verfahrenstechnik/page.html /institutionen/fakultaeten/werkstofftechnik/page.html /index.php?id=27521 /index.php?id=34424 /index.php?id=39587 /index.php?id=39598 /index.php?id=39608 /index.php?id=39619 /index.php?id=27521 /index.php?id=31174 /index.php?id=31123 /index.php?id=31071 https://elearning.ohmportal.de/ /index.php?id=31187 /seitenbaum/rss/rss2.xml /index.php?id=26758 http://jobboerse.th-nuernberg.de/ /seitenbaum/studierende/rund-ums-studium/servicefinder/page.html /seitenbaum/studierende/mein-studium/download-center/antraege-und-meldungen/page.html /seitenbaum/studierende/mein-studium/download-center/antraege-und-meldungen/page.html /seitenbaum/studierende/mein-studium/online-services/page.html /seitenbaum/studierende/mein-studium/online-services/page.html http://ohm.kh-netzwerk.de/forum/rund-um-den-studienalltag\n",
      "59\n"
     ]
    },
    {
     "name": "stderr",
     "output_type": "stream",
     "text": [
      "c:\\Users\\lizab\\projects\\Daibl\\daibl\\.venv\\lib\\site-packages\\bs4\\builder\\__init__.py:545: XMLParsedAsHTMLWarning: It looks like you're parsing an XML document using an HTML parser. If this really is an HTML document (maybe it's XHTML?), you can ignore or filter this warning. If it's XML, you should know that using an XML parser will be more reliable. To parse this document as XML, make sure you have the lxml package installed, and pass the keyword argument `features=\"xml\"` into the BeautifulSoup constructor.\n",
      "  warnings.warn(\n"
     ]
    }
   ],
   "source": [
    "BASE_URL = \"https://intern.ohmportal.de/\"\n",
    "html = download_html_from_url(BASE_URL)\n",
    "links = get_links_from_one_html(html)\n",
    "df = pd.DataFrame({\"link\": links})\n",
    "print(*df[\"link\"])\n",
    "print(len(df[\"link\"]))"
   ]
  },
  {
   "cell_type": "markdown",
   "metadata": {},
   "source": [
    "### Links filtern"
   ]
  },
  {
   "cell_type": "markdown",
   "metadata": {},
   "source": [
    "Zunächst können wir alle Links überprüfen, ob sie Parameter oder sections mit \n",
    "- *?param1=hallo*\n",
    "- *#section* \n",
    "\n",
    "enthalten. Beide Attribute sind für den Download der Webseiten nicht notwendig und werden ausgefiltert. Dies spart uns HTML Duplikate."
   ]
  },
  {
   "cell_type": "code",
   "execution_count": 95,
   "metadata": {},
   "outputs": [],
   "source": [
    "def clean_links(links):\n",
    "    cleaned_links = [link.split('#')[0].split('?')[0] for link in links]\n",
    "    return cleaned_links"
   ]
  },
  {
   "cell_type": "markdown",
   "metadata": {},
   "source": [
    "Nun speichern wir das zwischen Ergebnis der gefilterten Links."
   ]
  },
  {
   "cell_type": "code",
   "execution_count": 197,
   "metadata": {},
   "outputs": [
    {
     "name": "stdout",
     "output_type": "stream",
     "text": [
      "/seitenbaum/home/page.html /seitenbaum/hochschule/page.html /seitenbaum/fakultaeten/page.html /seitenbaum/kontakt/page.html /seitenbaum/impressum/page.html /seitenbaum/datenschutz/page.html /seitenbaum/hilfe-in-notfaellen/page.html /seitenbaum/studierende/fuer-studierende/page.html /seitenbaum/lehrende-und-beschaeftigte/fuer-lehrende-und-beschaeftigte/page.html /seitenbaum/home/page.html /seitenbaum/home/allgemeinwissenschaftliche-wahl-wahlpflichtfaecher/page.html /seitenbaum/home/bibliothek/page.html /seitenbaum/home/career-service/page.html /seitenbaum/home/contacting/page.html /seitenbaum/home/hochschulkommunikation/page.html /seitenbaum/home/hochschulleitung/page.html /institutionen/hochschulservice-fuer-familie-gleichstellung-und-gesundheit/page.html /seitenbaum/hochschule/oeffnungszeiten-der-hochschule/page.html /seitenbaum/home/qualitaetsmanagement/page.html /seitenbaum/home/lehr-und-kompetenzentwicklung/page.html /institutionen/zentrale-studienberatung/page.html /seitenbaum/home/studienbuero/studierendenservicestudienbuero/page.html /seitenbaum/home/studienfinanzierung/page.html /seitenbaum/home/technik-und-facility-management/page.html /seitenbaum/home/vermietungen/page.html /institutionen/zentrale-it/page.html /institutionen/fakultaeten/angewandte-chemie/page.html /institutionen/fakultaeten/angewandte-mathematik-physik-und-allgemeinwissenschaften/page.html /institutionen/fakultaeten/architektur/page.html /institutionen/fakultaeten/bauingenieurwesen/page.html /institutionen/fakultaeten/betriebswirtschaft/page.html /institutionen/fakultaeten/design/page.html /institutionen/fakultaeten/elektrotechnik-feinwerktechnik-informationstechnik/page.html /institutionen/fakultaeten/informatik/page.html /institutionen/fakultaeten/maschinenbau-und-versorgungstechnik/page.html /institutionen/fakultaeten/sozialwissenschaften/page.html /institutionen/fakultaeten/verfahrenstechnik/page.html /institutionen/fakultaeten/werkstofftechnik/page.html /index.php /index.php /index.php /index.php /index.php /index.php /index.php /index.php /index.php /index.php https://elearning.ohmportal.de/ /index.php /seitenbaum/rss/rss2.xml /index.php http://jobboerse.th-nuernberg.de/ /seitenbaum/studierende/rund-ums-studium/servicefinder/page.html /seitenbaum/studierende/mein-studium/download-center/antraege-und-meldungen/page.html /seitenbaum/studierende/mein-studium/download-center/antraege-und-meldungen/page.html /seitenbaum/studierende/mein-studium/online-services/page.html /seitenbaum/studierende/mein-studium/online-services/page.html http://ohm.kh-netzwerk.de/forum/rund-um-den-studienalltag\n"
     ]
    }
   ],
   "source": [
    "df[\"link\"]=clean_links(df[\"link\"])\n",
    "print(*df[\"link\"])\n"
   ]
  },
  {
   "cell_type": "markdown",
   "metadata": {},
   "source": [
    "Nun löschen wir alle Links, die kein Inhalt haben (leere Links). "
   ]
  },
  {
   "cell_type": "code",
   "execution_count": 97,
   "metadata": {},
   "outputs": [],
   "source": [
    "def remove_empty_links(links):\n",
    "    cleaned_links = [link for link in links if link.strip()]\n",
    "    return cleaned_links"
   ]
  },
  {
   "cell_type": "code",
   "execution_count": 198,
   "metadata": {},
   "outputs": [
    {
     "name": "stdout",
     "output_type": "stream",
     "text": [
      "/seitenbaum/home/page.html /seitenbaum/hochschule/page.html /seitenbaum/fakultaeten/page.html /seitenbaum/kontakt/page.html /seitenbaum/impressum/page.html /seitenbaum/datenschutz/page.html /seitenbaum/hilfe-in-notfaellen/page.html /seitenbaum/studierende/fuer-studierende/page.html /seitenbaum/lehrende-und-beschaeftigte/fuer-lehrende-und-beschaeftigte/page.html /seitenbaum/home/page.html /seitenbaum/home/allgemeinwissenschaftliche-wahl-wahlpflichtfaecher/page.html /seitenbaum/home/bibliothek/page.html /seitenbaum/home/career-service/page.html /seitenbaum/home/contacting/page.html /seitenbaum/home/hochschulkommunikation/page.html /seitenbaum/home/hochschulleitung/page.html /institutionen/hochschulservice-fuer-familie-gleichstellung-und-gesundheit/page.html /seitenbaum/hochschule/oeffnungszeiten-der-hochschule/page.html /seitenbaum/home/qualitaetsmanagement/page.html /seitenbaum/home/lehr-und-kompetenzentwicklung/page.html /institutionen/zentrale-studienberatung/page.html /seitenbaum/home/studienbuero/studierendenservicestudienbuero/page.html /seitenbaum/home/studienfinanzierung/page.html /seitenbaum/home/technik-und-facility-management/page.html /seitenbaum/home/vermietungen/page.html /institutionen/zentrale-it/page.html /institutionen/fakultaeten/angewandte-chemie/page.html /institutionen/fakultaeten/angewandte-mathematik-physik-und-allgemeinwissenschaften/page.html /institutionen/fakultaeten/architektur/page.html /institutionen/fakultaeten/bauingenieurwesen/page.html /institutionen/fakultaeten/betriebswirtschaft/page.html /institutionen/fakultaeten/design/page.html /institutionen/fakultaeten/elektrotechnik-feinwerktechnik-informationstechnik/page.html /institutionen/fakultaeten/informatik/page.html /institutionen/fakultaeten/maschinenbau-und-versorgungstechnik/page.html /institutionen/fakultaeten/sozialwissenschaften/page.html /institutionen/fakultaeten/verfahrenstechnik/page.html /institutionen/fakultaeten/werkstofftechnik/page.html /index.php /index.php /index.php /index.php /index.php /index.php /index.php /index.php /index.php /index.php https://elearning.ohmportal.de/ /index.php /seitenbaum/rss/rss2.xml /index.php http://jobboerse.th-nuernberg.de/ /seitenbaum/studierende/rund-ums-studium/servicefinder/page.html /seitenbaum/studierende/mein-studium/download-center/antraege-und-meldungen/page.html /seitenbaum/studierende/mein-studium/download-center/antraege-und-meldungen/page.html /seitenbaum/studierende/mein-studium/online-services/page.html /seitenbaum/studierende/mein-studium/online-services/page.html http://ohm.kh-netzwerk.de/forum/rund-um-den-studienalltag\n",
      "59\n"
     ]
    }
   ],
   "source": [
    "df = pd.DataFrame({\"link\": remove_empty_links(df[\"link\"])})\n",
    "print(*df[\"link\"])\n",
    "print(len(df[\"link\"]))"
   ]
  },
  {
   "cell_type": "markdown",
   "metadata": {},
   "source": [
    "Man sieht, dass wir 0 Links ausgefiltert haben, wenn man die Anzahl der Links vor und nach der Filterung vergleicht."
   ]
  },
  {
   "cell_type": "markdown",
   "metadata": {},
   "source": [
    "### Externe Links finden- nur zur Visualisierung (optionale Funktion)"
   ]
  },
  {
   "cell_type": "markdown",
   "metadata": {},
   "source": [
    "Jetzt können wir Mal nachschauen, auf welche externen Seiten die Startseite des THN-Intranet verweist."
   ]
  },
  {
   "cell_type": "code",
   "execution_count": 99,
   "metadata": {},
   "outputs": [],
   "source": [
    "def find_extern_urls(urls):\n",
    "    external_links = []\n",
    "    for link in urls:\n",
    "        if link.startswith(\"http\"):\n",
    "            external_links.append(link)\n",
    "\n",
    "    return external_links"
   ]
  },
  {
   "cell_type": "code",
   "execution_count": 199,
   "metadata": {},
   "outputs": [
    {
     "name": "stdout",
     "output_type": "stream",
     "text": [
      "Anzahl externer Links:  3\n",
      "['https://elearning.ohmportal.de/', 'http://jobboerse.th-nuernberg.de/', 'http://ohm.kh-netzwerk.de/forum/rund-um-den-studienalltag']\n"
     ]
    }
   ],
   "source": [
    "external_links = find_extern_urls(df[\"link\"])\n",
    "print(\"Anzahl externer Links: \", len(external_links))\n",
    "print(external_links)"
   ]
  },
  {
   "cell_type": "markdown",
   "metadata": {},
   "source": [
    "Die Seite verweist also auf elearning, auf jobboerse und ein Forum."
   ]
  },
  {
   "cell_type": "markdown",
   "metadata": {},
   "source": [
    "### Interne Links filtern"
   ]
  },
  {
   "cell_type": "markdown",
   "metadata": {},
   "source": [
    "Wir filtern nun noch alle Links heraus, die keine HTML-inhalte besitzen, wie z.B. pdf oder xml Dateien, die mail Links enthalten oder die nicht auf die THN Webseite referieren."
   ]
  },
  {
   "cell_type": "code",
   "execution_count": 145,
   "metadata": {},
   "outputs": [],
   "source": [
    "def filter_intern_links(urls):\n",
    "    filtered_links = []\n",
    "    for url in urls:\n",
    "        if url.startswith(\"http\"):\n",
    "            continue\n",
    "        elif url.startswith(\"mailto:\"):\n",
    "            continue\n",
    "        elif url.startswith(\"javascript:\"):\n",
    "            continue\n",
    "        elif url.startswith(\"&#\"): # is encoded mailto\n",
    "            continue\n",
    "        elif \".xml\" in url:\n",
    "            continue\n",
    "        elif \".docx\" in url:\n",
    "            continue\n",
    "        elif \".pdf\" in url:\n",
    "            continue\n",
    "        elif url == \"/\":\n",
    "            continue\n",
    "        elif url == \"&\":\n",
    "            continue\n",
    "        else:\n",
    "            filtered_links.append(url)\n",
    "    return filtered_links"
   ]
  },
  {
   "cell_type": "code",
   "execution_count": 200,
   "metadata": {},
   "outputs": [
    {
     "name": "stdout",
     "output_type": "stream",
     "text": [
      "Anzahl interner Links:  55\n",
      "['/seitenbaum/home/page.html', '/seitenbaum/hochschule/page.html', '/seitenbaum/fakultaeten/page.html', '/seitenbaum/kontakt/page.html', '/seitenbaum/impressum/page.html', '/seitenbaum/datenschutz/page.html', '/seitenbaum/hilfe-in-notfaellen/page.html', '/seitenbaum/studierende/fuer-studierende/page.html', '/seitenbaum/lehrende-und-beschaeftigte/fuer-lehrende-und-beschaeftigte/page.html', '/seitenbaum/home/page.html', '/seitenbaum/home/allgemeinwissenschaftliche-wahl-wahlpflichtfaecher/page.html', '/seitenbaum/home/bibliothek/page.html', '/seitenbaum/home/career-service/page.html', '/seitenbaum/home/contacting/page.html', '/seitenbaum/home/hochschulkommunikation/page.html', '/seitenbaum/home/hochschulleitung/page.html', '/institutionen/hochschulservice-fuer-familie-gleichstellung-und-gesundheit/page.html', '/seitenbaum/hochschule/oeffnungszeiten-der-hochschule/page.html', '/seitenbaum/home/qualitaetsmanagement/page.html', '/seitenbaum/home/lehr-und-kompetenzentwicklung/page.html', '/institutionen/zentrale-studienberatung/page.html', '/seitenbaum/home/studienbuero/studierendenservicestudienbuero/page.html', '/seitenbaum/home/studienfinanzierung/page.html', '/seitenbaum/home/technik-und-facility-management/page.html', '/seitenbaum/home/vermietungen/page.html', '/institutionen/zentrale-it/page.html', '/institutionen/fakultaeten/angewandte-chemie/page.html', '/institutionen/fakultaeten/angewandte-mathematik-physik-und-allgemeinwissenschaften/page.html', '/institutionen/fakultaeten/architektur/page.html', '/institutionen/fakultaeten/bauingenieurwesen/page.html', '/institutionen/fakultaeten/betriebswirtschaft/page.html', '/institutionen/fakultaeten/design/page.html', '/institutionen/fakultaeten/elektrotechnik-feinwerktechnik-informationstechnik/page.html', '/institutionen/fakultaeten/informatik/page.html', '/institutionen/fakultaeten/maschinenbau-und-versorgungstechnik/page.html', '/institutionen/fakultaeten/sozialwissenschaften/page.html', '/institutionen/fakultaeten/verfahrenstechnik/page.html', '/institutionen/fakultaeten/werkstofftechnik/page.html', '/index.php', '/index.php', '/index.php', '/index.php', '/index.php', '/index.php', '/index.php', '/index.php', '/index.php', '/index.php', '/index.php', '/index.php', '/seitenbaum/studierende/rund-ums-studium/servicefinder/page.html', '/seitenbaum/studierende/mein-studium/download-center/antraege-und-meldungen/page.html', '/seitenbaum/studierende/mein-studium/download-center/antraege-und-meldungen/page.html', '/seitenbaum/studierende/mein-studium/online-services/page.html', '/seitenbaum/studierende/mein-studium/online-services/page.html']\n"
     ]
    }
   ],
   "source": [
    "intern_links = filter_intern_links(df[\"link\"])\n",
    "print(\"Anzahl interner Links: \", len(intern_links))\n",
    "print(intern_links)"
   ]
  },
  {
   "cell_type": "markdown",
   "metadata": {},
   "source": [
    "Nun haben wir 4 Links entfernt."
   ]
  },
  {
   "cell_type": "markdown",
   "metadata": {},
   "source": [
    "### Dublikate entfernen und sortieren"
   ]
  },
  {
   "cell_type": "markdown",
   "metadata": {},
   "source": [
    "Jetzt können wir die duplikate entfernen und anschließend alphabetisch sortieren."
   ]
  },
  {
   "cell_type": "code",
   "execution_count": 194,
   "metadata": {},
   "outputs": [],
   "source": [
    "def sort_and_remove_dublicates(df):\n",
    "    if 'html' in df.columns:\n",
    "        df = df.sort_values(by='html', ascending=False)\n",
    "        df = df.drop_duplicates(subset='link', keep='first')\n",
    "        df = df.reset_index(drop=True)\n",
    "    else:\n",
    "        df = df.sort_values(by='link', ascending=False)\n",
    "        df = df.drop_duplicates(subset='link', keep='first')\n",
    "        df = df.reset_index(drop=True)\n",
    "    return df"
   ]
  },
  {
   "cell_type": "code",
   "execution_count": 201,
   "metadata": {},
   "outputs": [
    {
     "name": "stdout",
     "output_type": "stream",
     "text": [
      "Anzahl interner Links (ohne Dublikate):  41\n",
      "/seitenbaum/studierende/rund-ums-studium/servicefinder/page.html /seitenbaum/studierende/mein-studium/online-services/page.html /seitenbaum/studierende/mein-studium/download-center/antraege-und-meldungen/page.html /seitenbaum/studierende/fuer-studierende/page.html /seitenbaum/lehrende-und-beschaeftigte/fuer-lehrende-und-beschaeftigte/page.html /seitenbaum/kontakt/page.html /seitenbaum/impressum/page.html /seitenbaum/home/vermietungen/page.html /seitenbaum/home/technik-und-facility-management/page.html /seitenbaum/home/studienfinanzierung/page.html /seitenbaum/home/studienbuero/studierendenservicestudienbuero/page.html /seitenbaum/home/qualitaetsmanagement/page.html /seitenbaum/home/page.html /seitenbaum/home/lehr-und-kompetenzentwicklung/page.html /seitenbaum/home/hochschulleitung/page.html /seitenbaum/home/hochschulkommunikation/page.html /seitenbaum/home/contacting/page.html /seitenbaum/home/career-service/page.html /seitenbaum/home/bibliothek/page.html /seitenbaum/home/allgemeinwissenschaftliche-wahl-wahlpflichtfaecher/page.html /seitenbaum/hochschule/page.html /seitenbaum/hochschule/oeffnungszeiten-der-hochschule/page.html /seitenbaum/hilfe-in-notfaellen/page.html /seitenbaum/fakultaeten/page.html /seitenbaum/datenschutz/page.html /institutionen/zentrale-studienberatung/page.html /institutionen/zentrale-it/page.html /institutionen/hochschulservice-fuer-familie-gleichstellung-und-gesundheit/page.html /institutionen/fakultaeten/werkstofftechnik/page.html /institutionen/fakultaeten/verfahrenstechnik/page.html /institutionen/fakultaeten/sozialwissenschaften/page.html /institutionen/fakultaeten/maschinenbau-und-versorgungstechnik/page.html /institutionen/fakultaeten/informatik/page.html /institutionen/fakultaeten/elektrotechnik-feinwerktechnik-informationstechnik/page.html /institutionen/fakultaeten/design/page.html /institutionen/fakultaeten/betriebswirtschaft/page.html /institutionen/fakultaeten/bauingenieurwesen/page.html /institutionen/fakultaeten/architektur/page.html /institutionen/fakultaeten/angewandte-mathematik-physik-und-allgemeinwissenschaften/page.html /institutionen/fakultaeten/angewandte-chemie/page.html /index.php\n"
     ]
    }
   ],
   "source": [
    "intern_links = filter_intern_links(df[\"link\"])\n",
    "df = pd.DataFrame({\"link\": intern_links})\n",
    "df = sort_and_remove_dublicates(df)\n",
    "print(\"Anzahl interner Links (ohne Dublikate): \", len(df[\"link\"]))\n",
    "print(*df[\"link\"])"
   ]
  },
  {
   "cell_type": "markdown",
   "metadata": {},
   "source": [
    "Anhand der Anzahl der Links vor und nach der Duplikaten Entfernung, sieht man das 14 doppelt vorkommende Links entfernet werden."
   ]
  },
  {
   "cell_type": "markdown",
   "metadata": {},
   "source": [
    "### Links abspeichern"
   ]
  },
  {
   "cell_type": "markdown",
   "metadata": {},
   "source": [
    "Für unsere weiteren Schritte werden wir immer nur interne Links verwenden, deshalb speichern wir an dieser Stelle mal die internen Links ab."
   ]
  },
  {
   "cell_type": "code",
   "execution_count": 153,
   "metadata": {},
   "outputs": [],
   "source": [
    "db_save_df(df, \"only_links\")"
   ]
  },
  {
   "cell_type": "markdown",
   "metadata": {},
   "source": [
    "### Downloaden der files"
   ]
  },
  {
   "cell_type": "markdown",
   "metadata": {},
   "source": [
    "Jetzt können wir mit dem downloaden anfangen."
   ]
  },
  {
   "cell_type": "markdown",
   "metadata": {},
   "source": [
    "Diese Funktion lädt nun alle Html files zu den Links herunter und speichert sie im Dataframe neben den \"link\" in einer Spalte \"html\"."
   ]
  },
  {
   "cell_type": "code",
   "execution_count": 106,
   "metadata": {},
   "outputs": [],
   "source": [
    "def download_all_urls(links):\n",
    "    htmls = []\n",
    "    for link in tqdm(links):\n",
    "        url = \"https://intern.ohmportal.de/\" + link\n",
    "        html = download_html_from_url(url)\n",
    "        htmls.append(html)\n",
    "    return htmls"
   ]
  },
  {
   "cell_type": "code",
   "execution_count": 154,
   "metadata": {},
   "outputs": [
    {
     "name": "stderr",
     "output_type": "stream",
     "text": [
      "  2%|▏         | 1/41 [00:00<00:16,  2.41it/s]"
     ]
    },
    {
     "name": "stdout",
     "output_type": "stream",
     "text": [
      "Umleitung zu externer Seite verhindert. URL: https://intern.ohmportal.de/seitenbaum/home/page.html\n"
     ]
    },
    {
     "name": "stderr",
     "output_type": "stream",
     "text": [
      " 20%|█▉        | 8/41 [00:02<00:08,  3.88it/s]"
     ]
    },
    {
     "name": "stdout",
     "output_type": "stream",
     "text": [
      "Umleitung zu externer Seite verhindert. URL: https://intern.ohmportal.de/institutionen/fakultaeten/elektrotechnik-feinwerktechnik-informationstechnik/elektrotechnik-feinwerktechnik-informationstechnik/page.html\n"
     ]
    },
    {
     "name": "stderr",
     "output_type": "stream",
     "text": [
      " 22%|██▏       | 9/41 [00:02<00:09,  3.48it/s]"
     ]
    },
    {
     "name": "stdout",
     "output_type": "stream",
     "text": [
      "Umleitung zu externer Seite verhindert. URL: https://intern.ohmportal.de/institutionen/fakultaeten/informatik/startseite-in-intranet/page.html\n"
     ]
    },
    {
     "name": "stderr",
     "output_type": "stream",
     "text": [
      " 27%|██▋       | 11/41 [00:05<00:32,  1.08s/it]"
     ]
    },
    {
     "name": "stdout",
     "output_type": "stream",
     "text": [
      "Umleitung zu externer Seite verhindert. URL: https://intern.ohmportal.de/institutionen/fakultaeten/sozialwissenschaften/startseite/page.html\n"
     ]
    },
    {
     "name": "stderr",
     "output_type": "stream",
     "text": [
      " 32%|███▏      | 13/41 [00:06<00:18,  1.50it/s]"
     ]
    },
    {
     "name": "stdout",
     "output_type": "stream",
     "text": [
      "Umleitung zu externer Seite verhindert. URL: https://intern.ohmportal.de/institutionen/fakultaeten/verfahrenstechnik/studierende/page.html\n"
     ]
    },
    {
     "name": "stderr",
     "output_type": "stream",
     "text": [
      " 41%|████▏     | 17/41 [00:07<00:12,  1.88it/s]"
     ]
    },
    {
     "name": "stdout",
     "output_type": "stream",
     "text": [
      "Umleitung zu externer Seite verhindert. URL: https://www.th-nuernberg.de/datenschutz/\n"
     ]
    },
    {
     "name": "stderr",
     "output_type": "stream",
     "text": [
      " 54%|█████▎    | 22/41 [00:09<00:07,  2.45it/s]"
     ]
    },
    {
     "name": "stdout",
     "output_type": "stream",
     "text": [
      "Umleitung zu externer Seite verhindert. URL: https://www.th-nuernberg.de/index.php?id=5744\n"
     ]
    },
    {
     "name": "stderr",
     "output_type": "stream",
     "text": [
      " 61%|██████    | 25/41 [00:10<00:07,  2.05it/s]"
     ]
    },
    {
     "name": "stdout",
     "output_type": "stream",
     "text": [
      "Kein Inhalt heruntergeladen. Statuscode: 404\n"
     ]
    },
    {
     "name": "stderr",
     "output_type": "stream",
     "text": [
      " 78%|███████▊  | 32/41 [00:12<00:03,  2.42it/s]"
     ]
    },
    {
     "name": "stdout",
     "output_type": "stream",
     "text": [
      "Umleitung zu externer Seite verhindert. URL: https://www.th-nuernberg.de/index.php?id=3275\n"
     ]
    },
    {
     "name": "stderr",
     "output_type": "stream",
     "text": [
      " 85%|████████▌ | 35/41 [00:17<00:08,  1.44s/it]"
     ]
    },
    {
     "name": "stdout",
     "output_type": "stream",
     "text": [
      "Umleitung zu externer Seite verhindert. URL: https://www.th-nuernberg.de/impressum/\n"
     ]
    },
    {
     "name": "stderr",
     "output_type": "stream",
     "text": [
      " 88%|████████▊ | 36/41 [00:18<00:06,  1.25s/it]"
     ]
    },
    {
     "name": "stdout",
     "output_type": "stream",
     "text": [
      "Umleitung zu externer Seite verhindert. URL: https://www.th-nuernberg.de/wie-erreichen-sie-uns/\n"
     ]
    },
    {
     "name": "stderr",
     "output_type": "stream",
     "text": [
      "100%|██████████| 41/41 [00:19<00:00,  2.05it/s]"
     ]
    },
    {
     "name": "stdout",
     "output_type": "stream",
     "text": [
      "Umleitung zu externer Seite verhindert. URL: https://www.th-nuernberg.de/unsere-beratungs-und-serviceangebote-fuer-sie/\n"
     ]
    },
    {
     "name": "stderr",
     "output_type": "stream",
     "text": [
      "\n"
     ]
    }
   ],
   "source": [
    "df[\"html\"]=download_all_urls(df[\"link\"])"
   ]
  },
  {
   "cell_type": "code",
   "execution_count": 115,
   "metadata": {},
   "outputs": [],
   "source": [
    "def remove_rows_with_empty_html(df):\n",
    "    df = df[df[\"html\"] != \"\"]  \n",
    "    df.reset_index(drop=True, inplace=True)\n",
    "    return df\n"
   ]
  },
  {
   "cell_type": "code",
   "execution_count": 155,
   "metadata": {},
   "outputs": [],
   "source": [
    "df = remove_rows_with_empty_html(df)"
   ]
  },
  {
   "cell_type": "code",
   "execution_count": 156,
   "metadata": {},
   "outputs": [
    {
     "name": "stdout",
     "output_type": "stream",
     "text": [
      "29\n"
     ]
    }
   ],
   "source": [
    "print(len(df))"
   ]
  },
  {
   "cell_type": "markdown",
   "metadata": {},
   "source": [
    "Nun sind 12 Reihen entfernt, die keinen HTML Inhalt hatten, da sie zum Beispiel auf eine andere Domäne verweisen wurden."
   ]
  },
  {
   "cell_type": "markdown",
   "metadata": {},
   "source": [
    "Wir können die Daten an dieser Stelle abspeichern."
   ]
  },
  {
   "cell_type": "code",
   "execution_count": 157,
   "metadata": {},
   "outputs": [],
   "source": [
    "db_save_df(df, \"intranet_html_iter_01\")"
   ]
  },
  {
   "cell_type": "markdown",
   "metadata": {},
   "source": [
    "### Weitere Iterationsstufen"
   ]
  },
  {
   "cell_type": "markdown",
   "metadata": {},
   "source": [
    "Wenn wir ab diesem Abschnitt starten können wir die vorher gesammelten Daten neu laden."
   ]
  },
  {
   "cell_type": "code",
   "execution_count": 202,
   "metadata": {},
   "outputs": [
    {
     "name": "stdout",
     "output_type": "stream",
     "text": [
      "29\n"
     ]
    }
   ],
   "source": [
    "df = db_get_df(\"intranet_html_iter_01\")\n",
    "print(len(df[\"link\"]))"
   ]
  },
  {
   "cell_type": "code",
   "execution_count": 203,
   "metadata": {},
   "outputs": [
    {
     "name": "stdout",
     "output_type": "stream",
     "text": [
      "29\n"
     ]
    }
   ],
   "source": [
    "non_none_html_rows = df[df[\"html\"].notnull()]  # Filtere die Zeilen, in denen \"html\" nicht \"None\" ist\n",
    "print(len(non_none_html_rows))"
   ]
  },
  {
   "cell_type": "markdown",
   "metadata": {},
   "source": [
    "Jetzt können wir die heruntergeladenen HTML files nach weiteren Links durchsuchen und Sie dem Dataframe hinzufügen"
   ]
  },
  {
   "cell_type": "code",
   "execution_count": 131,
   "metadata": {},
   "outputs": [],
   "source": [
    "def find_all_links_in_html(htmls):\n",
    "    all_links = []\n",
    "    for html in tqdm(htmls):\n",
    "        links = get_links_from_one_html(html)\n",
    "        links= clean_links(links)\n",
    "        links= remove_empty_links(links)\n",
    "        links= filter_intern_links(links)\n",
    "        [all_links.append(link) for link in links]\n",
    "    return all_links"
   ]
  },
  {
   "cell_type": "code",
   "execution_count": 204,
   "metadata": {},
   "outputs": [
    {
     "name": "stderr",
     "output_type": "stream",
     "text": [
      "100%|██████████| 29/29 [00:00<00:00, 134.88it/s]\n"
     ]
    },
    {
     "data": {
      "text/plain": [
       "979"
      ]
     },
     "execution_count": 204,
     "metadata": {},
     "output_type": "execute_result"
    }
   ],
   "source": [
    "all_links = find_all_links_in_html(df[\"html\"])\n",
    "len(all_links)"
   ]
  },
  {
   "cell_type": "markdown",
   "metadata": {},
   "source": [
    "Wir haben jetzt also 979 Links gesammelt, davon sind aber viele Dublikate."
   ]
  },
  {
   "cell_type": "markdown",
   "metadata": {},
   "source": [
    "Nun führen wir die neu gesammelten Links mit den ursprünglichen Links zusammen, wobei die neuen Links ein \"None\" Wert für die \"html\" Spalte bekommen."
   ]
  },
  {
   "cell_type": "code",
   "execution_count": 205,
   "metadata": {},
   "outputs": [],
   "source": [
    "df_new = pd.DataFrame({\"link\": all_links, \"html\": None})\n",
    "df = pd.concat([df, df_new])"
   ]
  },
  {
   "cell_type": "code",
   "execution_count": 206,
   "metadata": {},
   "outputs": [
    {
     "data": {
      "text/plain": [
       "285"
      ]
     },
     "execution_count": 206,
     "metadata": {},
     "output_type": "execute_result"
    }
   ],
   "source": [
    "df = sort_and_remove_dublicates(df)\n",
    "len(df[\"link\"])"
   ]
  },
  {
   "cell_type": "markdown",
   "metadata": {},
   "source": [
    "Gefiltert nach dublikaten haben wir nun also noch 285 Links"
   ]
  },
  {
   "cell_type": "code",
   "execution_count": 207,
   "metadata": {},
   "outputs": [
    {
     "name": "stdout",
     "output_type": "stream",
     "text": [
      "/seitenbaum/hochschule/oeffnungszeiten-der-hochschule/page.html /institutionen/zentrale-studienberatung/page.html /institutionen/zentrale-it/page.html /institutionen/fakultaeten/werkstofftechnik/page.html /seitenbaum/home/vermietungen/page.html /seitenbaum/home/technik-und-facility-management/page.html /seitenbaum/home/studienbuero/studierendenservicestudienbuero/page.html /seitenbaum/home/qualitaetsmanagement/page.html /seitenbaum/studierende/mein-studium/online-services/page.html /institutionen/fakultaeten/maschinenbau-und-versorgungstechnik/page.html /seitenbaum/home/lehr-und-kompetenzentwicklung/page.html /seitenbaum/home/page.html /institutionen/hochschulservice-fuer-familie-gleichstellung-und-gesundheit/page.html /seitenbaum/home/hochschulleitung/page.html /seitenbaum/home/hochschulkommunikation/page.html /seitenbaum/hochschule/page.html /seitenbaum/studierende/fuer-studierende/page.html /seitenbaum/lehrende-und-beschaeftigte/fuer-lehrende-und-beschaeftigte/page.html /seitenbaum/fakultaeten/page.html /institutionen/fakultaeten/design/page.html /seitenbaum/home/career-service/page.html /seitenbaum/home/bibliothek/page.html /institutionen/fakultaeten/betriebswirtschaft/page.html /institutionen/fakultaeten/bauingenieurwesen/page.html /institutionen/fakultaeten/architektur/page.html /seitenbaum/studierende/mein-studium/download-center/antraege-und-meldungen/page.html /institutionen/fakultaeten/angewandte-mathematik-physik-und-allgemeinwissenschaften/page.html /institutionen/fakultaeten/angewandte-chemie/page.html /seitenbaum/hilfe-in-notfaellen/page.html /seitenbaum/kontakt/page.html /seitenbaum/impressum/page.html /seitenbaum/datenschutz/page.html /institutionen/fakultaeten/page.html /institutionen/fakultaeten/angewandte-chemie/faq-studierende/page.html /institutionen/fakultaeten/angewandte-chemie/sitemap/page.html /institutionen/fakultaeten/angewandte-chemie/studierende/infos-zum-studiengang/bachelorstudiengang-angewandte-chemie/studienrichtungen/page.html /index.php /institutionen/fakultaeten/angewandte-mathematik-physik-und-allgemeinwissenschaften/dekanat/page.html /institutionen/fakultaeten/angewandte-mathematik-physik-und-allgemeinwissenschaften/personen/page.html /institutionen/fakultaeten/angewandte-mathematik-physik-und-allgemeinwissenschaften/studiengang-b-amp/page.html /institutionen/fakultaeten/angewandte-mathematik-physik-und-allgemeinwissenschaften/studiengang-m-amp/page.html /institutionen/fakultaeten/angewandte-mathematik-physik-und-allgemeinwissenschaften/studiengang-b-tj/page.html /institutionen/fakultaeten/angewandte-mathematik-physik-und-allgemeinwissenschaften/brueckenkurse/page.html /institutionen/fakultaeten/angewandte-mathematik-physik-und-allgemeinwissenschaften/internationalisierung/page.html /institutionen/fakultaeten/angewandte-mathematik-physik-und-allgemeinwissenschaften/it-services/page.html /institutionen/fakultaeten/angewandte-mathematik-physik-und-allgemeinwissenschaften/fachschaft/page.html /institutionen/fakultaeten/angewandte-mathematik-physik-und-allgemeinwissenschaften/kontakt-anfahrt-statistik/page.html /institutionen/fakultaeten/betriebswirtschaft/studienangebot/international-business-study-programs/bachelor-beng-international-business-and-technology/page.html /institutionen/language-center/page.html /institutionen/fakultaeten/angewandte-mathematik-physik-und-allgemeinwissenschaften/personen/prof-dr-bernd-braun/prof-dr-bernd-braun/unterlagen-zu-lehrveranstaltungen/praktikum/page.html /institutionen/fakultaeten/architektur/news-und-termine/page.html /institutionen/fakultaeten/architektur/intern/page.html /institutionen/fakultaeten/architektur/news-detail/article/7797//page.html /institutionen/fakultaeten/bauingenieurwesen/die-fakultaet/page.html /institutionen/fakultaeten/bauingenieurwesen/studium-und-lehre/page.html /institutionen/fakultaeten/bauingenieurwesen/forschung/page.html /institutionen/fakultaeten/bauingenieurwesen/jobs/page.html /institutionen/fakultaeten/bauingenieurwesen/bi-und-die-oeffentlichkeit/page.html /institutionen/fakultaeten/bauingenieurwesen/partner/page.html /institutionen/fakultaeten/bauingenieurwesen/fachschaft/page.html /institutionen/fakultaeten/bauingenieurwesen/foerder-und-alumniverein/page.html /institutionen/fakultaeten/bauingenieurwesen/nuetzliche-links/page.html /institutionen/fakultaeten/bauingenieurwesen/aktuelles/page.html /institutionen/fakultaeten/bauingenieurwesen/infodisplay/page.html /institutionen/fakultaeten/bauingenieurwesen/internet-fakultaet-bi/page.html /institutionen/fakultaeten/bauingenieurwesen/die-fakultaet/labore/verkehrswesen/wwwmobilohmde/vortragsreihe-verkehr-und-mobilitaet/page.html /institutionen/fakultaeten/betriebswirtschaft/online-services/page.html /institutionen/fakultaeten/betriebswirtschaft/einrichtungen/page.html /institutionen/fakultaeten/betriebswirtschaft/studienangebot/page.html /institutionen/fakultaeten/betriebswirtschaft/forschung/page.html /institutionen/fakultaeten/betriebswirtschaft/personen/page.html /institutionen/fakultaeten/betriebswirtschaft/alumni/page.html /institutionen/fakultaeten/betriebswirtschaft/kooperationen/page.html /institutionen/fakultaeten/betriebswirtschaft/lageplan-und-anfahrt/page.html /institutionen/fakultaeten/betriebswirtschaft/sitemap/page.html /institutionen/fakultaeten/betriebswirtschaft/online-services/news/page.html /institutionen/fakultaeten/betriebswirtschaft/studienangebot/steuerberatung/masterstudiengang-steuerberatung/page.html /institutionen/fakultaeten/betriebswirtschaft/studienangebot/international-business-study-programs/page.html /institutionen/fakultaeten/betriebswirtschaft/studienangebot/betriebswirtschaft/masterstudiengang-betriebswirtschaft/spezialisierungen/page.html /institutionen/fakultaeten/maschinenbau-und-versorgungstechnik/infoleiste/stundenplaene/page.html /institutionen/fakultaeten/maschinenbau-und-versorgungstechnik/infoleiste/sprechzeiten/page.html /institutionen/fakultaeten/maschinenbau-und-versorgungstechnik/infoleiste/tagesaktuelle-verlegungen/page.html /institutionen/fakultaeten/maschinenbau-und-versorgungstechnik/fakultaet/labore/rechnergestuetzte-konstruktion/page.html /institutionen/fakultaeten/maschinenbau-und-versorgungstechnik/fakultaet/studiengaenge/studierende/studium-aktuell/page.html /institutionen/fakultaeten/maschinenbau-und-versorgungstechnik/fakultaet/studiengaenge/studierende/vorschriften-und-unterlagen/page.html /institutionen/fakultaeten/maschinenbau-und-versorgungstechnik/fakultaet/studiengaenge/studierende/pruefungen/page.html /institutionen/fakultaeten/maschinenbau-und-versorgungstechnik/fakultaet/studiengaenge/studierende/praktika-projekte-exkursionen-und-abschlussarbeit/page.html /institutionen/fakultaeten/werkstofftechnik/studium/page.html /institutionen/hochschulservice-fuer-familie-gleichstellung-und-gesundheit/familienfreundliche-hochschule/page.html /institutionen/hochschulservice-fuer-familie-gleichstellung-und-gesundheit/gleichstellung-und-hochschulfrauenfoerderung/page.html /institutionen/hochschulservice-fuer-familie-gleichstellung-und-gesundheit/informationen-rund-um-die-situation-der-corona-pandemie/page.html /institutionen/hochschulservice-fuer-familie-gleichstellung-und-gesundheit/gesunde-hochschule/page.html /institutionen/zentrale-it/aktuelles/page.html /institutionen/zentrale-it/wir-ueber-uns/page.html /institutionen/zentrale-it/beratung/page.html /institutionen/zentrale-it/self-service-portal/page.html /institutionen/zentrale-it/labore/page.html /institutionen/zentrale-it/coworking-space/page.html /institutionen/zentrale-it/hard-software/page.html /institutionen/zentrale-it/ohmcard/page.html /institutionen/zentrale-it/groupware/page.html /institutionen/zentrale-it/contents/page.html /institutionen/zentrale-it/netz/page.html /institutionen/zentrale-it/vpn/page.html /institutionen/zentrale-it/dokumentationen/page.html /institutionen/zentrale-it/logins/page.html /institutionen/zentrale-it/shibboleth-sps/page.html /institutionen/zentrale-it/virtuohm/page.html /institutionen/zentrale-it/zertifikat-dfn-ca/page.html /institutionen/zentrale-it/wir-ueber-uns/mitarbeiter/page.html /institutionen/zentrale-it/wir-ueber-uns/adresse/page.html /institutionen/zentrale-it/wir-ueber-uns/lageplan/page.html /institutionen/zentrale-it/hard-software/software/page.html /institutionen/zentrale-it/hard-software/hardware/page.html /institutionen/zentrale-it/groupware/e-mail/page.html /institutionen/zentrale-it/groupware/kalender/page.html /institutionen/zentrale-it/groupware/collaboration/page.html /institutionen/zentrale-it/groupware/videokonferenzen/page.html /institutionen/zentrale-it/groupware/videokonferenzen/ms-teams/page.html /institutionen/zentrale-it/groupware/videokonferenzen/zoom/page.html /institutionen/zentrale-it/groupware/videokonferenzen/dfn-webkonferenzen/page.html /institutionen/zentrale-it/groupware/videokonferenzen/cgm-elvi/page.html /institutionen/zentrale-it/netz/eduroam/page.html /institutionen/zentrale-it/netz/bayernwlan/page.html /institutionen/zentrale-it/netz/lan-authentifizierung/page.html /institutionen/zentrale-it/dokumentationen/a-bis-z/page.html /institutionen/zentrale-it/dokumentationen/faqs/page.html /institutionen/zentrale-it/dokumentationen/it-servicekatalog/page.html /institutionen/zentrale-it/dokumentationen/zit-handbuch/page.html /institutionen/zentrale-it/logins/msad/page.html /institutionen/zentrale-it/logins/myohm/page.html /institutionen/zentrale-it/logins/myohmportal/page.html /no_cache/institutionen/zentrale-it/logins/shibboleth/page.html /institutionen/zentrale-it/wartungsmassnahmen/page.html /institutionen/zentrale-it/serviceverfuegbarkeit/page.html /institutionen/zentrale-studienberatung/infos-und-unterstuetzung-im-studium/page.html /institutionen/zentrale-studienberatung/weitere-ansprechpartner/page.html /seitenbaum/fakultaeten/angewandte-chemie/page.html /seitenbaum/fakultaeten/angewandte-mathematik-physik-und-allgemeinwissenschaften/page.html /seitenbaum/fakultaeten/architektur/page.html /seitenbaum/fakultaeten/bauingenieurwesen/page.html /seitenbaum/fakultaeten/betriebswirtschaft/page.html /seitenbaum/fakultaeten/design/page.html /seitenbaum/fakultaeten/elektrotechnik-feinwerktechnik-informationstechnik/elektrotechnik-feinwerktechnik-informationstechnik/page.html /seitenbaum/fakultaeten/informatik/startseite-in-intranet/page.html /seitenbaum/fakultaeten/maschinenbau-und-versorgungstechnik/page.html /seitenbaum/fakultaeten/sozialwissenschaften/startseite/page.html /seitenbaum/fakultaeten/verfahrenstechnik/studierende/page.html /seitenbaum/fakultaeten/werkstofftechnik/page.html /seitenbaum/fakultaeten/nuernberg-school-of-health/page.html /seitenbaum/fakultaeten/elektrotechnik-feinwerktechnik-informationstechnik/page.html /seitenbaum/fakultaeten/informatik/page.html /seitenbaum/fakultaeten/sozialwissenschaften/page.html /seitenbaum/fakultaeten/verfahrenstechnik/page.html /seitenbaum/hilfe-in-notfaellen/help-in-emergencies/page.html /seitenbaum/hochschule/forschung/page.html /seitenbaum/hochschule/lehre/page.html /seitenbaum/hochschule/internationales/page.html /seitenbaum/hochschule/organisation/page.html /seitenbaum/hochschule/profil/page.html /seitenbaum/hochschule/bilderschau-th-nuernberg/page.html /seitenbaum/hochschule/lageplan-und-anfahrt/page.html /seitenbaum/hochschule/organisation/beauftragte/behindertenbeauftragte/behindertenbeauftragte-fuer-studierende/page.html /institutionen/lageplan-und-anfahrt/k-standort-kesslerplatz/page.html /institutionen/career-service/kontakt/page.html /institutionen/lageplan-und-anfahrt/sc-standort-innere-cramer-klett-strasse/page.html /institutionen/technik-und-facility-management/info-point/page.html /institutionen/international-office/kontakt/page.html /institutionen/lageplan-und-anfahrt/w-standort-wassertorstrasse/page.html /institutionen/lageplan-und-anfahrt/sl-standort-laufertorgraben/page.html /institutionen/personalabteilung/personalmanagement-professoren/page.html /institutionen/fakultaeten/sozialwissenschaften/personen/archive/psychologische-beratung/page.html /institutionen/lageplan-und-anfahrt/b-standort-bahnhofstrasse/page.html /institutionen/fakultaeten/sozialwissenschaften/personen/archive/sekretariat/page.html /institutionen/technik-und-facility-management/infrastrukturelles-facility-management/page.html /institutionen/lageplan-und-anfahrt/h-standort-hohfederstrasse/page.html /seitenbaum/hochschule/profil/statistik/page.html /seitenbaum/hochschule/profil/auszeichnungen/page.html /seitenbaum/hochschule/profil/geschichte/page.html /seitenbaum/hochschule/profil/geschichte/biografie-georg-simon-ohm/page.html /seitenbaum/hochschule/profil/geschichte/geschichte-der-hochschule/page.html /seitenbaum/hochschule/profil/standortfaktor/page.html /seitenbaum/hochschule/profil/arbeitgeber/page.html /seitenbaum/hochschule/profil/statistik/wintersemester-20122013/page.html /seitenbaum/hochschule/profil/leitbild/page.html /seitenbaum/hochschule/organisation/hochschulleitung/page.html /seitenbaum/hochschule/organisation/gremien/page.html /seitenbaum/hochschule/organisation/administration-und-services/page.html /seitenbaum/home/allgemeinwissenschaftliche-wahl-wahlpflichtfaecher/page.html /seitenbaum/home/bibliothek/intern/page.html /seitenbaum/home/contacting/page.html /seitenbaum/home/studienfinanzierung/page.html /seitenbaum/home/bibliothek/intern/beirat-bibliothek/page.html /no_cache/seitenbaum/home/bibliothek/news-detail/article/13689//page.html /no_cache/seitenbaum/home/bibliothek/news-detail/article/10394//page.html /no_cache/seitenbaum/home/bibliothek/news-detail/article/13557//page.html /no_cache/seitenbaum/home/bibliothek/news-detail/article/13378//page.html /no_cache/seitenbaum/home/bibliothek/news-detail/article/12738//page.html /seitenbaum/home/career-service/seminarprogramm/page.html /seitenbaum/home/career-service/praxistage/page.html /seitenbaum/home/career-service/einzelberatung/page.html /seitenbaum/home/career-service/mediathek/page.html /seitenbaum/home/career-service/downloads/page.html /seitenbaum/home/career-service/publikationen-digital/page.html /seitenbaum/home/career-service/hochschuljobboerse/page.html /seitenbaum/home/career-service/messen-an-der-th-nuernberg/page.html /seitenbaum/home/career-service/externe-recruiting-events/page.html /seitenbaum/home/career-service/service-fuer-alumni/page.html /seitenbaum/home/career-service/kontakt/page.html /seitenbaum/home/career-service/unternehmen-bereiten-studierende-vor/page.html /seitenbaum/home/hochschulkommunikation/publikationen/page.html /seitenbaum/home/hochschulkommunikation/publikumsveranstaltungen/page.html /seitenbaum/home/hochschulkommunikation/interne-service-leistungen/page.html /seitenbaum/home/hochschulkommunikation/rss/page.html /seitenbaum/home/hochschulkommunikation/publikumsveranstaltungen/akademische-jahrfeier/page.html /seitenbaum/home/hochschulkommunikation/publikumsveranstaltungen/kinderuni/page.html /seitenbaum/home/hochschulkommunikation/publikumsveranstaltungen/lange-nacht-der-wissenschaften/page.html /institutionen/lageplan-und-anfahrt/page.html /seitenbaum/home/hochschulleitung/praesident/page.html /seitenbaum/home/hochschulleitung/vizepraesidenten/page.html /seitenbaum/home/hochschulleitung/kanzlerin/page.html /seitenbaum/home/hochschulleitung/justiziariat/page.html /seitenbaum/home/lehr-und-kompetenzentwicklung/ueber-uns/page.html /institutionen/fakultaeten/elektrotechnik-feinwerktechnik-informationstechnik/page.html /institutionen/fakultaeten/informatik/page.html /institutionen/fakultaeten/sozialwissenschaften/page.html /institutionen/fakultaeten/verfahrenstechnik/page.html /seitenbaum/studierende/rund-ums-studium/servicefinder/page.html /seitenbaum/home/qualitaetsmanagement/schulungstermine-zur-einfuehrung-ins-qm/page.html /seitenbaum/home/qualitaetsmanagement/schulungen-zur-vorbereitung-auf-die-externen-iso-audits/page.html /seitenbaum/home/qualitaetsmanagement/externe-iso-audittermine/page.html /seitenbaum/home/qualitaetsmanagement/interne-iso-audittermine/page.html /seitenbaum/studierende/studienorganisation/page.html /seitenbaum/home/studienbuero/pruefungsangelegenheiten/page.html /seitenbaum/home/studienbuero/praktikantenangelegenheiten/page.html /seitenbaum/home/technik-und-facility-management/technik-und-facility-management/page.html /seitenbaum/home/technik-und-facility-management/technische-leitung/page.html /seitenbaum/home/technik-und-facility-management/technisches-facility-management/page.html /seitenbaum/home/technik-und-facility-management/technische-dienste/page.html /seitenbaum/home/technik-und-facility-management/infrastrukturelles-facility-management/page.html /seitenbaum/home/technik-und-facility-management/info-point/page.html /seitenbaum/home/technik-und-facility-management/raumbelegung/page.html /seitenbaum/home/technik-und-facility-management/vermietungen/page.html /seitenbaum/home/technik-und-facility-management/telefonanlage-und-telefone/page.html /seitenbaum/home/technik-und-facility-management/parkhaus-bahnhofstr-80/page.html /seitenbaum/lehrende-und-beschaeftigte/mein-arbeitsumfeld/page.html /seitenbaum/lehrende-und-beschaeftigte/mein-arbeitsumfeld/anleitungen-und-ablaeufe/page.html /seitenbaum/lehrende-und-beschaeftigte/mein-arbeitsumfeld/ansprechpartner-und-beaufragte/page.html /seitenbaum/lehrende-und-beschaeftigte/mein-arbeitsumfeld/arbeitsunfaelle-und-dienstunfaelle/page.html /seitenbaum/lehrende-und-beschaeftigte/mein-arbeitsumfeld/bedrohungsmanagement/page.html /seitenbaum/lehrende-und-beschaeftigte/mein-arbeitsumfeld/datenschutz/page.html /seitenbaum/lehrende-und-beschaeftigte/mein-arbeitsumfeld/dienstvereinbarungen-und-richtlinien/page.html /seitenbaum/lehrende-und-beschaeftigte/mein-arbeitsumfeld/diskriminierung/page.html /seitenbaum/lehrende-und-beschaeftigte/mein-arbeitsumfeld/gleichstellung/page.html /seitenbaum/lehrende-und-beschaeftigte/mein-arbeitsumfeld/internationaler-campus-der-th-nuernberg/page.html /seitenbaum/lehrende-und-beschaeftigte/mein-arbeitsumfeld/interne-fortbildung/page.html /seitenbaum/lehrende-und-beschaeftigte/mein-arbeitsumfeld/korruptionspraevention/page.html /seitenbaum/lehrende-und-beschaeftigte/mein-arbeitsumfeld/language-center/page.html /seitenbaum/lehrende-und-beschaeftigte/mein-arbeitsumfeld/mitarbeitergespraeche/page.html /seitenbaum/lehrende-und-beschaeftigte/mein-arbeitsumfeld/rechtliche-grundlagen/page.html /seitenbaum/lehrende-und-beschaeftigte/mein-arbeitsumfeld/sicherheit-am-arbeitsplatz/page.html /seitenbaum/lehrende-und-beschaeftigte/services/page.html /institutionen/personalrat/page.html /seitenbaum/lehrende-und-beschaeftigte/neu-bei-uns/page.html /seitenbaum/lehrende-und-beschaeftigte/neu-bei-uns/erste-schritte/page.html /seitenbaum/lehrende-und-beschaeftigte/neu-bei-uns/einarbeitung/page.html /seitenbaum/lehrende-und-beschaeftigte/neu-bei-uns/leitbild/page.html /seitenbaum/lehrende-und-beschaeftigte/interne-news-und-events/news-detail/article/15352//page.html /seitenbaum/studierende/praktisches-studiensemester/page.html /seitenbaum/studierende/pruefungen/page.html /seitenbaum/studierende/lernen/page.html /seitenbaum/studierende/einrichtungen-beratung/page.html /seitenbaum/studierende/bedrohungsmanagement/page.html /seitenbaum/studierende/internationales/page.html /seitenbaum/studierende/studienfinanzierung/page.html /seitenbaum/studierende/erfolgreich-durchs-studium/page.html /seitenbaum/studierende/studentisches-leben/page.html /seitenbaum/studierende/wichtiges-zum-studienstart/page.html /seitenbaum/studierende/servicefinder/page.html /seitenbaum/studierende/studienorganisation/anerkennung-von-studien-und-pruefungsleistungen-und-anrechnung-von-ausserhalb-der-hochschule-erworbenen-kompetenzen/page.html /seitenbaum/studierende/mein-studium/online-services/zentrales-ohm-e-learning-portal/page.html /seitenbaum/studierende/mein-studium/online-services/virtuohm/page.html /seitenbaum/studierende/mein-studium/online-services/einschreibung-zu-lehrveranstaltungen/page.html /seitenbaum/studierende/mein-studium/online-services/e-mail-in-myohmportal/page.html /seitenbaum/studierende/mein-studium/online-services/language-center/page.html\n"
     ]
    }
   ],
   "source": [
    "print(*df[\"link\"])"
   ]
  },
  {
   "cell_type": "code",
   "execution_count": 141,
   "metadata": {},
   "outputs": [],
   "source": [
    "def print_unique_link_endings(df):\n",
    "    endings = set() \n",
    "    \n",
    "    for link in df[\"link\"]:\n",
    "        parts = link.split(\"/\") \n",
    "        if len(parts) > 0:\n",
    "            ending = parts[-1]  \n",
    "            endings.add(ending)\n",
    "    \n",
    "    for ending in endings:\n",
    "        print(ending)"
   ]
  },
  {
   "cell_type": "code",
   "execution_count": 177,
   "metadata": {},
   "outputs": [
    {
     "name": "stdout",
     "output_type": "stream",
     "text": [
      "page.html\n",
      "index.php\n"
     ]
    }
   ],
   "source": [
    "print_unique_link_endings(df)"
   ]
  },
  {
   "cell_type": "code",
   "execution_count": 208,
   "metadata": {},
   "outputs": [
    {
     "name": "stdout",
     "output_type": "stream",
     "text": [
      "29\n"
     ]
    }
   ],
   "source": [
    "non_none_html_rows = df[df[\"html\"].notnull()]  # Filtere die Zeilen, in denen \"html\" nicht \"None\" ist\n",
    "print(len(non_none_html_rows))"
   ]
  },
  {
   "cell_type": "markdown",
   "metadata": {},
   "source": [
    "### Iteratives Downloaden"
   ]
  },
  {
   "cell_type": "markdown",
   "metadata": {},
   "source": [
    "Um den Daten nun weitere Webseiten hinzuzufügen, können wir für jede weitere URL schauen, ob sie schon heruntergeladen wurde. Wenn nicht, dann laden wir sie jetzt herunter."
   ]
  },
  {
   "cell_type": "code",
   "execution_count": 209,
   "metadata": {},
   "outputs": [],
   "source": [
    "def update_df_with_html(df):\n",
    "    for index, row in tqdm(df.iterrows()):\n",
    "        if pd.isna(row['html']) or row['html'] == '':\n",
    "            url = \"https://intern.ohmportal.de/\" + row[\"link\"]\n",
    "            html = download_html_from_url(url)\n",
    "            df.at[index, 'html'] = html\n",
    "    \n",
    "    return df"
   ]
  },
  {
   "cell_type": "code",
   "execution_count": 166,
   "metadata": {},
   "outputs": [
    {
     "name": "stdout",
     "output_type": "stream",
     "text": [
      "link    /institutionen/fakultaeten/angewandte-chemie/f...\n",
      "html                                                 None\n",
      "Name: 2, dtype: object\n"
     ]
    }
   ],
   "source": [
    "print(df.loc[2])\n"
   ]
  },
  {
   "cell_type": "code",
   "execution_count": 210,
   "metadata": {},
   "outputs": [
    {
     "name": "stderr",
     "output_type": "stream",
     "text": [
      "30it [00:00, 35.88it/s]"
     ]
    },
    {
     "name": "stdout",
     "output_type": "stream",
     "text": [
      "Umleitung zu externer Seite verhindert. URL: https://www.th-nuernberg.de/wie-erreichen-sie-uns/\n",
      "Umleitung zu externer Seite verhindert. URL: https://www.th-nuernberg.de/impressum/\n",
      "Umleitung zu externer Seite verhindert. URL: https://www.th-nuernberg.de/datenschutz/\n"
     ]
    },
    {
     "name": "stderr",
     "output_type": "stream",
     "text": [
      "37it [00:06,  4.19it/s]"
     ]
    },
    {
     "name": "stdout",
     "output_type": "stream",
     "text": [
      "Umleitung zu externer Seite verhindert. URL: https://intern.ohmportal.de/seitenbaum/home/page.html\n"
     ]
    },
    {
     "name": "stderr",
     "output_type": "stream",
     "text": [
      "49it [00:17,  1.13it/s]"
     ]
    },
    {
     "name": "stdout",
     "output_type": "stream",
     "text": [
      "Umleitung zu externer Seite verhindert. URL: https://www.th-nuernberg.de/index.php?id=107\n"
     ]
    },
    {
     "name": "stderr",
     "output_type": "stream",
     "text": [
      "65it [00:29,  1.26it/s]"
     ]
    },
    {
     "name": "stdout",
     "output_type": "stream",
     "text": [
      "Umleitung zu externer Seite verhindert. URL: https://www.th-nuernberg.de/fakultaeten/bi/\n"
     ]
    },
    {
     "name": "stderr",
     "output_type": "stream",
     "text": [
      "66it [00:32,  2.04it/s]\n"
     ]
    },
    {
     "ename": "SSLError",
     "evalue": "HTTPSConnectionPool(host='apps.bw.ohmportal.de', port=443): Max retries exceeded with url: /bwAktuell/ (Caused by SSLError(SSLCertVerificationError(1, '[SSL: CERTIFICATE_VERIFY_FAILED] certificate verify failed: unable to get local issuer certificate (_ssl.c:1129)')))",
     "output_type": "error",
     "traceback": [
      "\u001b[1;31m---------------------------------------------------------------------------\u001b[0m",
      "\u001b[1;31mSSLCertVerificationError\u001b[0m                  Traceback (most recent call last)",
      "File \u001b[1;32mc:\\Users\\lizab\\projects\\Daibl\\daibl\\.venv\\lib\\site-packages\\urllib3\\connectionpool.py:467\u001b[0m, in \u001b[0;36mHTTPConnectionPool._make_request\u001b[1;34m(self, conn, method, url, body, headers, retries, timeout, chunked, response_conn, preload_content, decode_content, enforce_content_length)\u001b[0m\n\u001b[0;32m    466\u001b[0m \u001b[39mtry\u001b[39;00m:\n\u001b[1;32m--> 467\u001b[0m     \u001b[39mself\u001b[39;49m\u001b[39m.\u001b[39;49m_validate_conn(conn)\n\u001b[0;32m    468\u001b[0m \u001b[39mexcept\u001b[39;00m (SocketTimeout, BaseSSLError) \u001b[39mas\u001b[39;00m e:\n",
      "File \u001b[1;32mc:\\Users\\lizab\\projects\\Daibl\\daibl\\.venv\\lib\\site-packages\\urllib3\\connectionpool.py:1096\u001b[0m, in \u001b[0;36mHTTPSConnectionPool._validate_conn\u001b[1;34m(self, conn)\u001b[0m\n\u001b[0;32m   1095\u001b[0m \u001b[39mif\u001b[39;00m conn\u001b[39m.\u001b[39mis_closed:\n\u001b[1;32m-> 1096\u001b[0m     conn\u001b[39m.\u001b[39;49mconnect()\n\u001b[0;32m   1098\u001b[0m \u001b[39mif\u001b[39;00m \u001b[39mnot\u001b[39;00m conn\u001b[39m.\u001b[39mis_verified:\n",
      "File \u001b[1;32mc:\\Users\\lizab\\projects\\Daibl\\daibl\\.venv\\lib\\site-packages\\urllib3\\connection.py:642\u001b[0m, in \u001b[0;36mHTTPSConnection.connect\u001b[1;34m(self)\u001b[0m\n\u001b[0;32m    634\u001b[0m     warnings\u001b[39m.\u001b[39mwarn(\n\u001b[0;32m    635\u001b[0m         (\n\u001b[0;32m    636\u001b[0m             \u001b[39mf\u001b[39m\u001b[39m\"\u001b[39m\u001b[39mSystem time is way off (before \u001b[39m\u001b[39m{\u001b[39;00mRECENT_DATE\u001b[39m}\u001b[39;00m\u001b[39m). This will probably \u001b[39m\u001b[39m\"\u001b[39m\n\u001b[1;32m   (...)\u001b[0m\n\u001b[0;32m    639\u001b[0m         SystemTimeWarning,\n\u001b[0;32m    640\u001b[0m     )\n\u001b[1;32m--> 642\u001b[0m sock_and_verified \u001b[39m=\u001b[39m _ssl_wrap_socket_and_match_hostname(\n\u001b[0;32m    643\u001b[0m     sock\u001b[39m=\u001b[39;49msock,\n\u001b[0;32m    644\u001b[0m     cert_reqs\u001b[39m=\u001b[39;49m\u001b[39mself\u001b[39;49m\u001b[39m.\u001b[39;49mcert_reqs,\n\u001b[0;32m    645\u001b[0m     ssl_version\u001b[39m=\u001b[39;49m\u001b[39mself\u001b[39;49m\u001b[39m.\u001b[39;49mssl_version,\n\u001b[0;32m    646\u001b[0m     ssl_minimum_version\u001b[39m=\u001b[39;49m\u001b[39mself\u001b[39;49m\u001b[39m.\u001b[39;49mssl_minimum_version,\n\u001b[0;32m    647\u001b[0m     ssl_maximum_version\u001b[39m=\u001b[39;49m\u001b[39mself\u001b[39;49m\u001b[39m.\u001b[39;49mssl_maximum_version,\n\u001b[0;32m    648\u001b[0m     ca_certs\u001b[39m=\u001b[39;49m\u001b[39mself\u001b[39;49m\u001b[39m.\u001b[39;49mca_certs,\n\u001b[0;32m    649\u001b[0m     ca_cert_dir\u001b[39m=\u001b[39;49m\u001b[39mself\u001b[39;49m\u001b[39m.\u001b[39;49mca_cert_dir,\n\u001b[0;32m    650\u001b[0m     ca_cert_data\u001b[39m=\u001b[39;49m\u001b[39mself\u001b[39;49m\u001b[39m.\u001b[39;49mca_cert_data,\n\u001b[0;32m    651\u001b[0m     cert_file\u001b[39m=\u001b[39;49m\u001b[39mself\u001b[39;49m\u001b[39m.\u001b[39;49mcert_file,\n\u001b[0;32m    652\u001b[0m     key_file\u001b[39m=\u001b[39;49m\u001b[39mself\u001b[39;49m\u001b[39m.\u001b[39;49mkey_file,\n\u001b[0;32m    653\u001b[0m     key_password\u001b[39m=\u001b[39;49m\u001b[39mself\u001b[39;49m\u001b[39m.\u001b[39;49mkey_password,\n\u001b[0;32m    654\u001b[0m     server_hostname\u001b[39m=\u001b[39;49mserver_hostname,\n\u001b[0;32m    655\u001b[0m     ssl_context\u001b[39m=\u001b[39;49m\u001b[39mself\u001b[39;49m\u001b[39m.\u001b[39;49mssl_context,\n\u001b[0;32m    656\u001b[0m     tls_in_tls\u001b[39m=\u001b[39;49mtls_in_tls,\n\u001b[0;32m    657\u001b[0m     assert_hostname\u001b[39m=\u001b[39;49m\u001b[39mself\u001b[39;49m\u001b[39m.\u001b[39;49massert_hostname,\n\u001b[0;32m    658\u001b[0m     assert_fingerprint\u001b[39m=\u001b[39;49m\u001b[39mself\u001b[39;49m\u001b[39m.\u001b[39;49massert_fingerprint,\n\u001b[0;32m    659\u001b[0m )\n\u001b[0;32m    660\u001b[0m \u001b[39mself\u001b[39m\u001b[39m.\u001b[39msock \u001b[39m=\u001b[39m sock_and_verified\u001b[39m.\u001b[39msocket\n",
      "File \u001b[1;32mc:\\Users\\lizab\\projects\\Daibl\\daibl\\.venv\\lib\\site-packages\\urllib3\\connection.py:782\u001b[0m, in \u001b[0;36m_ssl_wrap_socket_and_match_hostname\u001b[1;34m(sock, cert_reqs, ssl_version, ssl_minimum_version, ssl_maximum_version, cert_file, key_file, key_password, ca_certs, ca_cert_dir, ca_cert_data, assert_hostname, assert_fingerprint, server_hostname, ssl_context, tls_in_tls)\u001b[0m\n\u001b[0;32m    780\u001b[0m         server_hostname \u001b[39m=\u001b[39m normalized\n\u001b[1;32m--> 782\u001b[0m ssl_sock \u001b[39m=\u001b[39m ssl_wrap_socket(\n\u001b[0;32m    783\u001b[0m     sock\u001b[39m=\u001b[39;49msock,\n\u001b[0;32m    784\u001b[0m     keyfile\u001b[39m=\u001b[39;49mkey_file,\n\u001b[0;32m    785\u001b[0m     certfile\u001b[39m=\u001b[39;49mcert_file,\n\u001b[0;32m    786\u001b[0m     key_password\u001b[39m=\u001b[39;49mkey_password,\n\u001b[0;32m    787\u001b[0m     ca_certs\u001b[39m=\u001b[39;49mca_certs,\n\u001b[0;32m    788\u001b[0m     ca_cert_dir\u001b[39m=\u001b[39;49mca_cert_dir,\n\u001b[0;32m    789\u001b[0m     ca_cert_data\u001b[39m=\u001b[39;49mca_cert_data,\n\u001b[0;32m    790\u001b[0m     server_hostname\u001b[39m=\u001b[39;49mserver_hostname,\n\u001b[0;32m    791\u001b[0m     ssl_context\u001b[39m=\u001b[39;49mcontext,\n\u001b[0;32m    792\u001b[0m     tls_in_tls\u001b[39m=\u001b[39;49mtls_in_tls,\n\u001b[0;32m    793\u001b[0m )\n\u001b[0;32m    795\u001b[0m \u001b[39mtry\u001b[39;00m:\n",
      "File \u001b[1;32mc:\\Users\\lizab\\projects\\Daibl\\daibl\\.venv\\lib\\site-packages\\urllib3\\util\\ssl_.py:470\u001b[0m, in \u001b[0;36mssl_wrap_socket\u001b[1;34m(sock, keyfile, certfile, cert_reqs, ca_certs, server_hostname, ssl_version, ciphers, ssl_context, ca_cert_dir, key_password, ca_cert_data, tls_in_tls)\u001b[0m\n\u001b[0;32m    468\u001b[0m     \u001b[39mpass\u001b[39;00m\n\u001b[1;32m--> 470\u001b[0m ssl_sock \u001b[39m=\u001b[39m _ssl_wrap_socket_impl(sock, context, tls_in_tls, server_hostname)\n\u001b[0;32m    471\u001b[0m \u001b[39mreturn\u001b[39;00m ssl_sock\n",
      "File \u001b[1;32mc:\\Users\\lizab\\projects\\Daibl\\daibl\\.venv\\lib\\site-packages\\urllib3\\util\\ssl_.py:514\u001b[0m, in \u001b[0;36m_ssl_wrap_socket_impl\u001b[1;34m(sock, ssl_context, tls_in_tls, server_hostname)\u001b[0m\n\u001b[0;32m    512\u001b[0m     \u001b[39mreturn\u001b[39;00m SSLTransport(sock, ssl_context, server_hostname)\n\u001b[1;32m--> 514\u001b[0m \u001b[39mreturn\u001b[39;00m ssl_context\u001b[39m.\u001b[39;49mwrap_socket(sock, server_hostname\u001b[39m=\u001b[39;49mserver_hostname)\n",
      "File \u001b[1;32mC:\\Program Files (x86)\\Microsoft Visual Studio\\Shared\\Python39_64\\lib\\ssl.py:501\u001b[0m, in \u001b[0;36mSSLContext.wrap_socket\u001b[1;34m(self, sock, server_side, do_handshake_on_connect, suppress_ragged_eofs, server_hostname, session)\u001b[0m\n\u001b[0;32m    495\u001b[0m \u001b[39mdef\u001b[39;00m \u001b[39mwrap_socket\u001b[39m(\u001b[39mself\u001b[39m, sock, server_side\u001b[39m=\u001b[39m\u001b[39mFalse\u001b[39;00m,\n\u001b[0;32m    496\u001b[0m                 do_handshake_on_connect\u001b[39m=\u001b[39m\u001b[39mTrue\u001b[39;00m,\n\u001b[0;32m    497\u001b[0m                 suppress_ragged_eofs\u001b[39m=\u001b[39m\u001b[39mTrue\u001b[39;00m,\n\u001b[0;32m    498\u001b[0m                 server_hostname\u001b[39m=\u001b[39m\u001b[39mNone\u001b[39;00m, session\u001b[39m=\u001b[39m\u001b[39mNone\u001b[39;00m):\n\u001b[0;32m    499\u001b[0m     \u001b[39m# SSLSocket class handles server_hostname encoding before it calls\u001b[39;00m\n\u001b[0;32m    500\u001b[0m     \u001b[39m# ctx._wrap_socket()\u001b[39;00m\n\u001b[1;32m--> 501\u001b[0m     \u001b[39mreturn\u001b[39;00m \u001b[39mself\u001b[39;49m\u001b[39m.\u001b[39;49msslsocket_class\u001b[39m.\u001b[39;49m_create(\n\u001b[0;32m    502\u001b[0m         sock\u001b[39m=\u001b[39;49msock,\n\u001b[0;32m    503\u001b[0m         server_side\u001b[39m=\u001b[39;49mserver_side,\n\u001b[0;32m    504\u001b[0m         do_handshake_on_connect\u001b[39m=\u001b[39;49mdo_handshake_on_connect,\n\u001b[0;32m    505\u001b[0m         suppress_ragged_eofs\u001b[39m=\u001b[39;49msuppress_ragged_eofs,\n\u001b[0;32m    506\u001b[0m         server_hostname\u001b[39m=\u001b[39;49mserver_hostname,\n\u001b[0;32m    507\u001b[0m         context\u001b[39m=\u001b[39;49m\u001b[39mself\u001b[39;49m,\n\u001b[0;32m    508\u001b[0m         session\u001b[39m=\u001b[39;49msession\n\u001b[0;32m    509\u001b[0m     )\n",
      "File \u001b[1;32mC:\\Program Files (x86)\\Microsoft Visual Studio\\Shared\\Python39_64\\lib\\ssl.py:1041\u001b[0m, in \u001b[0;36mSSLSocket._create\u001b[1;34m(cls, sock, server_side, do_handshake_on_connect, suppress_ragged_eofs, server_hostname, context, session)\u001b[0m\n\u001b[0;32m   1040\u001b[0m             \u001b[39mraise\u001b[39;00m \u001b[39mValueError\u001b[39;00m(\u001b[39m\"\u001b[39m\u001b[39mdo_handshake_on_connect should not be specified for non-blocking sockets\u001b[39m\u001b[39m\"\u001b[39m)\n\u001b[1;32m-> 1041\u001b[0m         \u001b[39mself\u001b[39;49m\u001b[39m.\u001b[39;49mdo_handshake()\n\u001b[0;32m   1042\u001b[0m \u001b[39mexcept\u001b[39;00m (\u001b[39mOSError\u001b[39;00m, \u001b[39mValueError\u001b[39;00m):\n",
      "File \u001b[1;32mC:\\Program Files (x86)\\Microsoft Visual Studio\\Shared\\Python39_64\\lib\\ssl.py:1310\u001b[0m, in \u001b[0;36mSSLSocket.do_handshake\u001b[1;34m(self, block)\u001b[0m\n\u001b[0;32m   1309\u001b[0m         \u001b[39mself\u001b[39m\u001b[39m.\u001b[39msettimeout(\u001b[39mNone\u001b[39;00m)\n\u001b[1;32m-> 1310\u001b[0m     \u001b[39mself\u001b[39;49m\u001b[39m.\u001b[39;49m_sslobj\u001b[39m.\u001b[39;49mdo_handshake()\n\u001b[0;32m   1311\u001b[0m \u001b[39mfinally\u001b[39;00m:\n",
      "\u001b[1;31mSSLCertVerificationError\u001b[0m: [SSL: CERTIFICATE_VERIFY_FAILED] certificate verify failed: unable to get local issuer certificate (_ssl.c:1129)",
      "\nDuring handling of the above exception, another exception occurred:\n",
      "\u001b[1;31mSSLError\u001b[0m                                  Traceback (most recent call last)",
      "File \u001b[1;32mc:\\Users\\lizab\\projects\\Daibl\\daibl\\.venv\\lib\\site-packages\\urllib3\\connectionpool.py:790\u001b[0m, in \u001b[0;36mHTTPConnectionPool.urlopen\u001b[1;34m(self, method, url, body, headers, retries, redirect, assert_same_host, timeout, pool_timeout, release_conn, chunked, body_pos, preload_content, decode_content, **response_kw)\u001b[0m\n\u001b[0;32m    789\u001b[0m \u001b[39m# Make the request on the HTTPConnection object\u001b[39;00m\n\u001b[1;32m--> 790\u001b[0m response \u001b[39m=\u001b[39m \u001b[39mself\u001b[39m\u001b[39m.\u001b[39m_make_request(\n\u001b[0;32m    791\u001b[0m     conn,\n\u001b[0;32m    792\u001b[0m     method,\n\u001b[0;32m    793\u001b[0m     url,\n\u001b[0;32m    794\u001b[0m     timeout\u001b[39m=\u001b[39mtimeout_obj,\n\u001b[0;32m    795\u001b[0m     body\u001b[39m=\u001b[39mbody,\n\u001b[0;32m    796\u001b[0m     headers\u001b[39m=\u001b[39mheaders,\n\u001b[0;32m    797\u001b[0m     chunked\u001b[39m=\u001b[39mchunked,\n\u001b[0;32m    798\u001b[0m     retries\u001b[39m=\u001b[39mretries,\n\u001b[0;32m    799\u001b[0m     response_conn\u001b[39m=\u001b[39mresponse_conn,\n\u001b[0;32m    800\u001b[0m     preload_content\u001b[39m=\u001b[39mpreload_content,\n\u001b[0;32m    801\u001b[0m     decode_content\u001b[39m=\u001b[39mdecode_content,\n\u001b[0;32m    802\u001b[0m     \u001b[39m*\u001b[39m\u001b[39m*\u001b[39mresponse_kw,\n\u001b[0;32m    803\u001b[0m )\n\u001b[0;32m    805\u001b[0m \u001b[39m# Everything went great!\u001b[39;00m\n",
      "File \u001b[1;32mc:\\Users\\lizab\\projects\\Daibl\\daibl\\.venv\\lib\\site-packages\\urllib3\\connectionpool.py:491\u001b[0m, in \u001b[0;36mHTTPConnectionPool._make_request\u001b[1;34m(self, conn, method, url, body, headers, retries, timeout, chunked, response_conn, preload_content, decode_content, enforce_content_length)\u001b[0m\n\u001b[0;32m    490\u001b[0m         new_e \u001b[39m=\u001b[39m _wrap_proxy_error(new_e, conn\u001b[39m.\u001b[39mproxy\u001b[39m.\u001b[39mscheme)\n\u001b[1;32m--> 491\u001b[0m     \u001b[39mraise\u001b[39;00m new_e\n\u001b[0;32m    493\u001b[0m \u001b[39m# conn.request() calls http.client.*.request, not the method in\u001b[39;00m\n\u001b[0;32m    494\u001b[0m \u001b[39m# urllib3.request. It also calls makefile (recv) on the socket.\u001b[39;00m\n",
      "\u001b[1;31mSSLError\u001b[0m: [SSL: CERTIFICATE_VERIFY_FAILED] certificate verify failed: unable to get local issuer certificate (_ssl.c:1129)",
      "\nThe above exception was the direct cause of the following exception:\n",
      "\u001b[1;31mMaxRetryError\u001b[0m                             Traceback (most recent call last)",
      "File \u001b[1;32mc:\\Users\\lizab\\projects\\Daibl\\daibl\\.venv\\lib\\site-packages\\requests\\adapters.py:486\u001b[0m, in \u001b[0;36mHTTPAdapter.send\u001b[1;34m(self, request, stream, timeout, verify, cert, proxies)\u001b[0m\n\u001b[0;32m    485\u001b[0m \u001b[39mtry\u001b[39;00m:\n\u001b[1;32m--> 486\u001b[0m     resp \u001b[39m=\u001b[39m conn\u001b[39m.\u001b[39;49murlopen(\n\u001b[0;32m    487\u001b[0m         method\u001b[39m=\u001b[39;49mrequest\u001b[39m.\u001b[39;49mmethod,\n\u001b[0;32m    488\u001b[0m         url\u001b[39m=\u001b[39;49murl,\n\u001b[0;32m    489\u001b[0m         body\u001b[39m=\u001b[39;49mrequest\u001b[39m.\u001b[39;49mbody,\n\u001b[0;32m    490\u001b[0m         headers\u001b[39m=\u001b[39;49mrequest\u001b[39m.\u001b[39;49mheaders,\n\u001b[0;32m    491\u001b[0m         redirect\u001b[39m=\u001b[39;49m\u001b[39mFalse\u001b[39;49;00m,\n\u001b[0;32m    492\u001b[0m         assert_same_host\u001b[39m=\u001b[39;49m\u001b[39mFalse\u001b[39;49;00m,\n\u001b[0;32m    493\u001b[0m         preload_content\u001b[39m=\u001b[39;49m\u001b[39mFalse\u001b[39;49;00m,\n\u001b[0;32m    494\u001b[0m         decode_content\u001b[39m=\u001b[39;49m\u001b[39mFalse\u001b[39;49;00m,\n\u001b[0;32m    495\u001b[0m         retries\u001b[39m=\u001b[39;49m\u001b[39mself\u001b[39;49m\u001b[39m.\u001b[39;49mmax_retries,\n\u001b[0;32m    496\u001b[0m         timeout\u001b[39m=\u001b[39;49mtimeout,\n\u001b[0;32m    497\u001b[0m         chunked\u001b[39m=\u001b[39;49mchunked,\n\u001b[0;32m    498\u001b[0m     )\n\u001b[0;32m    500\u001b[0m \u001b[39mexcept\u001b[39;00m (ProtocolError, \u001b[39mOSError\u001b[39;00m) \u001b[39mas\u001b[39;00m err:\n",
      "File \u001b[1;32mc:\\Users\\lizab\\projects\\Daibl\\daibl\\.venv\\lib\\site-packages\\urllib3\\connectionpool.py:844\u001b[0m, in \u001b[0;36mHTTPConnectionPool.urlopen\u001b[1;34m(self, method, url, body, headers, retries, redirect, assert_same_host, timeout, pool_timeout, release_conn, chunked, body_pos, preload_content, decode_content, **response_kw)\u001b[0m\n\u001b[0;32m    842\u001b[0m     new_e \u001b[39m=\u001b[39m ProtocolError(\u001b[39m\"\u001b[39m\u001b[39mConnection aborted.\u001b[39m\u001b[39m\"\u001b[39m, new_e)\n\u001b[1;32m--> 844\u001b[0m retries \u001b[39m=\u001b[39m retries\u001b[39m.\u001b[39;49mincrement(\n\u001b[0;32m    845\u001b[0m     method, url, error\u001b[39m=\u001b[39;49mnew_e, _pool\u001b[39m=\u001b[39;49m\u001b[39mself\u001b[39;49m, _stacktrace\u001b[39m=\u001b[39;49msys\u001b[39m.\u001b[39;49mexc_info()[\u001b[39m2\u001b[39;49m]\n\u001b[0;32m    846\u001b[0m )\n\u001b[0;32m    847\u001b[0m retries\u001b[39m.\u001b[39msleep()\n",
      "File \u001b[1;32mc:\\Users\\lizab\\projects\\Daibl\\daibl\\.venv\\lib\\site-packages\\urllib3\\util\\retry.py:515\u001b[0m, in \u001b[0;36mRetry.increment\u001b[1;34m(self, method, url, response, error, _pool, _stacktrace)\u001b[0m\n\u001b[0;32m    514\u001b[0m     reason \u001b[39m=\u001b[39m error \u001b[39mor\u001b[39;00m ResponseError(cause)\n\u001b[1;32m--> 515\u001b[0m     \u001b[39mraise\u001b[39;00m MaxRetryError(_pool, url, reason) \u001b[39mfrom\u001b[39;00m \u001b[39mreason\u001b[39;00m  \u001b[39m# type: ignore[arg-type]\u001b[39;00m\n\u001b[0;32m    517\u001b[0m log\u001b[39m.\u001b[39mdebug(\u001b[39m\"\u001b[39m\u001b[39mIncremented Retry for (url=\u001b[39m\u001b[39m'\u001b[39m\u001b[39m%s\u001b[39;00m\u001b[39m'\u001b[39m\u001b[39m): \u001b[39m\u001b[39m%r\u001b[39;00m\u001b[39m\"\u001b[39m, url, new_retry)\n",
      "\u001b[1;31mMaxRetryError\u001b[0m: HTTPSConnectionPool(host='apps.bw.ohmportal.de', port=443): Max retries exceeded with url: /bwAktuell/ (Caused by SSLError(SSLCertVerificationError(1, '[SSL: CERTIFICATE_VERIFY_FAILED] certificate verify failed: unable to get local issuer certificate (_ssl.c:1129)')))",
      "\nDuring handling of the above exception, another exception occurred:\n",
      "\u001b[1;31mSSLError\u001b[0m                                  Traceback (most recent call last)",
      "\u001b[1;32mc:\\Users\\lizab\\projects\\Daibl\\daibl\\discord_bot\\main\\scrap\\scraping\\data_scraping_intranet.ipynb Cell 73\u001b[0m line \u001b[0;36m1\n\u001b[1;32m----> <a href='vscode-notebook-cell:/c%3A/Users/lizab/projects/Daibl/daibl/discord_bot/main/scrap/scraping/data_scraping_intranet.ipynb#Y115sZmlsZQ%3D%3D?line=0'>1</a>\u001b[0m df \u001b[39m=\u001b[39m update_df_with_html(df)\n",
      "\u001b[1;32mc:\\Users\\lizab\\projects\\Daibl\\daibl\\discord_bot\\main\\scrap\\scraping\\data_scraping_intranet.ipynb Cell 73\u001b[0m line \u001b[0;36m5\n\u001b[0;32m      <a href='vscode-notebook-cell:/c%3A/Users/lizab/projects/Daibl/daibl/discord_bot/main/scrap/scraping/data_scraping_intranet.ipynb#Y115sZmlsZQ%3D%3D?line=2'>3</a>\u001b[0m     \u001b[39mif\u001b[39;00m pd\u001b[39m.\u001b[39misna(row[\u001b[39m'\u001b[39m\u001b[39mhtml\u001b[39m\u001b[39m'\u001b[39m]) \u001b[39mor\u001b[39;00m row[\u001b[39m'\u001b[39m\u001b[39mhtml\u001b[39m\u001b[39m'\u001b[39m] \u001b[39m==\u001b[39m \u001b[39m'\u001b[39m\u001b[39m'\u001b[39m:\n\u001b[0;32m      <a href='vscode-notebook-cell:/c%3A/Users/lizab/projects/Daibl/daibl/discord_bot/main/scrap/scraping/data_scraping_intranet.ipynb#Y115sZmlsZQ%3D%3D?line=3'>4</a>\u001b[0m         url \u001b[39m=\u001b[39m \u001b[39m\"\u001b[39m\u001b[39mhttps://intern.ohmportal.de/\u001b[39m\u001b[39m\"\u001b[39m \u001b[39m+\u001b[39m row[\u001b[39m\"\u001b[39m\u001b[39mlink\u001b[39m\u001b[39m\"\u001b[39m]\n\u001b[1;32m----> <a href='vscode-notebook-cell:/c%3A/Users/lizab/projects/Daibl/daibl/discord_bot/main/scrap/scraping/data_scraping_intranet.ipynb#Y115sZmlsZQ%3D%3D?line=4'>5</a>\u001b[0m         html \u001b[39m=\u001b[39m download_html_from_url(url)\n\u001b[0;32m      <a href='vscode-notebook-cell:/c%3A/Users/lizab/projects/Daibl/daibl/discord_bot/main/scrap/scraping/data_scraping_intranet.ipynb#Y115sZmlsZQ%3D%3D?line=5'>6</a>\u001b[0m         df\u001b[39m.\u001b[39mat[index, \u001b[39m'\u001b[39m\u001b[39mhtml\u001b[39m\u001b[39m'\u001b[39m] \u001b[39m=\u001b[39m html\n\u001b[0;32m      <a href='vscode-notebook-cell:/c%3A/Users/lizab/projects/Daibl/daibl/discord_bot/main/scrap/scraping/data_scraping_intranet.ipynb#Y115sZmlsZQ%3D%3D?line=7'>8</a>\u001b[0m \u001b[39mreturn\u001b[39;00m df\n",
      "\u001b[1;32mc:\\Users\\lizab\\projects\\Daibl\\daibl\\discord_bot\\main\\scrap\\scraping\\data_scraping_intranet.ipynb Cell 73\u001b[0m line \u001b[0;36m2\n\u001b[0;32m      <a href='vscode-notebook-cell:/c%3A/Users/lizab/projects/Daibl/daibl/discord_bot/main/scrap/scraping/data_scraping_intranet.ipynb#Y115sZmlsZQ%3D%3D?line=0'>1</a>\u001b[0m \u001b[39mdef\u001b[39;00m \u001b[39mdownload_html_from_url\u001b[39m(url):\n\u001b[1;32m----> <a href='vscode-notebook-cell:/c%3A/Users/lizab/projects/Daibl/daibl/discord_bot/main/scrap/scraping/data_scraping_intranet.ipynb#Y115sZmlsZQ%3D%3D?line=1'>2</a>\u001b[0m     res \u001b[39m=\u001b[39m requests\u001b[39m.\u001b[39;49mget(url)\n\u001b[0;32m      <a href='vscode-notebook-cell:/c%3A/Users/lizab/projects/Daibl/daibl/discord_bot/main/scrap/scraping/data_scraping_intranet.ipynb#Y115sZmlsZQ%3D%3D?line=2'>3</a>\u001b[0m     html \u001b[39m=\u001b[39m \u001b[39m\"\u001b[39m\u001b[39m\"\u001b[39m\n\u001b[0;32m      <a href='vscode-notebook-cell:/c%3A/Users/lizab/projects/Daibl/daibl/discord_bot/main/scrap/scraping/data_scraping_intranet.ipynb#Y115sZmlsZQ%3D%3D?line=4'>5</a>\u001b[0m     \u001b[39mif\u001b[39;00m res\u001b[39m.\u001b[39mstatus_code \u001b[39m==\u001b[39m \u001b[39m200\u001b[39m:\n\u001b[0;32m      <a href='vscode-notebook-cell:/c%3A/Users/lizab/projects/Daibl/daibl/discord_bot/main/scrap/scraping/data_scraping_intranet.ipynb#Y115sZmlsZQ%3D%3D?line=5'>6</a>\u001b[0m         \u001b[39m# Überprüfen, ob die URL nach dem Umleiten noch zur ursprünglichen Domäne gehört\u001b[39;00m\n",
      "File \u001b[1;32mc:\\Users\\lizab\\projects\\Daibl\\daibl\\.venv\\lib\\site-packages\\requests\\api.py:73\u001b[0m, in \u001b[0;36mget\u001b[1;34m(url, params, **kwargs)\u001b[0m\n\u001b[0;32m     62\u001b[0m \u001b[39mdef\u001b[39;00m \u001b[39mget\u001b[39m(url, params\u001b[39m=\u001b[39m\u001b[39mNone\u001b[39;00m, \u001b[39m*\u001b[39m\u001b[39m*\u001b[39mkwargs):\n\u001b[0;32m     63\u001b[0m \u001b[39m    \u001b[39m\u001b[39mr\u001b[39m\u001b[39m\"\"\"Sends a GET request.\u001b[39;00m\n\u001b[0;32m     64\u001b[0m \n\u001b[0;32m     65\u001b[0m \u001b[39m    :param url: URL for the new :class:`Request` object.\u001b[39;00m\n\u001b[1;32m   (...)\u001b[0m\n\u001b[0;32m     70\u001b[0m \u001b[39m    :rtype: requests.Response\u001b[39;00m\n\u001b[0;32m     71\u001b[0m \u001b[39m    \"\"\"\u001b[39;00m\n\u001b[1;32m---> 73\u001b[0m     \u001b[39mreturn\u001b[39;00m request(\u001b[39m\"\u001b[39m\u001b[39mget\u001b[39m\u001b[39m\"\u001b[39m, url, params\u001b[39m=\u001b[39mparams, \u001b[39m*\u001b[39m\u001b[39m*\u001b[39mkwargs)\n",
      "File \u001b[1;32mc:\\Users\\lizab\\projects\\Daibl\\daibl\\.venv\\lib\\site-packages\\requests\\api.py:59\u001b[0m, in \u001b[0;36mrequest\u001b[1;34m(method, url, **kwargs)\u001b[0m\n\u001b[0;32m     55\u001b[0m \u001b[39m# By using the 'with' statement we are sure the session is closed, thus we\u001b[39;00m\n\u001b[0;32m     56\u001b[0m \u001b[39m# avoid leaving sockets open which can trigger a ResourceWarning in some\u001b[39;00m\n\u001b[0;32m     57\u001b[0m \u001b[39m# cases, and look like a memory leak in others.\u001b[39;00m\n\u001b[0;32m     58\u001b[0m \u001b[39mwith\u001b[39;00m sessions\u001b[39m.\u001b[39mSession() \u001b[39mas\u001b[39;00m session:\n\u001b[1;32m---> 59\u001b[0m     \u001b[39mreturn\u001b[39;00m session\u001b[39m.\u001b[39mrequest(method\u001b[39m=\u001b[39mmethod, url\u001b[39m=\u001b[39murl, \u001b[39m*\u001b[39m\u001b[39m*\u001b[39mkwargs)\n",
      "File \u001b[1;32mc:\\Users\\lizab\\projects\\Daibl\\daibl\\.venv\\lib\\site-packages\\requests\\sessions.py:589\u001b[0m, in \u001b[0;36mSession.request\u001b[1;34m(self, method, url, params, data, headers, cookies, files, auth, timeout, allow_redirects, proxies, hooks, stream, verify, cert, json)\u001b[0m\n\u001b[0;32m    584\u001b[0m send_kwargs \u001b[39m=\u001b[39m {\n\u001b[0;32m    585\u001b[0m     \u001b[39m\"\u001b[39m\u001b[39mtimeout\u001b[39m\u001b[39m\"\u001b[39m: timeout,\n\u001b[0;32m    586\u001b[0m     \u001b[39m\"\u001b[39m\u001b[39mallow_redirects\u001b[39m\u001b[39m\"\u001b[39m: allow_redirects,\n\u001b[0;32m    587\u001b[0m }\n\u001b[0;32m    588\u001b[0m send_kwargs\u001b[39m.\u001b[39mupdate(settings)\n\u001b[1;32m--> 589\u001b[0m resp \u001b[39m=\u001b[39m \u001b[39mself\u001b[39m\u001b[39m.\u001b[39msend(prep, \u001b[39m*\u001b[39m\u001b[39m*\u001b[39msend_kwargs)\n\u001b[0;32m    591\u001b[0m \u001b[39mreturn\u001b[39;00m resp\n",
      "File \u001b[1;32mc:\\Users\\lizab\\projects\\Daibl\\daibl\\.venv\\lib\\site-packages\\requests\\sessions.py:725\u001b[0m, in \u001b[0;36mSession.send\u001b[1;34m(self, request, **kwargs)\u001b[0m\n\u001b[0;32m    722\u001b[0m \u001b[39mif\u001b[39;00m allow_redirects:\n\u001b[0;32m    723\u001b[0m     \u001b[39m# Redirect resolving generator.\u001b[39;00m\n\u001b[0;32m    724\u001b[0m     gen \u001b[39m=\u001b[39m \u001b[39mself\u001b[39m\u001b[39m.\u001b[39mresolve_redirects(r, request, \u001b[39m*\u001b[39m\u001b[39m*\u001b[39mkwargs)\n\u001b[1;32m--> 725\u001b[0m     history \u001b[39m=\u001b[39m [resp \u001b[39mfor\u001b[39;00m resp \u001b[39min\u001b[39;00m gen]\n\u001b[0;32m    726\u001b[0m \u001b[39melse\u001b[39;00m:\n\u001b[0;32m    727\u001b[0m     history \u001b[39m=\u001b[39m []\n",
      "File \u001b[1;32mc:\\Users\\lizab\\projects\\Daibl\\daibl\\.venv\\lib\\site-packages\\requests\\sessions.py:725\u001b[0m, in \u001b[0;36m<listcomp>\u001b[1;34m(.0)\u001b[0m\n\u001b[0;32m    722\u001b[0m \u001b[39mif\u001b[39;00m allow_redirects:\n\u001b[0;32m    723\u001b[0m     \u001b[39m# Redirect resolving generator.\u001b[39;00m\n\u001b[0;32m    724\u001b[0m     gen \u001b[39m=\u001b[39m \u001b[39mself\u001b[39m\u001b[39m.\u001b[39mresolve_redirects(r, request, \u001b[39m*\u001b[39m\u001b[39m*\u001b[39mkwargs)\n\u001b[1;32m--> 725\u001b[0m     history \u001b[39m=\u001b[39m [resp \u001b[39mfor\u001b[39;00m resp \u001b[39min\u001b[39;00m gen]\n\u001b[0;32m    726\u001b[0m \u001b[39melse\u001b[39;00m:\n\u001b[0;32m    727\u001b[0m     history \u001b[39m=\u001b[39m []\n",
      "File \u001b[1;32mc:\\Users\\lizab\\projects\\Daibl\\daibl\\.venv\\lib\\site-packages\\requests\\sessions.py:266\u001b[0m, in \u001b[0;36mSessionRedirectMixin.resolve_redirects\u001b[1;34m(self, resp, req, stream, timeout, verify, cert, proxies, yield_requests, **adapter_kwargs)\u001b[0m\n\u001b[0;32m    263\u001b[0m     \u001b[39myield\u001b[39;00m req\n\u001b[0;32m    264\u001b[0m \u001b[39melse\u001b[39;00m:\n\u001b[1;32m--> 266\u001b[0m     resp \u001b[39m=\u001b[39m \u001b[39mself\u001b[39m\u001b[39m.\u001b[39msend(\n\u001b[0;32m    267\u001b[0m         req,\n\u001b[0;32m    268\u001b[0m         stream\u001b[39m=\u001b[39mstream,\n\u001b[0;32m    269\u001b[0m         timeout\u001b[39m=\u001b[39mtimeout,\n\u001b[0;32m    270\u001b[0m         verify\u001b[39m=\u001b[39mverify,\n\u001b[0;32m    271\u001b[0m         cert\u001b[39m=\u001b[39mcert,\n\u001b[0;32m    272\u001b[0m         proxies\u001b[39m=\u001b[39mproxies,\n\u001b[0;32m    273\u001b[0m         allow_redirects\u001b[39m=\u001b[39m\u001b[39mFalse\u001b[39;00m,\n\u001b[0;32m    274\u001b[0m         \u001b[39m*\u001b[39m\u001b[39m*\u001b[39madapter_kwargs,\n\u001b[0;32m    275\u001b[0m     )\n\u001b[0;32m    277\u001b[0m     extract_cookies_to_jar(\u001b[39mself\u001b[39m\u001b[39m.\u001b[39mcookies, prepared_request, resp\u001b[39m.\u001b[39mraw)\n\u001b[0;32m    279\u001b[0m     \u001b[39m# extract redirect url, if any, for the next loop\u001b[39;00m\n",
      "File \u001b[1;32mc:\\Users\\lizab\\projects\\Daibl\\daibl\\.venv\\lib\\site-packages\\requests\\sessions.py:703\u001b[0m, in \u001b[0;36mSession.send\u001b[1;34m(self, request, **kwargs)\u001b[0m\n\u001b[0;32m    700\u001b[0m start \u001b[39m=\u001b[39m preferred_clock()\n\u001b[0;32m    702\u001b[0m \u001b[39m# Send the request\u001b[39;00m\n\u001b[1;32m--> 703\u001b[0m r \u001b[39m=\u001b[39m adapter\u001b[39m.\u001b[39msend(request, \u001b[39m*\u001b[39m\u001b[39m*\u001b[39mkwargs)\n\u001b[0;32m    705\u001b[0m \u001b[39m# Total elapsed time of the request (approximately)\u001b[39;00m\n\u001b[0;32m    706\u001b[0m elapsed \u001b[39m=\u001b[39m preferred_clock() \u001b[39m-\u001b[39m start\n",
      "File \u001b[1;32mc:\\Users\\lizab\\projects\\Daibl\\daibl\\.venv\\lib\\site-packages\\requests\\adapters.py:517\u001b[0m, in \u001b[0;36mHTTPAdapter.send\u001b[1;34m(self, request, stream, timeout, verify, cert, proxies)\u001b[0m\n\u001b[0;32m    513\u001b[0m         \u001b[39mraise\u001b[39;00m ProxyError(e, request\u001b[39m=\u001b[39mrequest)\n\u001b[0;32m    515\u001b[0m     \u001b[39mif\u001b[39;00m \u001b[39misinstance\u001b[39m(e\u001b[39m.\u001b[39mreason, _SSLError):\n\u001b[0;32m    516\u001b[0m         \u001b[39m# This branch is for urllib3 v1.22 and later.\u001b[39;00m\n\u001b[1;32m--> 517\u001b[0m         \u001b[39mraise\u001b[39;00m SSLError(e, request\u001b[39m=\u001b[39mrequest)\n\u001b[0;32m    519\u001b[0m     \u001b[39mraise\u001b[39;00m \u001b[39mConnectionError\u001b[39;00m(e, request\u001b[39m=\u001b[39mrequest)\n\u001b[0;32m    521\u001b[0m \u001b[39mexcept\u001b[39;00m ClosedPoolError \u001b[39mas\u001b[39;00m e:\n",
      "\u001b[1;31mSSLError\u001b[0m: HTTPSConnectionPool(host='apps.bw.ohmportal.de', port=443): Max retries exceeded with url: /bwAktuell/ (Caused by SSLError(SSLCertVerificationError(1, '[SSL: CERTIFICATE_VERIFY_FAILED] certificate verify failed: unable to get local issuer certificate (_ssl.c:1129)')))"
     ]
    }
   ],
   "source": [
    "df = update_df_with_html(df)"
   ]
  },
  {
   "cell_type": "code",
   "execution_count": 211,
   "metadata": {},
   "outputs": [
    {
     "name": "stdout",
     "output_type": "stream",
     "text": [
      "/institutionen/fakultaeten/betriebswirtschaft/online-services/page.html\n"
     ]
    }
   ],
   "source": [
    "print(df[\"link\"][66])"
   ]
  },
  {
   "cell_type": "markdown",
   "metadata": {},
   "source": [
    "### Iterationen"
   ]
  },
  {
   "cell_type": "markdown",
   "metadata": {},
   "source": [
    "\n",
    "1. Iteration: Startseite TH-Intranet (~300 Links)\n",
    "2. Iteration: Links von startseite aufrufen und HTML scrapen (~2000 Links)\n",
    "3. Iteration: Links von diesen Seiten aufrufen und HTML scrapen (~ Links)"
   ]
  },
  {
   "cell_type": "code",
   "execution_count": null,
   "metadata": {},
   "outputs": [],
   "source": [
    "def iteration(df):\n",
    "    all_links = find_all_links_in_html(df[\"html\"])\n",
    "    df_new = pd.DataFrame({\"link\": all_links, \"html\": None})\n",
    "    df = pd.concat([df, df_new])\n",
    "    df = sort_and_remove_dublicates(df)\n",
    "    df=update_df_with_html(df)\n",
    "    return df"
   ]
  },
  {
   "cell_type": "code",
   "execution_count": null,
   "metadata": {},
   "outputs": [],
   "source": [
    "df=iteration(df)"
   ]
  },
  {
   "cell_type": "markdown",
   "metadata": {},
   "source": [
    "### Texte extrahieren"
   ]
  },
  {
   "cell_type": "markdown",
   "metadata": {},
   "source": [
    "Als nächstes müssen wir aus den rohen HTML Dokumenten die unrelevanten Daten aussortieren"
   ]
  },
  {
   "cell_type": "code",
   "execution_count": null,
   "metadata": {},
   "outputs": [],
   "source": [
    "df = db_get_df(\"html_iter_01\")"
   ]
  },
  {
   "cell_type": "markdown",
   "metadata": {},
   "source": [
    "Die nachfolgende Funktion bestimmt, ob ein Beautifulsoup geparstes HTML Element sichtbar ist oder nicht."
   ]
  },
  {
   "cell_type": "code",
   "execution_count": null,
   "metadata": {},
   "outputs": [],
   "source": [
    "def tag_visible(element):\n",
    "    if element.parent.name in ['style', 'script', 'head', 'title', 'meta', '[document]']:\n",
    "        return False\n",
    "    if isinstance(element, Comment):\n",
    "        return False\n",
    "    return True"
   ]
  },
  {
   "cell_type": "markdown",
   "metadata": {},
   "source": [
    "Jetzt bestimmen wir eine Funktion, die ein HTML als Input bekommt und daraus die Texte und Titeln bestimmt.\n",
    "\n",
    "Die HTML Seiten haben 3 verschiedene Strukturen:\n",
    "\n",
    "- \"main\" (https://www.th-nuernberg.de/hochschule-region/organisation-und-struktur/hochschulleitung-und-gremien/)\n",
    "- \"div\", {'class': 'portal'} (https://www.th-nuernberg.de/fakultaeten/bi/)\n",
    "- \"div\", {'class': 'page-wrap'} (https://www.th-nuernberg.de/studium-karriere/studien-und-bildungsangebot/duale-studienmodelle/studium-mit-vertiefter-praxis/)"
   ]
  },
  {
   "cell_type": "code",
   "execution_count": null,
   "metadata": {},
   "outputs": [],
   "source": [
    "def get_content(file):\n",
    "    soup = BeautifulSoup(file,\"lxml\")\n",
    "\n",
    "    title = soup.find(\"title\")\n",
    "    if title:\n",
    "        title = title.text\n",
    "    else:\n",
    "        title = \"\"\n",
    "\n",
    "    main = soup.find(\"main\")\n",
    "    portal = soup.find(\"div\", {'class': 'portal'})\n",
    "    page_container = soup.find(\"div\", {'class': 'page-wrap'})\n",
    "    \n",
    "    visible_texts = \"\"\n",
    "    if main:\n",
    "        container = main.find(\"div\" ,{'class': 'container'}, recursive=False)\n",
    "        if container:\n",
    "            texts = container.find_all(text=True)\n",
    "            visible_texts = filter(tag_visible, texts)\n",
    "\n",
    "    elif portal:\n",
    "        texts = portal.find_all(text=True)\n",
    "        visible_texts = filter(tag_visible, texts)\n",
    "\n",
    "    elif page_container:\n",
    "        container = page_container.find(\"div\" ,{'class': 'container'}, recursive=False)\n",
    "        if container:\n",
    "            texts = container.find_all(text=True)\n",
    "            visible_texts = filter(tag_visible, texts)\n",
    "\n",
    "    return {\n",
    "        \"title\":    title,\n",
    "        \"text\":     u\" \".join(t.strip() for t in visible_texts)\n",
    "    }"
   ]
  },
  {
   "cell_type": "markdown",
   "metadata": {},
   "source": [
    "Nun speichern wir die Texte sowie die dazugehörigen Titeln in den Dataframe."
   ]
  },
  {
   "cell_type": "code",
   "execution_count": null,
   "metadata": {},
   "outputs": [],
   "source": [
    "parsed_texts = []\n",
    "titles = []\n",
    "for html in tqdm(df[\"html\"]):\n",
    "    content = get_content(html)\n",
    "    parsed_texts.append(content[\"text\"])\n",
    "    titles.append(content[\"title\"])\n",
    "\n",
    "df[\"text\"] = parsed_texts\n",
    "df[\"title\"] = titles"
   ]
  },
  {
   "cell_type": "code",
   "execution_count": null,
   "metadata": {},
   "outputs": [],
   "source": [
    "\n",
    "print(df[df[\"text\"] != \"\"][\"url\"])"
   ]
  },
  {
   "cell_type": "code",
   "execution_count": null,
   "metadata": {},
   "outputs": [],
   "source": [
    "db_save_df(df, \"html_attribute\")"
   ]
  }
 ],
 "metadata": {
  "kernelspec": {
   "display_name": ".venv",
   "language": "python",
   "name": "python3"
  },
  "language_info": {
   "codemirror_mode": {
    "name": "ipython",
    "version": 3
   },
   "file_extension": ".py",
   "mimetype": "text/x-python",
   "name": "python",
   "nbconvert_exporter": "python",
   "pygments_lexer": "ipython3",
   "version": "3.9.13"
  }
 },
 "nbformat": 4,
 "nbformat_minor": 2
}
