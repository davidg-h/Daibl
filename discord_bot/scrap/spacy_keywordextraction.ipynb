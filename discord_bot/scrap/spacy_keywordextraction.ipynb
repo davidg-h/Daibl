{
 "cells": [
  {
   "cell_type": "code",
   "execution_count": null,
   "metadata": {},
   "outputs": [],
   "source": [
    "import pandas as pd\n",
    "import sqlite3"
   ]
  },
  {
   "cell_type": "code",
   "execution_count": 7,
   "metadata": {},
   "outputs": [
    {
     "ename": "ModuleNotFoundError",
     "evalue": "No module named 'spacy'",
     "output_type": "error",
     "traceback": [
      "\u001b[0;31m---------------------------------------------------------------------------\u001b[0m",
      "\u001b[0;31mModuleNotFoundError\u001b[0m                       Traceback (most recent call last)",
      "Cell \u001b[0;32mIn[7], line 1\u001b[0m\n\u001b[0;32m----> 1\u001b[0m \u001b[39mimport\u001b[39;00m \u001b[39mspacy\u001b[39;00m\n\u001b[1;32m      3\u001b[0m nlp \u001b[39m=\u001b[39m spacy\u001b[39m.\u001b[39mload(\u001b[39m'\u001b[39m\u001b[39mde_core_news_sm\u001b[39m\u001b[39m'\u001b[39m)\n\u001b[1;32m      5\u001b[0m text \u001b[39m=\u001b[39m \u001b[39m\"\u001b[39m\u001b[39mWo finde ich den Raum KA.404\u001b[39m\u001b[39m\"\u001b[39m\n",
      "\u001b[0;31mModuleNotFoundError\u001b[0m: No module named 'spacy'"
     ]
    }
   ],
   "source": [
    "import spacy\n",
    "\n",
    "nlp = spacy.load('de_core_news_sm')\n",
    "\n",
    "text = \"Wo finde ich den Raum KA.404\"\n",
    "doc = nlp(text)\n",
    "\n",
    "nouns = [token.text for token in doc if token.pos_ == 'NOUN']\n",
    "entities = [ent.text for ent in doc.ents]\n",
    "\n"
   ]
  },
  {
   "cell_type": "code",
   "execution_count": null,
   "metadata": {},
   "outputs": [],
   "source": [
    "database = 'html.sqlite'\n",
    "sql = \"\"\"\n",
    "SELECT filename, title, text\n",
    "FROM html_attrs\n",
    "\"\"\"\n",
    "\n",
    "con = sqlite3.connect(database)\n",
    "html_df = pd.read_sql_query(sql, con)\n",
    "con.close()\n",
    "\n",
    "html_df.dtypes"
   ]
  },
  {
   "cell_type": "code",
   "execution_count": null,
   "metadata": {},
   "outputs": [],
   "source": [
    "outputs = []\n",
    "for entity in entities:\n",
    "    output = output + [text for text in html_df[\"text\"] if entity in text][:5]"
   ]
  },
  {
   "cell_type": "code",
   "execution_count": 9,
   "metadata": {},
   "outputs": [
    {
     "name": "stdout",
     "output_type": "stream",
     "text": [
      "The current virtual environment name is: daibl\n"
     ]
    }
   ],
   "source": [
    "import os\n",
    "\n",
    "def get_venv_name():\n",
    "    venv_path = os.getenv(\"VIRTUAL_ENV\")\n",
    "    if venv_path:\n",
    "        # Extract the name of the virtual environment from its path\n",
    "        venv_name = os.path.basename(venv_path)\n",
    "        return venv_name\n",
    "    else:\n",
    "        return None\n",
    "\n",
    "# Call the function to get the venv name\n",
    "venv_name = get_venv_name()\n",
    "\n",
    "if venv_name:\n",
    "    print(f\"The current virtual environment name is: {venv_name}\")\n",
    "else:\n",
    "    print(\"No virtual environment found. Make sure you are inside a virtual environment.\")"
   ]
  }
 ],
 "metadata": {
  "kernelspec": {
   "display_name": "base",
   "language": "python",
   "name": "python3"
  },
  "language_info": {
   "codemirror_mode": {
    "name": "ipython",
    "version": 3
   },
   "file_extension": ".py",
   "mimetype": "text/x-python",
   "name": "python",
   "nbconvert_exporter": "python",
   "pygments_lexer": "ipython3",
   "version": "3.11.4"
  },
  "orig_nbformat": 4
 },
 "nbformat": 4,
 "nbformat_minor": 2
}
